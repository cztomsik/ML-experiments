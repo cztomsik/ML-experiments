{
 "cells": [
  {
   "cell_type": "code",
   "execution_count": 1,
   "metadata": {},
   "outputs": [],
   "source": [
    "import torch\n",
    "import torch.nn as nn\n",
    "import torch.nn.functional as F\n",
    "\n",
    "class GPT(nn.Module):\n",
    "    def __init__(self, vocab_size, block_size=256, embed_dim=64, num_layers=4):\n",
    "        super().__init__()\n",
    "        self.block_size = block_size\n",
    "        self.transformer = nn.Sequential(\n",
    "            nn.Embedding(vocab_size, embed_dim),\n",
    "            nn.Sequential(*[Layer(embed_dim) for _ in range(num_layers)]),\n",
    "            nn.LayerNorm(embed_dim),\n",
    "        )\n",
    "        self.lm_head = nn.Linear(embed_dim, vocab_size, bias=False)\n",
    "    \n",
    "    def forward(self, x):\n",
    "        return self.lm_head(self.transformer(x))\n",
    "\n",
    "class Layer(nn.Module):\n",
    "    def __init__(self, embed_dim):\n",
    "        super().__init__()\n",
    "        self.ln1 = nn.LayerNorm(embed_dim)\n",
    "        self.q = nn.Linear(embed_dim, embed_dim, bias=False)\n",
    "        self.v = nn.Linear(embed_dim, embed_dim, bias=False)\n",
    "        self.proj = nn.Linear(embed_dim, embed_dim, bias=False)\n",
    "        self.ln2 = nn.LayerNorm(embed_dim)\n",
    "        self.mlp = nn.Sequential(\n",
    "            nn.Linear(embed_dim, 4 * embed_dim),\n",
    "            nn.GELU(approximate=\"tanh\"),\n",
    "            nn.Linear(4 * embed_dim, embed_dim),\n",
    "        )\n",
    "        self.proj = nn.Linear(embed_dim, embed_dim, bias=False)\n",
    "\n",
    "    def forward(self, x):\n",
    "        B, T, C = x.shape\n",
    "        xn = self.ln1(x)\n",
    "        q = torch.sigmoid(self.q(xn))\n",
    "        v = self.v(F.pad(xn, (0, 0, 1, -1)))\n",
    "        attn = torch.fft.ifft(torch.fft.fft(q) * torch.fft.fft(v).conj()).real\n",
    "\n",
    "        x = x + attn\n",
    "        x = x + self.mlp(self.ln2(x))\n",
    "        return x"
   ]
  },
  {
   "cell_type": "code",
   "execution_count": 2,
   "metadata": {},
   "outputs": [
    {
     "name": "stderr",
     "output_type": "stream",
     "text": [
      "/Users/cztomsik/miniconda3/envs/torch-mps/lib/python3.10/site-packages/tqdm/auto.py:22: TqdmWarning: IProgress not found. Please update jupyter and ipywidgets. See https://ipywidgets.readthedocs.io/en/stable/user_install.html\n",
      "  from .autonotebook import tqdm as notebook_tqdm\n",
      "Found cached dataset tiny_shakespeare (/Users/cztomsik/.cache/huggingface/datasets/tiny_shakespeare/default/1.0.0/b5b13969f09fe8707337f6cb296314fbe06960bd9a868dca39e713e163d27b5e)\n",
      "100%|██████████| 3/3 [00:00<00:00, 764.55it/s]\n",
      "Global seed set to 89026614\n",
      "GPU available: True (mps), used: False\n",
      "TPU available: False, using: 0 TPU cores\n",
      "IPU available: False, using: 0 IPUs\n",
      "HPU available: False, using: 0 HPUs\n",
      "/Users/cztomsik/miniconda3/envs/torch-mps/lib/python3.10/site-packages/lightning/pytorch/trainer/setup.py:200: UserWarning: MPS available but not used. Set `accelerator` and `devices` using `Trainer(accelerator='mps', devices=1)`.\n",
      "  rank_zero_warn(\n",
      "/Users/cztomsik/miniconda3/envs/torch-mps/lib/python3.10/site-packages/lightning/pytorch/trainer/connectors/logger_connector/logger_connector.py:67: UserWarning: Starting from v1.9.0, `tensorboardX` has been removed as a dependency of the `lightning.pytorch` package, due to potential conflicts with other packages in the ML ecosystem. For this reason, `logger=True` will use `CSVLogger` as the default logger, unless the `tensorboard` or `tensorboardX` packages are found. Please `pip install lightning[extra]` or one of them to enable TensorBoard support by default\n",
      "  warning_cache.warn(\n",
      "\n",
      "  | Name  | Type | Params\n",
      "-------------------------------\n",
      "0 | model | GPT  | 190 K \n",
      "-------------------------------\n",
      "190 K     Trainable params\n",
      "0         Non-trainable params\n",
      "190 K     Total params\n",
      "0.764     Total estimated model params size (MB)\n"
     ]
    },
    {
     "name": "stdout",
     "output_type": "stream",
     "text": [
      "Sanity Checking DataLoader 0: 100%|██████████| 2/2 [00:00<00:00, 18.82it/s]And nowArdqUJrmGGVyWierSYeY3O$,bvFh:imqlew JjDr,v&CXel&$IiJ!GcvjAcINfe!\n",
      "                                                                           "
     ]
    },
    {
     "name": "stderr",
     "output_type": "stream",
     "text": [
      "/Users/cztomsik/miniconda3/envs/torch-mps/lib/python3.10/site-packages/lightning/pytorch/trainer/connectors/data_connector.py:224: PossibleUserWarning: The dataloader, val_dataloader 0, does not have many workers which may be a bottleneck. Consider increasing the value of the `num_workers` argument` (try 8 which is the number of cpus on this machine) in the `DataLoader` init to improve performance.\n",
      "  rank_zero_warn(\n",
      "/Users/cztomsik/miniconda3/envs/torch-mps/lib/python3.10/site-packages/lightning/pytorch/trainer/connectors/data_connector.py:224: PossibleUserWarning: The dataloader, train_dataloader, does not have many workers which may be a bottleneck. Consider increasing the value of the `num_workers` argument` (try 8 which is the number of cpus on this machine) in the `DataLoader` init to improve performance.\n",
      "  rank_zero_warn(\n"
     ]
    },
    {
     "name": "stdout",
     "output_type": "stream",
     "text": [
      "Epoch 0: 100%|██████████| 202/202 [00:22<00:00,  8.86it/s, loss=1.58, v_num=125]And now so her our cellentlemember in\n",
      "Stranys hath woman:\n",
      "I am holdes,\n",
      "\n",
      "Epoch 1: 100%|██████████| 202/202 [00:23<00:00,  8.71it/s, loss=1.48, v_num=125, test_loss=1.750]And now;\n",
      "Then more sorrow, sustle claif the grace\n",
      "Of must did how that \n",
      "Epoch 2: 100%|██████████| 202/202 [00:23<00:00,  8.67it/s, loss=1.45, v_num=125, test_loss=1.600]And now; which we man chair too saint.\n",
      "\n",
      "First Senator:\n",
      "I would sweeted.\n",
      "Epoch 3: 100%|██████████| 202/202 [00:23<00:00,  8.50it/s, loss=1.42, v_num=125, test_loss=1.510]And now her well; to consented at thy good for a fie hight!\n",
      "In amend wh\n",
      "Epoch 4: 100%|██████████| 202/202 [00:23<00:00,  8.71it/s, loss=1.39, v_num=125, test_loss=1.480]And now I his steed;\n",
      "Which conspiracious she born.\n",
      "\n",
      "MERCUTIO:\n",
      "Nay, my f\n",
      "Epoch 5: 100%|██████████| 202/202 [00:24<00:00,  8.31it/s, loss=1.38, v_num=125, test_loss=1.450]And now my breaths, that the wrong? and the plucks alike, that warrant \n",
      "Epoch 6: 100%|██████████| 202/202 [00:23<00:00,  8.61it/s, loss=1.37, v_num=125, test_loss=1.440]And now twenty mother will,\n",
      "That already and fear\n",
      "From your can we may \n",
      "Epoch 7: 100%|██████████| 202/202 [00:23<00:00,  8.73it/s, loss=1.36, v_num=125, test_loss=1.430]And now fond wish think'st,\n",
      "Whom them to the prophe--\n",
      "I am all be wipe \n",
      "Epoch 8: 100%|██████████| 202/202 [00:22<00:00,  8.81it/s, loss=1.35, v_num=125, test_loss=1.450]And now that I, sir. What the good:\n",
      "Then I cousin?\n",
      "\n",
      "PERDITA:\n",
      "Is alike t\n",
      "Epoch 9: 100%|██████████| 202/202 [00:24<00:00,  8.22it/s, loss=1.34, v_num=125, test_loss=1.430]And now\n",
      "To stand strived me\n",
      "As for his father well.\n",
      "\n",
      "DUKE VINCENTIO:\n",
      "Al\n",
      "Epoch 10: 100%|██████████| 202/202 [00:23<00:00,  8.50it/s, loss=1.34, v_num=125, test_loss=1.420]And now thou write hither sun; a gentleman!\n",
      "\n",
      "DUKE VINCENTIO:\n",
      "A satiiho,\n",
      "Epoch 11: 100%|██████████| 202/202 [00:23<00:00,  8.57it/s, loss=1.34, v_num=125, test_loss=1.420]And now! wilt we have they say 'scape a willing friar,\n",
      "And severence, t\n",
      "Epoch 12: 100%|██████████| 202/202 [00:23<00:00,  8.46it/s, loss=1.32, v_num=125, test_loss=1.400]And now.\n",
      "\n",
      "SOMERSET:\n",
      "Hasting to loss of calamillo's state before lie the\n",
      "Epoch 13: 100%|██████████| 202/202 [00:24<00:00,  8.39it/s, loss=1.33, v_num=125, test_loss=1.400]And now, as I to rasours\n",
      "To way as his. Titus,\n",
      "Hath to his chould be co\n",
      "Epoch 14: 100%|██████████| 202/202 [00:23<00:00,  8.59it/s, loss=1.32, v_num=125, test_loss=1.410]And now, my lords she brief by him innocentio.\n",
      "\n",
      "DUKE VINCENTIO:\n",
      "Why foo\n",
      "Epoch 15: 100%|██████████| 202/202 [00:24<00:00,  8.16it/s, loss=1.32, v_num=125, test_loss=1.420]And now his for my mean, I will be, white would have send tell him wond\n",
      "Epoch 16: 100%|██████████| 202/202 [00:25<00:00,  8.08it/s, loss=1.32, v_num=125, test_loss=1.380]And now,\n",
      "May nothing in welcome, more be speech you, be show'd,\n",
      "And lie\n",
      "Epoch 17: 100%|██████████| 202/202 [00:25<00:00,  7.99it/s, loss=1.3, v_num=125, test_loss=1.400] And now to plantle salves and say'st then, he loss of mine own with the\n",
      "Epoch 18: 100%|██████████| 202/202 [00:25<00:00,  7.84it/s, loss=1.31, v_num=125, test_loss=1.400]And now off again;\n",
      "Or shame set of my son, and tell have now! how were \n",
      "Epoch 19: 100%|██████████| 202/202 [00:26<00:00,  7.76it/s, loss=1.3, v_num=125, test_loss=1.400] And now, there but where were bottom of their one side\n",
      "The certain'd to\n",
      "Epoch 20: 100%|██████████| 202/202 [00:25<00:00,  7.78it/s, loss=1.29, v_num=125, test_loss=1.380]And now abroach\n",
      "To confess, to plucker, marry; that wandering world to \n",
      "Epoch 21: 100%|██████████| 202/202 [00:25<00:00,  7.82it/s, loss=1.3, v_num=125, test_loss=1.400] And now a looker:\n",
      "My Lord of then a master his baseness of the first:\n",
      "H\n",
      "Epoch 22: 100%|██████████| 202/202 [00:25<00:00,  7.84it/s, loss=1.28, v_num=125, test_loss=1.390]And now far the would I some heart\n",
      "But I seek thou thereof,\n",
      "And in't.\n",
      "A\n",
      "Epoch 23: 100%|██████████| 202/202 [00:25<00:00,  7.88it/s, loss=1.28, v_num=125, test_loss=1.390]And now antic indeed our count the heart;\n",
      "If this pensio, I hope strong\n",
      "Epoch 24: 100%|██████████| 202/202 [00:25<00:00,  7.79it/s, loss=1.28, v_num=125, test_loss=1.390]And now?\n",
      "This in hand,\n",
      "Thou cheeks me thee\n",
      "To partial welcome,--\n",
      "For wi\n",
      "Epoch 24: 100%|██████████| 202/202 [00:26<00:00,  7.76it/s, loss=1.28, v_num=125, test_loss=1.400]"
     ]
    },
    {
     "name": "stderr",
     "output_type": "stream",
     "text": [
      "`Trainer.fit` stopped: `max_epochs=25` reached.\n"
     ]
    },
    {
     "name": "stdout",
     "output_type": "stream",
     "text": [
      "Epoch 24: 100%|██████████| 202/202 [00:26<00:00,  7.76it/s, loss=1.28, v_num=125, test_loss=1.400]\n"
     ]
    }
   ],
   "source": [
    "import lightning as pl\n",
    "from shared import corpus, tokenizers, trainers\n",
    "\n",
    "text = corpus.shakespeare()\n",
    "tokenizer = tokenizers.unique_chars(text)\n",
    "\n",
    "pl.seed_everything(89026614)\n",
    "model = GPT(tokenizer.get_vocab_size())\n",
    "trainer = trainers.CausalTrainer(model, tokenizer, device = \"cpu\")\n",
    "trainer.train(text, batch_size=36, epochs=25)"
   ]
  },
  {
   "cell_type": "code",
   "execution_count": 3,
   "metadata": {},
   "outputs": [
    {
     "name": "stdout",
     "output_type": "stream",
     "text": [
      "O God, O God!\n",
      "\n",
      "Lord:\n",
      "My walk not seem they\n",
      "Whereon the foul another, star, with me,\n",
      "If spear than his\n",
      "from my sudden sightst the his such sword,\n",
      "Than to help me,\n",
      "In brough I do children, sir; I have hold thee her own rewards or they\n",
      "become to the foolishment of our agirst Watchman:\n",
      "He hath nor son should supposed; though so he wish'd with so taken,\n",
      "To bething shalt did now is all me,\n",
      "My fair sigh wither, which heavy seems by woman:\n",
      "Would I know you art a horse!'\n",
      "Somerns first Citizen:\n",
      "No, somethought we heard wong woman.\n",
      "\n",
      "LUCIO:\n",
      "Why dost thou shall never hither one hunt that do not\n",
      "Betuity.\n",
      "To die.\n",
      "\n",
      "Second Servingman:\n",
      "Whither, and both: it is the most gen\n"
     ]
    }
   ],
   "source": [
    "print(trainer.wrapper.generate(\"O God, O God!\", 650))"
   ]
  }
 ],
 "metadata": {
  "kernelspec": {
   "display_name": "torch-mps",
   "language": "python",
   "name": "python3"
  },
  "language_info": {
   "codemirror_mode": {
    "name": "ipython",
    "version": 3
   },
   "file_extension": ".py",
   "mimetype": "text/x-python",
   "name": "python",
   "nbconvert_exporter": "python",
   "pygments_lexer": "ipython3",
   "version": "3.10.9"
  },
  "orig_nbformat": 4,
  "vscode": {
   "interpreter": {
    "hash": "0b771c8f4755fba7026a17ac6ea0287a4709b89559dd079886423c614dfd53ce"
   }
  }
 },
 "nbformat": 4,
 "nbformat_minor": 2
}

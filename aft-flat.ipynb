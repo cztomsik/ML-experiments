{
 "cells": [
  {
   "cell_type": "code",
   "execution_count": 170,
   "metadata": {},
   "outputs": [
    {
     "name": "stderr",
     "output_type": "stream",
     "text": [
      "Global seed set to 89026614\n",
      "Found cached dataset tiny_shakespeare (/Users/cztomsik/.cache/huggingface/datasets/tiny_shakespeare/default/1.0.0/b5b13969f09fe8707337f6cb296314fbe06960bd9a868dca39e713e163d27b5e)\n",
      "100%|██████████| 3/3 [00:00<00:00, 1033.33it/s]\n"
     ]
    }
   ],
   "source": [
    "import torch\n",
    "import torch.nn as nn\n",
    "import torch.nn.functional as F\n",
    "import torch.utils.data as data\n",
    "import pytorch_lightning as pl\n",
    "import datasets\n",
    "import numpy as np\n",
    "\n",
    "pl.seed_everything(89026614)\n",
    "\n",
    "text = datasets.load_dataset('tiny_shakespeare')[\"train\"][0][\"text\"]\n",
    "#text = open('../../Downloads/simplebooks/simplebooks-2-raw/train.txt', 'r').read()"
   ]
  },
  {
   "cell_type": "code",
   "execution_count": 171,
   "metadata": {},
   "outputs": [],
   "source": [
    "device = \"cpu\"\n",
    "block_size = 100\n",
    "\n",
    "class MyDataset(data.Dataset):\n",
    "    def __init__(self, text):\n",
    "        super().__init__()\n",
    "        vocab = sorted(set(text))\n",
    "        self.vocab = vocab\n",
    "        self.stoi = { ch: i for i, ch in enumerate(vocab) }\n",
    "        self.itos = { i: ch for i, ch in enumerate(vocab) }\n",
    "        self.data = torch.tensor([self.stoi[ch] for ch in text], dtype=torch.long).to(device)\n",
    "\n",
    "    def __len__(self):\n",
    "        return self.data.size(0) - block_size - 1\n",
    "\n",
    "    def __getitem__(self, i):\n",
    "        end = i + block_size\n",
    "        return self.data[i:end], self.data[i + 1:end + 1]\n",
    "\n",
    "dataset = MyDataset(text)\n",
    "train = data.Subset(dataset, range(0, len(dataset) - 500))\n",
    "test = data.Subset(dataset, range(len(dataset) - 500, len(dataset)))"
   ]
  },
  {
   "cell_type": "code",
   "execution_count": 172,
   "metadata": {},
   "outputs": [
    {
     "name": "stderr",
     "output_type": "stream",
     "text": [
      "GPU available: False, used: False\n",
      "TPU available: False, using: 0 TPU cores\n",
      "IPU available: False, using: 0 IPUs\n",
      "HPU available: False, using: 0 HPUs\n",
      "\n",
      "  | Name  | Type   | Params\n",
      "---------------------------------\n",
      "0 | model | MinGPT | 1.4 M \n",
      "---------------------------------\n",
      "1.4 M     Trainable params\n",
      "0         Non-trainable params\n",
      "1.4 M     Total params\n",
      "5.432     Total estimated model params size (MB)\n"
     ]
    },
    {
     "name": "stdout",
     "output_type": "stream",
     "text": [
      "Sanity Checking DataLoader 0: 100%|██████████| 2/2 [00:00<00:00, 44.24it/s]And now &uZJlByjL&mutnE;!lIeug ?BDnVGUPFthAQAx-iafozWS&HjfxAIE3N.C3NQ\n",
      "gB\n",
      "Epoch 0: 100%|██████████| 82/82 [00:17<00:00,  4.59it/s, loss=2.24, v_num=284]And now too a be prine, and her, me seill wole flowstad: to breaver' hil\n",
      "Epoch 1: 100%|██████████| 82/82 [00:18<00:00,  4.52it/s, loss=1.91, v_num=284, test_loss=2.110]And now thy see by me.\n",
      "\n",
      "DUKE VILLA:\n",
      "In my hims way, my feeld show my sin\n",
      "Epoch 2: 100%|██████████| 82/82 [00:18<00:00,  4.54it/s, loss=1.76, v_num=284, test_loss=1.920]And now is signed;\n",
      "What so most one.\n",
      "\n",
      "First shall which as indies, and m\n",
      "Epoch 3: 100%|██████████| 82/82 [00:17<00:00,  4.57it/s, loss=1.67, v_num=284, test_loss=1.820]And now bance these to heard.\n",
      "\n",
      "GLOUCESTER:\n",
      "And stry a purgers: the sacki\n",
      "Epoch 4: 100%|██████████| 82/82 [00:17<00:00,  4.59it/s, loss=1.62, v_num=284, test_loss=1.700]And now the barry'st that much, which which.\n",
      "\n",
      "LORGARET:\n",
      "What mercia, and\n",
      "Epoch 5: 100%|██████████| 82/82 [00:18<00:00,  4.53it/s, loss=1.58, v_num=284, test_loss=1.610]And now steep!\n",
      "But what your wounder me soun and in they.\n",
      "\n",
      "POLIXENES:\n",
      "No\n",
      "Epoch 6: 100%|██████████| 82/82 [00:17<00:00,  4.59it/s, loss=1.55, v_num=284, test_loss=1.580]And now will my lord?\n",
      "\n",
      "CLAUDIO:\n",
      "O, which is she would may you we have my\n",
      "Epoch 7: 100%|██████████| 82/82 [00:17<00:00,  4.60it/s, loss=1.52, v_num=284, test_loss=1.580]And now talty, then, hark;\n",
      "Then which, say he drap, so some in, he' is f\n",
      "Epoch 8: 100%|██████████| 82/82 [00:17<00:00,  4.60it/s, loss=1.51, v_num=284, test_loss=1.500]And now be sword for the dead,\n",
      "Thy sends what youth of his thanks, mird \n",
      "Epoch 9: 100%|██████████| 82/82 [00:17<00:00,  4.61it/s, loss=1.48, v_num=284, test_loss=1.490]And now a work\n",
      "Withal shorty schoors, and wither.\n",
      "\n",
      "MENENIUS:\n",
      "I would spo\n",
      "Epoch 10: 100%|██████████| 82/82 [00:17<00:00,  4.62it/s, loss=1.47, v_num=284, test_loss=1.490]And now the will be tender slaughter in son.\n",
      "\n",
      "COMINIUS:\n",
      "Where have the f\n",
      "Epoch 11: 100%|██████████| 82/82 [00:17<00:00,  4.62it/s, loss=1.46, v_num=284, test_loss=1.470]And now hear fight, masting to-there.\n",
      "O with mane hot and hold of his lo\n",
      "Epoch 12: 100%|██████████| 82/82 [00:17<00:00,  4.58it/s, loss=1.44, v_num=284, test_loss=1.430]And now free!\n",
      "His children?\n",
      "Away, and murderer, and some woes? therefore\n",
      "Epoch 13: 100%|██████████| 82/82 [00:17<00:00,  4.61it/s, loss=1.43, v_num=284, test_loss=1.450]And now art shall news:\n",
      "And thus, then you chearlines, I am in suck\n",
      "As i\n",
      "Epoch 14: 100%|██████████| 82/82 [00:17<00:00,  4.60it/s, loss=1.41, v_num=284, test_loss=1.430]And now serven friends.\n",
      "\n",
      "DUKE VINCENTIO:\n",
      "O good favour is our.\n",
      "\n",
      "FLORIZEL\n",
      "Epoch 15: 100%|██████████| 82/82 [00:17<00:00,  4.60it/s, loss=1.41, v_num=284, test_loss=1.420]And now nor blume als, we'll take, for we ware two wastance.\n",
      "Why, Islay \n",
      "Epoch 16: 100%|██████████| 82/82 [00:17<00:00,  4.60it/s, loss=1.4, v_num=284, test_loss=1.390] And now that a thrufter hence be sun\n",
      "Before in this which a foe, who fal\n",
      "Epoch 17: 100%|██████████| 82/82 [00:17<00:00,  4.62it/s, loss=1.4, v_num=284, test_loss=1.400] And now together sent might.\n",
      "\n",
      "FRIAR LAURENCE:\n",
      "Now you will held stay to \n",
      "Epoch 18: 100%|██████████| 82/82 [00:17<00:00,  4.60it/s, loss=1.39, v_num=284, test_loss=1.410]And now for his charge, had not shows\n",
      "The lreasure, for seeming margaret\n",
      "Epoch 19: 100%|██████████| 82/82 [00:18<00:00,  4.51it/s, loss=1.37, v_num=284, test_loss=1.370]And now of supreding that in the first of mine.\n",
      "\n",
      "HASTINGS:\n",
      "Though I will\n",
      "Epoch 20: 100%|██████████| 82/82 [00:19<00:00,  4.30it/s, loss=1.37, v_num=284, test_loss=1.360]And now some time,\n",
      "To his place, I, for that stand first thou art.\n",
      "\n",
      "LADY\n",
      "Epoch 21: 100%|██████████| 82/82 [00:18<00:00,  4.53it/s, loss=1.37, v_num=284, test_loss=1.350]And now be dukes summon it: but his most too thine honour\n",
      "creed than was\n",
      "Epoch 22: 100%|██████████| 82/82 [00:18<00:00,  4.48it/s, loss=1.36, v_num=284, test_loss=1.370]And now begging, I should she confererable.\n",
      "\n",
      "ROMEO:\n",
      "A corence the suitor\n",
      "Epoch 23: 100%|██████████| 82/82 [00:18<00:00,  4.33it/s, loss=1.34, v_num=284, test_loss=1.380]And now nark, that she's drewn out, take my son.\n",
      "Comfort, they are commu\n",
      "Epoch 24: 100%|██████████| 82/82 [00:17<00:00,  4.58it/s, loss=1.35, v_num=284, test_loss=1.360]And now the master and to the hopes he in you.\n",
      "Give your parace what we \n",
      "Epoch 24: 100%|██████████| 82/82 [00:18<00:00,  4.55it/s, loss=1.35, v_num=284, test_loss=1.370]"
     ]
    },
    {
     "name": "stderr",
     "output_type": "stream",
     "text": [
      "`Trainer.fit` stopped: `max_epochs=25` reached.\n"
     ]
    },
    {
     "name": "stdout",
     "output_type": "stream",
     "text": [
      "Epoch 24: 100%|██████████| 82/82 [00:18<00:00,  4.54it/s, loss=1.35, v_num=284, test_loss=1.370]\n"
     ]
    }
   ],
   "source": [
    "# inspired by https://github.com/karpathy/minGPT/blob/master/mingpt/model.py\n",
    "class MinGPT(nn.Module):\n",
    "    def __init__(self, vocab_size, embed_dim, num_layers, dropout):\n",
    "        super().__init__()\n",
    "        self.transformer = nn.Sequential(\n",
    "            nn.Embedding(vocab_size, embed_dim),\n",
    "            nn.Dropout(dropout),\n",
    "            nn.Sequential(*[DecoderLayer(embed_dim, dropout) for _ in range(num_layers)]),\n",
    "            nn.LayerNorm(embed_dim),\n",
    "        )\n",
    "        self.lm_head = nn.Linear(embed_dim, vocab_size, bias=False)\n",
    "    \n",
    "    def forward(self, x):\n",
    "        return self.lm_head(self.transformer(x))\n",
    "\n",
    "    @torch.no_grad()\n",
    "    def generate(self, input_ids, max_new_tokens, top_k=10):\n",
    "        for _ in range(max_new_tokens):\n",
    "            out = self(input_ids[:, -block_size:])\n",
    "            logits = out[:, -1, :]\n",
    "            v, _ = torch.topk(logits, top_k)\n",
    "            logits[logits < v[:, [-1]]] = -float(\"Inf\")\n",
    "            step_res = torch.multinomial(F.softmax(logits, dim=-1), num_samples=1)\n",
    "            # auto-regression\n",
    "            input_ids = torch.cat((input_ids, step_res), dim=1)\n",
    "\n",
    "        return input_ids\n",
    "\n",
    "class DecoderLayer(nn.Module):\n",
    "    def __init__(self, embed_dim, dropout):\n",
    "        super().__init__()\n",
    "        self.ln1 = nn.LayerNorm(embed_dim)\n",
    "        self.attn = AFTFlat(embed_dim, dropout)\n",
    "        self.ln2 = nn.LayerNorm(embed_dim)\n",
    "        self.mlp = nn.Sequential(\n",
    "            nn.Linear(embed_dim, 4 * embed_dim),\n",
    "            nn.GELU(approximate=\"tanh\"),\n",
    "            nn.Linear(4 * embed_dim, embed_dim),\n",
    "            nn.Dropout(dropout)\n",
    "        )\n",
    "        self.register_buffer(\"mask\", torch.tril(torch.ones(block_size, block_size)).to(device))\n",
    "\n",
    "    def forward(self, x):\n",
    "        B, T, _ = x.shape\n",
    "        x = self.ln1(x)\n",
    "        x = x + self.attn(x, self.mask[:T, :T])\n",
    "        x = x + self.mlp(self.ln2(x))\n",
    "        return x\n",
    "\n",
    "# inspired by https://arxiv.org/pdf/2105.14103.pdf and https://github.com/BlinkDL/RWKV-LM\n",
    "# but RWKV is way more advanced (and better)\n",
    "#\n",
    "# when compared to AFT paper:\n",
    "# - the main idea is still just weighted average\n",
    "# - looking at plotted attentions, it's mostly diagonal, so there's a lot of waste\n",
    "# - so let's make `w` a flat vector (and don't exponentiate it for the numerator part)\n",
    "# - divide by a cumulative sum of exp(k)\n",
    "class AFTFlat(nn.Module):\n",
    "    def __init__(self, embed_dim, dropout):\n",
    "        super().__init__()\n",
    "        self.qkv = nn.Linear(embed_dim, embed_dim * 3, bias=False)\n",
    "        # init with decay as this is what network learns anyway\n",
    "        self.w = nn.Parameter((1 + torch.arange(block_size, dtype=torch.float)).softmax(dim=0), requires_grad=True)\n",
    "        self.proj = nn.Linear(embed_dim, embed_dim, bias=False)\n",
    "        self.drop = nn.Dropout(dropout)\n",
    "    \n",
    "    def forward(self, x, mask):\n",
    "        B, T, C = x.shape\n",
    "        q, k, v = self.qkv(x).chunk(3, dim=-1)\n",
    "        exp_k = k.clamp(max=20).exp()\n",
    "        wkv = torch.einsum(\"tk,bkc->btc\", circulant.apply(self.w)[:T, :T] * mask, exp_k * v)\n",
    "        Yt = F.sigmoid(q) * wkv / torch.cumsum(exp_k, dim=1)\n",
    "        return self.drop(self.proj(Yt))\n",
    "\n",
    "# it's not enough to compute the circulant matrix from the 1D input,\n",
    "# we also need to make the gradient flow back (like if it was pointing directly to vector)\n",
    "class circulant(torch.autograd.Function):\n",
    "    @staticmethod\n",
    "    def forward(ctx, t):\n",
    "        ctx.save_for_backward(t)\n",
    "        return torch.cat([t, t[:-1]]).unfold(0, len(t), 1).flip(0)\n",
    "\n",
    "    @staticmethod\n",
    "    def backward(ctx, grad_out):\n",
    "        t, = ctx.saved_tensors\n",
    "        grad_t, l = torch.zeros_like(t), len(t)\n",
    "        for i in range(l): # just the bottom part, but indices are reversed!\n",
    "            grad_t[l - 1 - i] = torch.sum(torch.diagonal(grad_out, offset=-i))\n",
    "        return grad_t\n",
    "\n",
    "class Model(pl.LightningModule):\n",
    "    def __init__(self, vocab_size, lr=0.004):\n",
    "        super().__init__()\n",
    "        self.lr = lr\n",
    "        self.model = MinGPT(vocab_size, embed_dim=192, num_layers=3, dropout=0.1)\n",
    "    \n",
    "    def forward(self, x, y=None):\n",
    "        logits = self.model(x)\n",
    "        return logits if y is None else F.cross_entropy(logits.view(-1, logits.size(-1)), y.view(-1), ignore_index=-1)\n",
    "\n",
    "    def train_dataloader(self):\n",
    "        return data.DataLoader(train, batch_size=100, num_workers=0, sampler=data.RandomSampler(train, False, 5_000))\n",
    "\n",
    "    def training_step(self, batch, batch_idx):\n",
    "        return self(*batch)\n",
    "\n",
    "    def val_dataloader(self):\n",
    "        return data.DataLoader(test, batch_size=16, num_workers=0)\n",
    "    \n",
    "    def validation_step(self, batch, batch_idx):\n",
    "        loss = self(*batch)\n",
    "        self.log(\"test_loss\", loss, prog_bar=True, on_step=False, on_epoch=True)\n",
    "        return loss\n",
    "\n",
    "    def validation_epoch_end(self, outs):\n",
    "        with torch.no_grad():\n",
    "            x = torch.tensor([dataset.stoi[s] for s in \"And now \"], dtype=torch.long)[None,...].to(device)\n",
    "            y = self.model.generate(x, 64)[0]\n",
    "            print(\"\".join([dataset.itos[int(i)] for i in y]))\n",
    "\n",
    "    def configure_optimizers(self):\n",
    "        optim = torch.optim.AdamW(self.parameters(), lr=self.lr)\n",
    "        sched = torch.optim.lr_scheduler.ExponentialLR(optim, gamma=0.999, last_epoch=-1)\n",
    "        return [optim], [sched]\n",
    "\n",
    "model = Model(len(dataset.vocab))\n",
    "trainer = pl.Trainer(gradient_clip_val=1.0, max_epochs=25, enable_progress_bar=True, accelerator=\"gpu\" if device == \"cuda\" else \"cpu\")\n",
    "trainer.fit(model)"
   ]
  },
  {
   "cell_type": "code",
   "execution_count": 173,
   "metadata": {},
   "outputs": [
    {
     "data": {
      "image/png": "[encoded data removed]",
      "text/plain": [
       "<Figure size 640x480 with 1 Axes>"
      ]
     },
     "metadata": {},
     "output_type": "display_data"
    },
    {
     "data": {
      "image/png": "[encoded data removed]",
      "text/plain": [
       "<Figure size 640x480 with 1 Axes>"
      ]
     },
     "metadata": {},
     "output_type": "display_data"
    },
    {
     "data": {
      "image/png": "[encoded data removed]",
      "text/plain": [
       "<Figure size 640x480 with 1 Axes>"
      ]
     },
     "metadata": {},
     "output_type": "display_data"
    }
   ],
   "source": [
    "from matplotlib import pyplot as plt\n",
    "for b in model.model.transformer[2]:\n",
    "    w = circulant.apply(b.attn.w).detach() * torch.tril(torch.ones(block_size, block_size))\n",
    "    plt.figure()\n",
    "    plt.imshow(w.detach())"
   ]
  },
  {
   "cell_type": "code",
   "execution_count": 174,
   "metadata": {},
   "outputs": [
    {
     "name": "stdout",
     "output_type": "stream",
     "text": [
      "O God, O God!\n",
      "\n",
      "CAMILLO:\n",
      "This, was a fair suitor, they with more a world sit\n",
      "I'll send thy swolved by an seeming;\n",
      "Thou change to-night my mothes serves our hounsward\n",
      "To murder the hatred again; and I with not safe we\n",
      "are their will.'\n",
      "\n",
      "CAMILLO:\n",
      "Where is that niw!\n",
      "\n",
      "PRINCE:\n",
      "And blest not so die!\n",
      "I plain my palamis that may let a beg, that?\n",
      "Our three-day boldly that in the most time\n",
      "That serve of me.\n",
      "\n",
      "First Gentleman:\n",
      "But yet: must with me now!\n",
      "\n",
      "ESCALUS:\n",
      "Methink me sentence to the king should stranged of hide\n",
      "Whom If I choose hold above that I may do't,\n",
      "See impart him or me.\n",
      "O sad my love, two cat I was mocked for me,\n",
      "Which this face, make you may, and I prize\n"
     ]
    }
   ],
   "source": [
    "y = model.to(device).model.generate(torch.tensor([dataset.stoi[s] for s in \"O God, O God!\"]).unsqueeze(0).to(device), 650)\n",
    "print(\"\".join([dataset.itos[int(i)] for i in y[0]]))"
   ]
  }
 ],
 "metadata": {
  "kernelspec": {
   "display_name": "base",
   "language": "python",
   "name": "python3"
  },
  "language_info": {
   "codemirror_mode": {
    "name": "ipython",
    "version": 3
   },
   "file_extension": ".py",
   "mimetype": "text/x-python",
   "name": "python",
   "nbconvert_exporter": "python",
   "pygments_lexer": "ipython3",
   "version": "3.10.8"
  },
  "orig_nbformat": 4,
  "vscode": {
   "interpreter": {
    "hash": "c070a6546767260d3817b5bdd38c64a6478cec33d40e8bb7d9bbc980115d8646"
   }
  }
 },
 "nbformat": 4,
 "nbformat_minor": 2
}

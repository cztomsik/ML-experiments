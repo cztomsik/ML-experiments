{
 "cells": [
  {
   "cell_type": "code",
   "execution_count": 1,
   "metadata": {},
   "outputs": [
    {
     "name": "stderr",
     "output_type": "stream",
     "text": [
      "/Users/cztomsik/miniconda3/lib/python3.10/site-packages/tqdm/auto.py:22: TqdmWarning: IProgress not found. Please update jupyter and ipywidgets. See https://ipywidgets.readthedocs.io/en/stable/user_install.html\n",
      "  from .autonotebook import tqdm as notebook_tqdm\n",
      "Global seed set to 89026614\n",
      "Found cached dataset tiny_shakespeare (/Users/cztomsik/.cache/huggingface/datasets/tiny_shakespeare/default/1.0.0/b5b13969f09fe8707337f6cb296314fbe06960bd9a868dca39e713e163d27b5e)\n",
      "100%|██████████| 3/3 [00:00<00:00, 695.88it/s]\n"
     ]
    }
   ],
   "source": [
    "import torch\n",
    "import torch.nn as nn\n",
    "import torch.nn.functional as F\n",
    "import torch.utils.data as data\n",
    "import pytorch_lightning as pl\n",
    "import datasets\n",
    "import numpy as np\n",
    "\n",
    "pl.seed_everything(89026614)\n",
    "\n",
    "text = datasets.load_dataset('tiny_shakespeare')[\"train\"][0][\"text\"]\n",
    "#text = open('../../Downloads/simplebooks/simplebooks-2-raw/train.txt', 'r').read()"
   ]
  },
  {
   "cell_type": "code",
   "execution_count": 2,
   "metadata": {},
   "outputs": [],
   "source": [
    "device = \"cpu\"\n",
    "block_size = 100\n",
    "\n",
    "class MyDataset(data.Dataset):\n",
    "    def __init__(self, text):\n",
    "        super().__init__()\n",
    "        vocab = sorted(set(text))\n",
    "        self.vocab = vocab\n",
    "        self.stoi = { ch: i for i, ch in enumerate(vocab) }\n",
    "        self.itos = { i: ch for i, ch in enumerate(vocab) }\n",
    "        self.data = torch.tensor([self.stoi[ch] for ch in text], dtype=torch.long).to(device)\n",
    "\n",
    "    def __len__(self):\n",
    "        return self.data.size(0) - block_size - 1\n",
    "\n",
    "    def __getitem__(self, i):\n",
    "        end = i + block_size\n",
    "        return self.data[i:end], self.data[i + 1:end + 1]\n",
    "\n",
    "dataset = MyDataset(text)\n",
    "train = data.Subset(dataset, range(0, len(dataset) - 500))\n",
    "test = data.Subset(dataset, range(len(dataset) - 500, len(dataset)))"
   ]
  },
  {
   "cell_type": "code",
   "execution_count": 3,
   "metadata": {},
   "outputs": [
    {
     "name": "stderr",
     "output_type": "stream",
     "text": [
      "GPU available: False, used: False\n",
      "TPU available: False, using: 0 TPU cores\n",
      "IPU available: False, using: 0 IPUs\n",
      "HPU available: False, using: 0 HPUs\n",
      "\n",
      "  | Name  | Type   | Params\n",
      "---------------------------------\n",
      "0 | model | MinGPT | 610 K \n",
      "---------------------------------\n",
      "610 K     Trainable params\n",
      "0         Non-trainable params\n",
      "610 K     Total params\n",
      "2.442     Total estimated model params size (MB)\n"
     ]
    },
    {
     "name": "stdout",
     "output_type": "stream",
     "text": [
      "Sanity Checking DataLoader 0:  50%|█████     | 1/2 [00:00<00:00, 31.73it/s]"
     ]
    },
    {
     "name": "stderr",
     "output_type": "stream",
     "text": [
      "/Users/cztomsik/miniconda3/lib/python3.10/site-packages/pytorch_lightning/trainer/connectors/data_connector.py:224: PossibleUserWarning: The dataloader, val_dataloader 0, does not have many workers which may be a bottleneck. Consider increasing the value of the `num_workers` argument` (try 8 which is the number of cpus on this machine) in the `DataLoader` init to improve performance.\n",
      "  rank_zero_warn(\n",
      "/Users/cztomsik/miniconda3/lib/python3.10/site-packages/torch/nn/functional.py:1960: UserWarning: nn.functional.sigmoid is deprecated. Use torch.sigmoid instead.\n",
      "  warnings.warn(\"nn.functional.sigmoid is deprecated. Use torch.sigmoid instead.\")\n"
     ]
    },
    {
     "name": "stdout",
     "output_type": "stream",
     "text": [
      "Sanity Checking DataLoader 0: 100%|██████████| 2/2 [00:00<00:00, 35.96it/s]And now A $ $WVyndzqumDSSXs,,t.PaDXrR! AMLzC,qn?YG$ze,SKqiZCR:eCktusfFpJ\n",
      "                                                                           "
     ]
    },
    {
     "name": "stderr",
     "output_type": "stream",
     "text": [
      "/Users/cztomsik/miniconda3/lib/python3.10/site-packages/pytorch_lightning/trainer/connectors/data_connector.py:224: PossibleUserWarning: The dataloader, train_dataloader, does not have many workers which may be a bottleneck. Consider increasing the value of the `num_workers` argument` (try 8 which is the number of cpus on this machine) in the `DataLoader` init to improve performance.\n",
      "  rank_zero_warn(\n"
     ]
    },
    {
     "name": "stdout",
     "output_type": "stream",
     "text": [
      "Epoch 0: 100%|██████████| 82/82 [00:12<00:00,  6.55it/s, loss=2.34, v_num=254]And now and, be a by maret sod,\n",
      "Bupien whe the ais the the med ange of b\n",
      "Epoch 1: 100%|██████████| 82/82 [00:12<00:00,  6.37it/s, loss=2.08, v_num=254, test_loss=2.220]And now macon,\n",
      "That wor saist then all a sit shad in our have helove mou\n",
      "Epoch 2: 100%|██████████| 82/82 [00:13<00:00,  6.29it/s, loss=1.98, v_num=254, test_loss=2.030]And now des, afancarnind feir the chas heren mince min blous in and any \n",
      "Epoch 3: 100%|██████████| 82/82 [00:13<00:00,  6.22it/s, loss=1.89, v_num=254, test_loss=2.010]And now and ourdes a beace be the sincant but he saign but be shall affo\n",
      "Epoch 4: 100%|██████████| 82/82 [00:13<00:00,  6.18it/s, loss=1.84, v_num=254, test_loss=1.920]And now thy seem's\n",
      "And this the reath, a me, wombl to way,\n",
      "The be mocke \n",
      "Epoch 5: 100%|██████████| 82/82 [00:13<00:00,  6.01it/s, loss=1.79, v_num=254, test_loss=1.870]And now idest specutionst and truuness have tear that,\n",
      "Heard is spacien \n",
      "Epoch 6: 100%|██████████| 82/82 [00:12<00:00,  6.39it/s, loss=1.76, v_num=254, test_loss=1.820]And now so my lord.\n",
      "\n",
      "MARCIUS:\n",
      "Ayrice not sees.\n",
      "\n",
      "Set he severy such alls \n",
      "Epoch 7: 100%|██████████| 82/82 [00:12<00:00,  6.49it/s, loss=1.73, v_num=254, test_loss=1.720]And now mast me this hand of all,\n",
      "Or they strow, mast at ones dreath?\n",
      "Th\n",
      "Epoch 8: 100%|██████████| 82/82 [00:12<00:00,  6.50it/s, loss=1.7, v_num=254, test_loss=1.730] And now our be new\n",
      "Again hy with of my dead, why, there's and he on't\n",
      "Th\n",
      "Epoch 9: 100%|██████████| 82/82 [00:12<00:00,  6.52it/s, loss=1.67, v_num=254, test_loss=1.650]And now my lord'st thou do at all\n",
      "As heart for by my bend amed my do in \n",
      "Epoch 10: 100%|██████████| 82/82 [00:12<00:00,  6.41it/s, loss=1.65, v_num=254, test_loss=1.690]And now indried the ston you all at onourse.\n",
      "\n",
      "SOMAR PETER:\n",
      "O curself my \n",
      "Epoch 11: 100%|██████████| 82/82 [00:12<00:00,  6.33it/s, loss=1.64, v_num=254, test_loss=1.710]And now and thought to action of the comes of my face;\n",
      "Aland be wrong lo\n",
      "Epoch 12: 100%|██████████| 82/82 [00:12<00:00,  6.49it/s, loss=1.62, v_num=254, test_loss=1.680]And now arest be they did out to thyirage?\n",
      "O not hath spite burio! Your \n",
      "Epoch 13: 100%|██████████| 82/82 [00:12<00:00,  6.53it/s, loss=1.61, v_num=254, test_loss=1.650]And now the to a than fear. But he words of time!\n",
      "As somes miltaintage a\n",
      "Epoch 14: 100%|██████████| 82/82 [00:12<00:00,  6.55it/s, loss=1.59, v_num=254, test_loss=1.650]And now their blows is this to thusband.\n",
      "\n",
      "LUCENTIO:\n",
      "And think many malts\n",
      "Epoch 15: 100%|██████████| 82/82 [00:12<00:00,  6.55it/s, loss=1.58, v_num=254, test_loss=1.580]And now sturn.\n",
      "\n",
      "ROMEO:\n",
      "He made words the hand as a swrong interty.--\n",
      "Awa\n",
      "Epoch 16: 100%|██████████| 82/82 [00:13<00:00,  6.27it/s, loss=1.57, v_num=254, test_loss=1.560]And now me; most thing thy sicks?\n",
      "\n",
      "Citter shall bold me stands if a what\n",
      "Epoch 17: 100%|██████████| 82/82 [00:12<00:00,  6.39it/s, loss=1.57, v_num=254, test_loss=1.600]And now his triumphesty words,\n",
      "And mise were to a pray,'\n",
      "And somethin ar\n",
      "Epoch 18: 100%|██████████| 82/82 [00:13<00:00,  6.02it/s, loss=1.56, v_num=254, test_loss=1.570]And now wont thus sorrow.\n",
      "\n",
      "SUcited would, sir:\n",
      "Have heaven is mine and a\n",
      "Epoch 19: 100%|██████████| 82/82 [00:13<00:00,  6.30it/s, loss=1.55, v_num=254, test_loss=1.540]And now well, me,\n",
      "To had about. I may not not which in thee,\n",
      "While would\n",
      "Epoch 20: 100%|██████████| 82/82 [00:14<00:00,  5.73it/s, loss=1.55, v_num=254, test_loss=1.520]And now his hath my touch in and it!\n",
      "\n",
      "AUTOLYCUS:\n",
      "Have wated you son; I a\n",
      "Epoch 21: 100%|██████████| 82/82 [00:13<00:00,  6.20it/s, loss=1.55, v_num=254, test_loss=1.540]And now him a look of will herein say:\n",
      "Maked, fool, thou art since o'er \n",
      "Epoch 22: 100%|██████████| 82/82 [00:13<00:00,  6.16it/s, loss=1.53, v_num=254, test_loss=1.510]And now tthiness?\n",
      "\n",
      "GREGORY:\n",
      "No look'd here of the daughter, being of the\n",
      "Epoch 23: 100%|██████████| 82/82 [00:12<00:00,  6.35it/s, loss=1.53, v_num=254, test_loss=1.530]And now sir, we shall I like my lords there\n",
      "that thy person tal that way\n",
      "Epoch 24: 100%|██████████| 82/82 [00:12<00:00,  6.32it/s, loss=1.52, v_num=254, test_loss=1.500]And now the matress\n",
      "Thou aboag.\n",
      "\n",
      "Second Watchman:\n",
      "No, for husperit befor\n",
      "Epoch 24: 100%|██████████| 82/82 [00:13<00:00,  6.24it/s, loss=1.52, v_num=254, test_loss=1.500]"
     ]
    },
    {
     "name": "stderr",
     "output_type": "stream",
     "text": [
      "`Trainer.fit` stopped: `max_epochs=25` reached.\n"
     ]
    },
    {
     "name": "stdout",
     "output_type": "stream",
     "text": [
      "Epoch 24: 100%|██████████| 82/82 [00:13<00:00,  6.24it/s, loss=1.52, v_num=254, test_loss=1.500]\n"
     ]
    }
   ],
   "source": [
    "# inspired by https://github.com/karpathy/minGPT/blob/master/mingpt/model.py\n",
    "class MinGPT(nn.Module):\n",
    "    def __init__(self, vocab_size, embed_dim, num_layers, dropout):\n",
    "        super().__init__()\n",
    "        self.transformer = nn.Sequential(\n",
    "            nn.Embedding(vocab_size, embed_dim),\n",
    "            nn.Dropout(dropout),\n",
    "            nn.Sequential(*[DecoderLayer(embed_dim, dropout) for _ in range(num_layers)]),\n",
    "            nn.LayerNorm(embed_dim),\n",
    "        )\n",
    "        self.lm_head = nn.Linear(embed_dim, vocab_size, bias=False)\n",
    "    \n",
    "    def forward(self, x):\n",
    "        return self.lm_head(self.transformer(x))\n",
    "\n",
    "    @torch.no_grad()\n",
    "    def generate(self, input_ids, max_new_tokens, top_k=10):\n",
    "        for _ in range(max_new_tokens):\n",
    "            out = self(input_ids[:, -block_size:])\n",
    "            logits = out[:, -1, :]\n",
    "            v, _ = torch.topk(logits, top_k)\n",
    "            logits[logits < v[:, [-1]]] = -float(\"Inf\")\n",
    "            step_res = torch.multinomial(F.softmax(logits, dim=-1), num_samples=1)\n",
    "            # auto-regression\n",
    "            input_ids = torch.cat((input_ids, step_res), dim=1)\n",
    "\n",
    "        return input_ids\n",
    "\n",
    "class DecoderLayer(nn.Module):\n",
    "    def __init__(self, embed_dim, dropout):\n",
    "        super().__init__()\n",
    "        self.ln1 = nn.LayerNorm(embed_dim)\n",
    "        self.attn = AFTFlat(embed_dim, dropout)\n",
    "        self.ln2 = nn.LayerNorm(embed_dim)\n",
    "        self.mlp = nn.Sequential(\n",
    "            nn.Linear(embed_dim, 4 * embed_dim),\n",
    "            nn.GELU(approximate=\"tanh\"),\n",
    "            nn.Linear(4 * embed_dim, embed_dim),\n",
    "            nn.Dropout(dropout)\n",
    "        )\n",
    "        self.register_buffer(\"mask\", torch.tril(torch.ones(block_size, block_size)).to(device))\n",
    "\n",
    "    def forward(self, x):\n",
    "        B, T, _ = x.shape\n",
    "        x = self.ln1(x)\n",
    "        x = x + self.attn(x, self.mask[:T, :T])\n",
    "        x = x + self.mlp(self.ln2(x))\n",
    "        return x\n",
    "\n",
    "# inspired by https://arxiv.org/pdf/2105.14103.pdf and https://github.com/BlinkDL/RWKV-LM\n",
    "# but RWKV is way more advanced (and better)\n",
    "#\n",
    "# when compared to AFT paper:\n",
    "# - the main idea is still just weighted average\n",
    "# - looking at attention weights it's mostly diagonal, so a lot of waste\n",
    "# - so let's make `w` a flat vector, and don't exponentiate it for the numerator part\n",
    "# - divide by a cumulative sum of exp(k)\n",
    "class AFTFlat(nn.Module):\n",
    "    def __init__(self, embed_dim, dropout):\n",
    "        super().__init__()\n",
    "        self.qkv = nn.Linear(embed_dim, embed_dim * 3, bias=False)\n",
    "        # init with decay as this is what network learns anyway\n",
    "        self.w = nn.Parameter((1 + torch.arange(block_size, dtype=torch.float)).softmax(dim=0), requires_grad=True)\n",
    "        self.proj = nn.Linear(embed_dim, embed_dim, bias=False)\n",
    "        self.drop = nn.Dropout(dropout)\n",
    "    \n",
    "    def forward(self, x, mask):\n",
    "        B, T, C = x.shape\n",
    "        q, k, v = self.qkv(x).chunk(3, dim=-1)\n",
    "        exp_k = k.clamp(max=20).exp()\n",
    "        wkv = torch.einsum(\"tk,bkc->btc\", circulant.apply(self.w)[:T, :T] * mask, exp_k * v)\n",
    "        Yt = F.sigmoid(q) * wkv / torch.cumsum(exp_k, dim=1)\n",
    "        return self.drop(self.proj(Yt))\n",
    "\n",
    "# less obvious than expected but it's not enough to compute the circulant matrix from the 1D input,\n",
    "# we also need to somehow make the gradient flow back\n",
    "class circulant(torch.autograd.Function):\n",
    "    @staticmethod\n",
    "    def forward(ctx, t):\n",
    "        ctx.save_for_backward(t)\n",
    "        return torch.cat([t, t[:-1]]).unfold(0, block_size, 1).flip(0)\n",
    "\n",
    "    @staticmethod\n",
    "    def backward(ctx, grad_out):\n",
    "        t, = ctx.saved_tensors\n",
    "        # not sure if this is correct but the plots look ok\n",
    "        return t * grad_out[-1]\n",
    "\n",
    "class Model(pl.LightningModule):\n",
    "    def __init__(self, vocab_size, lr=0.004):\n",
    "        super().__init__()\n",
    "        self.lr = lr\n",
    "        self.model = MinGPT(vocab_size, embed_dim=128, num_layers=3, dropout=0.1)\n",
    "    \n",
    "    def forward(self, x, y=None):\n",
    "        logits = self.model(x)\n",
    "        return logits if y is None else F.cross_entropy(logits.view(-1, logits.size(-1)), y.view(-1), ignore_index=-1)\n",
    "\n",
    "    def train_dataloader(self):\n",
    "        return data.DataLoader(train, batch_size=100, num_workers=0, sampler=data.RandomSampler(train, False, 5_000))\n",
    "\n",
    "    def training_step(self, batch, batch_idx):\n",
    "        return self(*batch)\n",
    "\n",
    "    def val_dataloader(self):\n",
    "        return data.DataLoader(test, batch_size=16, num_workers=0)\n",
    "    \n",
    "    def validation_step(self, batch, batch_idx):\n",
    "        loss = self(*batch)\n",
    "        self.log(\"test_loss\", loss, prog_bar=True, on_step=False, on_epoch=True)\n",
    "        return loss\n",
    "\n",
    "    def validation_epoch_end(self, outs):\n",
    "        with torch.no_grad():\n",
    "            x = torch.tensor([dataset.stoi[s] for s in \"And now \"], dtype=torch.long)[None,...].to(device)\n",
    "            y = self.model.generate(x, 64)[0]\n",
    "            print(\"\".join([dataset.itos[int(i)] for i in y]))\n",
    "\n",
    "    def configure_optimizers(self):\n",
    "        optim = torch.optim.AdamW(self.parameters(), lr=self.lr)\n",
    "        sched = torch.optim.lr_scheduler.ExponentialLR(optim, gamma=0.999, last_epoch=-1)\n",
    "        return [optim], [sched]\n",
    "\n",
    "model = Model(len(dataset.vocab))\n",
    "trainer = pl.Trainer(gradient_clip_val=1.0, max_epochs=25, enable_progress_bar=True, accelerator=\"gpu\" if device == \"cuda\" else \"cpu\")\n",
    "trainer.fit(model)"
   ]
  },
  {
   "cell_type": "code",
   "execution_count": 5,
   "metadata": {},
   "outputs": [
    {
     "data": {
      "image/png": "[encoded data removed]",
      "text/plain": [
       "<Figure size 640x480 with 1 Axes>"
      ]
     },
     "metadata": {},
     "output_type": "display_data"
    },
    {
     "data": {
      "image/png": "[encoded data removed]",
      "text/plain": [
       "<Figure size 640x480 with 1 Axes>"
      ]
     },
     "metadata": {},
     "output_type": "display_data"
    },
    {
     "data": {
      "image/png": "[encoded data removed]",
      "text/plain": [
       "<Figure size 640x480 with 1 Axes>"
      ]
     },
     "metadata": {},
     "output_type": "display_data"
    }
   ],
   "source": [
    "from matplotlib import pyplot as plt\n",
    "for b in model.model.transformer[2]:\n",
    "    w = circulant.apply(b.attn.w).detach() * torch.tril(torch.ones(block_size, block_size))\n",
    "    plt.figure()\n",
    "    plt.imshow(w.detach())"
   ]
  },
  {
   "cell_type": "code",
   "execution_count": null,
   "metadata": {},
   "outputs": [
    {
     "name": "stdout",
     "output_type": "stream",
     "text": [
      "O God, O God!\n",
      "And supl my freeself, and it; and, and\n",
      "Bembataber.\n",
      "\n",
      "POLIZA:\n",
      "What you has; but say are am well shall hear that fumest in this patroan.\n",
      "\n",
      "Mosst fear mother's of at thee. What sarewas!\n",
      "Morabe too braise and in suntleman away.\n",
      "Doth teep on my from intlitte, by miness met wentemeny to dispail you man; them as hat mand\n",
      "Be thenry of our hose, be thou and man\n",
      "To lift, so manery so must all of my are soul speak. Why, but\n",
      "Onure have it hean to my lost olds\n",
      "Withis, a was were him seems,\n",
      "And will the wining or ous all your front me\n",
      "Thou and wild make armining. I womediall humb bearn.\n",
      "\n",
      "BRUTUS:\n",
      "O three he suil, he droar this affusionis to.\n",
      "Which yoult tan,\n"
     ]
    }
   ],
   "source": [
    "y = model.to(device).model.generate(torch.tensor([dataset.stoi[s] for s in \"O God, O God!\"]).unsqueeze(0).to(device), 650)\n",
    "print(\"\".join([dataset.itos[int(i)] for i in y[0]]))"
   ]
  }
 ],
 "metadata": {
  "kernelspec": {
   "display_name": "base",
   "language": "python",
   "name": "python3"
  },
  "language_info": {
   "codemirror_mode": {
    "name": "ipython",
    "version": 3
   },
   "file_extension": ".py",
   "mimetype": "text/x-python",
   "name": "python",
   "nbconvert_exporter": "python",
   "pygments_lexer": "ipython3",
   "version": "3.10.8"
  },
  "orig_nbformat": 4,
  "vscode": {
   "interpreter": {
    "hash": "c070a6546767260d3817b5bdd38c64a6478cec33d40e8bb7d9bbc980115d8646"
   }
  }
 },
 "nbformat": 4,
 "nbformat_minor": 2
}

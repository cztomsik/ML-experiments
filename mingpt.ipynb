{
 "cells": [
  {
   "cell_type": "code",
   "execution_count": 1,
   "metadata": {},
   "outputs": [
    {
     "name": "stderr",
     "output_type": "stream",
     "text": [
      "/Users/cztomsik/miniconda3/envs/torch-mps/lib/python3.10/site-packages/tqdm/auto.py:22: TqdmWarning: IProgress not found. Please update jupyter and ipywidgets. See https://ipywidgets.readthedocs.io/en/stable/user_install.html\n",
      "  from .autonotebook import tqdm as notebook_tqdm\n",
      "Global seed set to 89026614\n",
      "Found cached dataset tiny_shakespeare (/Users/cztomsik/.cache/huggingface/datasets/tiny_shakespeare/default/1.0.0/b5b13969f09fe8707337f6cb296314fbe06960bd9a868dca39e713e163d27b5e)\n",
      "100%|██████████| 3/3 [00:00<00:00, 1081.10it/s]\n"
     ]
    }
   ],
   "source": [
    "import torch\n",
    "import torch.nn as nn\n",
    "import torch.nn.functional as F\n",
    "import torch.utils.data as data\n",
    "import lightning as pl\n",
    "import datasets\n",
    "import numpy as np\n",
    "\n",
    "pl.seed_everything(89026614)\n",
    "\n",
    "text = datasets.load_dataset('tiny_shakespeare')[\"train\"][0][\"text\"]\n",
    "#text = open('../../Downloads/simplebooks/simplebooks-2-raw/train.txt', 'r').read()"
   ]
  },
  {
   "cell_type": "code",
   "execution_count": 2,
   "metadata": {},
   "outputs": [],
   "source": [
    "device = \"mps\"\n",
    "block_size = 100\n",
    "test_size = 1500\n",
    "batch_size = 64\n",
    "\n",
    "class MyDataset(data.Dataset):\n",
    "    def __init__(self, text):\n",
    "        super().__init__()\n",
    "        vocab = sorted(set(text))\n",
    "        self.vocab = vocab\n",
    "        self.stoi = { ch: i for i, ch in enumerate(vocab) }\n",
    "        self.itos = { i: ch for i, ch in enumerate(vocab) }\n",
    "        self.data = torch.tensor([self.stoi[ch] for ch in text], dtype=torch.long)\n",
    "\n",
    "    def __len__(self):\n",
    "        return self.data.size(0) - block_size - 1\n",
    "\n",
    "    def __getitem__(self, i):\n",
    "        end = i + block_size\n",
    "        return self.data[i:end], self.data[i + 1:end + 1]\n",
    "\n",
    "dataset = MyDataset(text)\n",
    "train = data.Subset(dataset, range(0, len(dataset) - test_size))\n",
    "test = data.Subset(dataset, range(len(dataset) - test_size, len(dataset)))"
   ]
  },
  {
   "cell_type": "code",
   "execution_count": 3,
   "metadata": {},
   "outputs": [
    {
     "name": "stderr",
     "output_type": "stream",
     "text": [
      "GPU available: True (mps), used: True\n",
      "TPU available: False, using: 0 TPU cores\n",
      "IPU available: False, using: 0 IPUs\n",
      "HPU available: False, using: 0 HPUs\n",
      "/Users/cztomsik/miniconda3/envs/torch-mps/lib/python3.10/site-packages/lightning/pytorch/trainer/connectors/logger_connector/logger_connector.py:67: UserWarning: Starting from v1.9.0, `tensorboardX` has been removed as a dependency of the `lightning.pytorch` package, due to potential conflicts with other packages in the ML ecosystem. For this reason, `logger=True` will use `CSVLogger` as the default logger, unless the `tensorboard` or `tensorboardX` packages are found. Please `pip install lightning[extra]` or one of them to enable TensorBoard support by default\n",
      "  warning_cache.warn(\n",
      "\n",
      "  | Name  | Type | Params\n",
      "-------------------------------\n",
      "0 | model | GPT  | 932 K \n",
      "-------------------------------\n",
      "932 K     Trainable params\n",
      "0         Non-trainable params\n",
      "932 K     Total params\n",
      "3.731     Total estimated model params size (MB)\n"
     ]
    },
    {
     "name": "stdout",
     "output_type": "stream",
     "text": [
      "Sanity Checking DataLoader 0:   0%|          | 0/2 [00:00<?, ?it/s]"
     ]
    },
    {
     "name": "stderr",
     "output_type": "stream",
     "text": [
      "/Users/cztomsik/miniconda3/envs/torch-mps/lib/python3.10/site-packages/lightning/pytorch/trainer/connectors/data_connector.py:224: PossibleUserWarning: The dataloader, val_dataloader 0, does not have many workers which may be a bottleneck. Consider increasing the value of the `num_workers` argument` (try 8 which is the number of cpus on this machine) in the `DataLoader` init to improve performance.\n",
      "  rank_zero_warn(\n"
     ]
    },
    {
     "name": "stdout",
     "output_type": "stream",
     "text": [
      "Sanity Checking DataLoader 0: 100%|██████████| 2/2 [00:00<00:00, 10.82it/s]And nowOuqNOxuEVc: eLu'fdjjLuEoFcmFnBsWP3QH3N'RWCZq-iNMg'Rgk3yxMbIJWKJC\n",
      "                                                                           "
     ]
    },
    {
     "name": "stderr",
     "output_type": "stream",
     "text": [
      "/Users/cztomsik/miniconda3/envs/torch-mps/lib/python3.10/site-packages/lightning/pytorch/trainer/connectors/data_connector.py:224: PossibleUserWarning: The dataloader, train_dataloader, does not have many workers which may be a bottleneck. Consider increasing the value of the `num_workers` argument` (try 8 which is the number of cpus on this machine) in the `DataLoader` init to improve performance.\n",
      "  rank_zero_warn(\n"
     ]
    },
    {
     "name": "stdout",
     "output_type": "stream",
     "text": [
      "Epoch 0: 100%|██████████| 118/118 [00:09<00:00, 13.06it/s, loss=2.41, v_num=79]And now thet.\n",
      "DARD MIICCOMELON CETSCLA:\n",
      "S se thedoun wionen me aren l h\n",
      "Epoch 1: 100%|██████████| 118/118 [00:07<00:00, 15.40it/s, loss=1.98, v_num=79, test_loss=2.340]And now mord.\n",
      "\n",
      "RINIES:\n",
      "And that, I cary foar him to with theat,\n",
      "And tur\n",
      "Epoch 2: 100%|██████████| 118/118 [00:07<00:00, 15.43it/s, loss=1.77, v_num=79, test_loss=2.010]And nown and thated oot,\n",
      "And bidy with the so, too he cring to to thus,\n",
      "Epoch 3: 100%|██████████| 118/118 [00:07<00:00, 15.28it/s, loss=1.66, v_num=79, test_loss=1.930]And now sine way, my for the duke\n",
      "I to so suffor his dide from in this \n",
      "Epoch 4: 100%|██████████| 118/118 [00:07<00:00, 15.02it/s, loss=1.6, v_num=79, test_loss=1.800] And now him son fried,\n",
      "Agaulty hasted, no shink.\n",
      "\n",
      "But the comether; he \n",
      "Epoch 5: 100%|██████████| 118/118 [00:07<00:00, 15.34it/s, loss=1.55, v_num=79, test_loss=1.730]And now his deliff, alove a day.\n",
      "What tell my leving his save at the st\n",
      "Epoch 6: 100%|██████████| 118/118 [00:07<00:00, 15.33it/s, loss=1.51, v_num=79, test_loss=1.670]And now!--wick host and lovest? This is man\n",
      "To deservel assings? what b\n",
      "Epoch 7: 100%|██████████| 118/118 [00:07<00:00, 15.35it/s, loss=1.48, v_num=79, test_loss=1.630]And now, say, thou after'd there insult tempess of so sues\n",
      "Adon this fa\n",
      "Epoch 8: 100%|██████████| 118/118 [00:07<00:00, 15.29it/s, loss=1.46, v_num=79, test_loss=1.620]And now? hath whom slaugh, and therefore the leady interming\n",
      "Madenius b\n",
      "Epoch 9: 100%|██████████| 118/118 [00:07<00:00, 14.93it/s, loss=1.43, v_num=79, test_loss=1.550]And now not go with here, I might,\n",
      "To cousin.\n",
      "\n",
      "MENENIUS:\n",
      "No more will t\n",
      "Epoch 10: 100%|██████████| 118/118 [00:08<00:00, 14.21it/s, loss=1.41, v_num=79, test_loss=1.540]And now your begettest me so?\n",
      "\n",
      "RICHARD III:\n",
      "When sprithee heart of stre\n",
      "Epoch 11: 100%|██████████| 118/118 [00:08<00:00, 13.83it/s, loss=1.4, v_num=79, test_loss=1.510] And now your power hundred all.\n",
      "\n",
      "LORD LAURENCE:\n",
      "Sir, you, faith!\n",
      "\n",
      "LADY \n",
      "Epoch 12: 100%|██████████| 118/118 [00:08<00:00, 13.68it/s, loss=1.38, v_num=79, test_loss=1.480]And now now become, and you at that. I\n",
      "cry in your gates withing in our\n",
      "Epoch 13: 100%|██████████| 118/118 [00:08<00:00, 13.34it/s, loss=1.38, v_num=79, test_loss=1.480]And now, having honours it dishonour.\n",
      "\n",
      "ROMEO:\n",
      "Take to soon. Is a hand h\n",
      "Epoch 14: 100%|██████████| 118/118 [00:09<00:00, 12.97it/s, loss=1.36, v_num=79, test_loss=1.450]And now to cheer, well I thank you what you\n",
      "What, this you at war well,\n",
      "Epoch 15: 100%|██████████| 118/118 [00:09<00:00, 12.81it/s, loss=1.34, v_num=79, test_loss=1.470]And now, for wing sons in the middle\n",
      "To have beginded but the mistress \n",
      "Epoch 16: 100%|██████████| 118/118 [00:09<00:00, 12.18it/s, loss=1.32, v_num=79, test_loss=1.450]And now in his majesty\n",
      "We shall bed against and his crown and mouth.\n",
      "An\n",
      "Epoch 17: 100%|██████████| 118/118 [00:09<00:00, 12.47it/s, loss=1.31, v_num=79, test_loss=1.440]And now I cannot after\n",
      "Of yours, for touch'd my home wind me that yours\n",
      "Epoch 18: 100%|██████████| 118/118 [00:09<00:00, 12.11it/s, loss=1.31, v_num=79, test_loss=1.420]And now needles and the sight, and had to horse?\n",
      "\n",
      "LADY ANNE:\n",
      "O, how you\n",
      "Epoch 19: 100%|██████████| 118/118 [00:09<00:00, 12.26it/s, loss=1.3, v_num=79, test_loss=1.430] And now so, bribes!\n",
      "\n",
      "CORIOLANUS:\n",
      "Why command work! O foath thither? my \n",
      "Epoch 20: 100%|██████████| 118/118 [00:09<00:00, 12.30it/s, loss=1.28, v_num=79, test_loss=1.410]And now not speak applease you the service of the\n",
      "conclusion is the cer\n",
      "Epoch 21: 100%|██████████| 118/118 [00:10<00:00, 11.65it/s, loss=1.27, v_num=79, test_loss=1.410]And now in thy since, and less me.\n",
      "\n",
      "SLEORIZEL:\n",
      "Why, welcome, who, have \n",
      "Epoch 22: 100%|██████████| 118/118 [00:11<00:00, 10.23it/s, loss=1.27, v_num=79, test_loss=1.420]And now was no lates of that ale:\n",
      "Succestor our feeth commands.\n",
      "\n",
      "CATESB\n",
      "Epoch 23: 100%|██████████| 118/118 [00:13<00:00,  9.00it/s, loss=1.26, v_num=79, test_loss=1.410]And now in the cape, we wish them dead speak;\n",
      "Being be a better\n",
      "On one \n",
      "Epoch 24: 100%|██████████| 118/118 [00:13<00:00,  8.55it/s, loss=1.25, v_num=79, test_loss=1.400]And now speak all; for I am.\n",
      "\n",
      "RICHADY CAPULET:\n",
      "I'll be a king, in those\n",
      "Epoch 24: 100%|██████████| 118/118 [00:14<00:00,  8.20it/s, loss=1.25, v_num=79, test_loss=1.420]"
     ]
    },
    {
     "name": "stderr",
     "output_type": "stream",
     "text": [
      "`Trainer.fit` stopped: `max_epochs=25` reached.\n"
     ]
    },
    {
     "name": "stdout",
     "output_type": "stream",
     "text": [
      "Epoch 24: 100%|██████████| 118/118 [00:14<00:00,  8.19it/s, loss=1.25, v_num=79, test_loss=1.420]\n"
     ]
    }
   ],
   "source": [
    "class GPT(nn.Module):\n",
    "    def __init__(self, vocab_size, embed_dim=192, num_heads=4, num_layers=2):\n",
    "        super().__init__()\n",
    "        self.transformer = nn.ModuleDict(dict(\n",
    "            token_emb = nn.Embedding(vocab_size, embed_dim),\n",
    "            pos_emb = nn.Embedding(block_size, embed_dim),\n",
    "            layers = nn.Sequential(*[Layer(embed_dim, num_heads) for _ in range(num_layers)]),\n",
    "            norm = nn.LayerNorm(embed_dim),\n",
    "        ))\n",
    "        self.lm_head = nn.Linear(embed_dim, vocab_size, bias=False)\n",
    "        \n",
    "    def forward(self, x):\n",
    "        pos = torch.arange(0, x.size(1), dtype=torch.long, device=x.device).unsqueeze(0)\n",
    "        x = self.transformer.token_emb(x) + self.transformer.pos_emb(pos)\n",
    "        x = self.transformer.norm(self.transformer.layers(x))\n",
    "        return self.lm_head(x)\n",
    "\n",
    "class Layer(nn.Module):\n",
    "    def __init__(self, embed_dim, num_heads):\n",
    "        super().__init__()\n",
    "        self.ln1 = nn.LayerNorm(embed_dim)\n",
    "        self.attn = nn.MultiheadAttention(embed_dim, num_heads, batch_first=True, bias=False)\n",
    "        self.ln2 = nn.LayerNorm(embed_dim)\n",
    "        self.mlp = nn.Sequential(\n",
    "            nn.Linear(embed_dim, 4 * embed_dim),\n",
    "            nn.GELU(approximate=\"tanh\"),\n",
    "            nn.Linear(4 * embed_dim, embed_dim),\n",
    "        )\n",
    "        self.register_buffer(\"mask\", ~torch.tril(torch.ones(block_size, block_size)).to(bool).to(device))\n",
    "\n",
    "    def forward(self, x):\n",
    "        B, T, _ = x.shape\n",
    "        xn = self.ln1(x)\n",
    "        x = x + self.attn(xn, xn, xn, need_weights=False, attn_mask=self.mask[:T, :T])[0]\n",
    "        x = x + self.mlp(self.ln2(x))\n",
    "        return x\n",
    "\n",
    "class Model(pl.LightningModule):\n",
    "    def __init__(self, vocab_size, lr=0.007):\n",
    "        super().__init__()\n",
    "        self.lr = lr\n",
    "        self.model = GPT(vocab_size)\n",
    "    \n",
    "    def forward(self, x, y=None):\n",
    "        logits = self.model(x)\n",
    "        return logits if y is None else F.cross_entropy(logits.view(-1, logits.size(-1)), y.view(-1), ignore_index=-1)\n",
    "\n",
    "    def train_dataloader(self):\n",
    "        return data.DataLoader(train, batch_size=batch_size, num_workers=0, sampler=data.RandomSampler(train, False, 6_000))\n",
    "\n",
    "    def training_step(self, batch, batch_idx):\n",
    "        return self(*batch)\n",
    "\n",
    "    def val_dataloader(self):\n",
    "        return data.DataLoader(test, batch_size=batch_size, num_workers=0)\n",
    "    \n",
    "    def validation_step(self, batch, batch_idx):\n",
    "        loss = self(*batch)\n",
    "        self.log(\"test_loss\", loss, prog_bar=True, on_step=False, on_epoch=True)\n",
    "        return loss\n",
    "\n",
    "    def validation_epoch_end(self, outs):\n",
    "        with torch.no_grad():\n",
    "            print(self.generate(\"And now\", 64))\n",
    "\n",
    "    def configure_optimizers(self):\n",
    "        optim = torch.optim.Adam(self.parameters(), lr=self.lr)\n",
    "        sched = torch.optim.lr_scheduler.ExponentialLR(optim, gamma=0.95, last_epoch=-1)\n",
    "        return [optim], [sched]\n",
    "\n",
    "    # inspired by https://github.com/karpathy/minGPT/blob/master/mingpt/model.py\n",
    "    @torch.no_grad()\n",
    "    def generate(self, str, max_new_tokens, top_k=10):\n",
    "        ids = torch.tensor([dataset.stoi[ch] for ch in str], dtype=torch.long).unsqueeze(0).to(self.device)\n",
    "        for _ in range(max_new_tokens):\n",
    "            out = self(ids[:, -block_size:])\n",
    "            logits = out[:, -1, :]\n",
    "            v, _ = torch.topk(logits, top_k)\n",
    "            logits[logits < v[:, [-1]]] = -float(\"Inf\")\n",
    "            step_res = torch.multinomial(F.softmax(logits, dim=-1), num_samples=1)\n",
    "            # auto-regression\n",
    "            ids = torch.cat((ids, step_res), dim=1)\n",
    "        return \"\".join([dataset.itos[int(i)] for i in ids[0]])\n",
    "\n",
    "model = Model(len(dataset.vocab))\n",
    "trainer = pl.Trainer(max_epochs=25, enable_progress_bar=True, accelerator=\"gpu\" if device == \"cuda\" else device)\n",
    "trainer.fit(model)"
   ]
  },
  {
   "cell_type": "code",
   "execution_count": 4,
   "metadata": {},
   "outputs": [
    {
     "name": "stdout",
     "output_type": "stream",
     "text": [
      "O God, O God!\n",
      "\n",
      "QUEEN ELIZABETH:\n",
      "How now now, if the misdue of this silly steal:\n",
      "Sir, and well from other, silent us he,\n",
      "Who dish'd at our shepherd's parlar half,\n",
      "Whose pall'd but a succeptance.\n",
      "\n",
      "LARTIUS:\n",
      "No counsels to set him whiles, we'll be danger,\n",
      "And send months of the women treason of his\n",
      "coats to her; and, as this after than her live,\n",
      "And beaten bid him wrong increase your fured,\n",
      "I'll go soon with you to certain, you think:\n",
      "The fills to tell that we so find how haste suffer'd\n",
      "With a pleasans! as shalt though smooths with such doop\n",
      "The pride of our crown?\n",
      "Is that will break it they say with her sisteed,\n",
      "And must die to-morrow; in that his men his\n",
      "to an will provide-goose; who fair thinks one. I will confess\n",
      "Secrood stop and starl'd--in the soddess of his\n",
      "time are but some and thing that sir? with sir, thinking, and say\n",
      "there in his sins of cried.\n",
      "\n",
      "Second Servant:\n",
      "My lord; thank so die asided to made these will.\n",
      "\n",
      "DUKE VINCENTIO:\n",
      "Alack me with supple, and that appetern they say\n",
      "wipe the people: may I would be not, the\n"
     ]
    }
   ],
   "source": [
    "print(model.generate(\"O God, O God!\", 1024))"
   ]
  }
 ],
 "metadata": {
  "kernelspec": {
   "display_name": "torch-mps",
   "language": "python",
   "name": "python3"
  },
  "language_info": {
   "codemirror_mode": {
    "name": "ipython",
    "version": 3
   },
   "file_extension": ".py",
   "mimetype": "text/x-python",
   "name": "python",
   "nbconvert_exporter": "python",
   "pygments_lexer": "ipython3",
   "version": "3.10.9"
  },
  "orig_nbformat": 4,
  "vscode": {
   "interpreter": {
    "hash": "0b771c8f4755fba7026a17ac6ea0287a4709b89559dd079886423c614dfd53ce"
   }
  }
 },
 "nbformat": 4,
 "nbformat_minor": 2
}

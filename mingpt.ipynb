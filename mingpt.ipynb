{
 "cells": [
  {
   "cell_type": "code",
   "execution_count": 1,
   "metadata": {},
   "outputs": [
    {
     "name": "stderr",
     "output_type": "stream",
     "text": [
      "/Users/cztomsik/miniconda3/lib/python3.10/site-packages/tqdm/auto.py:22: TqdmWarning: IProgress not found. Please update jupyter and ipywidgets. See https://ipywidgets.readthedocs.io/en/stable/user_install.html\n",
      "  from .autonotebook import tqdm as notebook_tqdm\n",
      "Global seed set to 89026614\n",
      "Found cached dataset tiny_shakespeare (/Users/cztomsik/.cache/huggingface/datasets/tiny_shakespeare/default/1.0.0/b5b13969f09fe8707337f6cb296314fbe06960bd9a868dca39e713e163d27b5e)\n",
      "100%|██████████| 3/3 [00:00<00:00, 717.06it/s]\n"
     ]
    }
   ],
   "source": [
    "import torch\n",
    "import torch.nn as nn\n",
    "import torch.nn.functional as F\n",
    "import torch.utils.data as data\n",
    "import pytorch_lightning as pl\n",
    "import datasets\n",
    "import numpy as np\n",
    "\n",
    "pl.seed_everything(89026614)\n",
    "\n",
    "text = datasets.load_dataset('tiny_shakespeare')[\"train\"][0][\"text\"]\n",
    "#text = open('../../Downloads/simplebooks/simplebooks-2-raw/train.txt', 'r').read()"
   ]
  },
  {
   "cell_type": "code",
   "execution_count": 2,
   "metadata": {},
   "outputs": [],
   "source": [
    "device = \"cpu\"\n",
    "block_size = 64\n",
    "\n",
    "class MyDataset(data.Dataset):\n",
    "    def __init__(self, text):\n",
    "        super().__init__()\n",
    "        vocab = sorted(set(text))\n",
    "        self.vocab = vocab\n",
    "        self.stoi = { ch: i for i, ch in enumerate(vocab) }\n",
    "        self.itos = { i: ch for i, ch in enumerate(vocab) }\n",
    "        self.data = torch.tensor([self.stoi[ch] for ch in text], dtype=torch.long).to(device)\n",
    "\n",
    "    def __len__(self):\n",
    "        return self.data.size(0) - block_size - 1\n",
    "\n",
    "    def __getitem__(self, i):\n",
    "        end = i + block_size\n",
    "        return self.data[i:end], self.data[i + 1:end + 1]\n",
    "\n",
    "dataset = MyDataset(text)\n",
    "train = data.Subset(dataset, range(0, len(dataset) - 500))\n",
    "test = data.Subset(dataset, range(len(dataset) - 500, len(dataset)))"
   ]
  },
  {
   "cell_type": "code",
   "execution_count": 3,
   "metadata": {},
   "outputs": [
    {
     "name": "stderr",
     "output_type": "stream",
     "text": [
      "GPU available: False, used: False\n",
      "TPU available: False, using: 0 TPU cores\n",
      "IPU available: False, using: 0 IPUs\n",
      "HPU available: False, using: 0 HPUs\n",
      "\n",
      "  | Name  | Type   | Params\n",
      "---------------------------------\n",
      "0 | model | MinGPT | 927 K \n",
      "---------------------------------\n",
      "927 K     Trainable params\n",
      "0         Non-trainable params\n",
      "927 K     Total params\n",
      "3.709     Total estimated model params size (MB)\n"
     ]
    },
    {
     "name": "stdout",
     "output_type": "stream",
     "text": [
      "Sanity Checking DataLoader 0: 100%|██████████| 2/2 [00:00<00:00, 72.21it/s]"
     ]
    },
    {
     "name": "stderr",
     "output_type": "stream",
     "text": [
      "/Users/cztomsik/miniconda3/lib/python3.10/site-packages/pytorch_lightning/trainer/connectors/data_connector.py:224: PossibleUserWarning: The dataloader, val_dataloader 0, does not have many workers which may be a bottleneck. Consider increasing the value of the `num_workers` argument` (try 8 which is the number of cpus on this machine) in the `DataLoader` init to improve performance.\n",
      "  rank_zero_warn(\n"
     ]
    },
    {
     "name": "stdout",
     "output_type": "stream",
     "text": [
      "And now p?-\n",
      "fL\n",
      "JHcJqoqTsgAwi,mNfo -Uid,iMbp&LmPR-JXNsofVUxDMo'r;GDl:WYpU\n",
      "                                                                           "
     ]
    },
    {
     "name": "stderr",
     "output_type": "stream",
     "text": [
      "/Users/cztomsik/miniconda3/lib/python3.10/site-packages/pytorch_lightning/trainer/connectors/data_connector.py:224: PossibleUserWarning: The dataloader, train_dataloader, does not have many workers which may be a bottleneck. Consider increasing the value of the `num_workers` argument` (try 8 which is the number of cpus on this machine) in the `DataLoader` init to improve performance.\n",
      "  rank_zero_warn(\n"
     ]
    },
    {
     "name": "stdout",
     "output_type": "stream",
     "text": [
      "Epoch 0: 100%|██████████| 111/111 [00:09<00:00, 12.22it/s, loss=2.27, v_num=106]And now astit,\n",
      "Afthe the wit a thet the and.\n",
      "Thowe aspand wit I hall sui\n",
      "Epoch 1: 100%|██████████| 111/111 [00:09<00:00, 12.12it/s, loss=2.01, v_num=106, test_loss=2.180]And now and basough have with'd a centeeve: I hour have to whis must bri\n",
      "Epoch 2: 100%|██████████| 111/111 [00:08<00:00, 12.35it/s, loss=1.85, v_num=106, test_loss=2.010]And now his swould the to weep the haven and and but him; and him; sire \n",
      "Epoch 3: 100%|██████████| 111/111 [00:08<00:00, 12.38it/s, loss=1.76, v_num=106, test_loss=1.850]And now your fare be and in take it to\n",
      "The wron in with thy bloate\n",
      "Onder\n",
      "Epoch 4: 100%|██████████| 111/111 [00:08<00:00, 12.44it/s, loss=1.71, v_num=106, test_loss=1.810]And now on thanks at strenge\n",
      "Their my much fair we the father's her thei\n",
      "Epoch 5: 100%|██████████| 111/111 [00:08<00:00, 12.44it/s, loss=1.69, v_num=106, test_loss=1.710]And now then hearting on any laways have beatuness?\n",
      "\n",
      "BRUTUS:\n",
      "I look a ph\n",
      "Epoch 6: 100%|██████████| 111/111 [00:08<00:00, 12.38it/s, loss=1.67, v_num=106, test_loss=1.720]And now than so his stay; not.\n",
      "\n",
      "KING RICHARD III:\n",
      "Hast be that young so \n",
      "Epoch 7: 100%|██████████| 111/111 [00:08<00:00, 12.40it/s, loss=1.64, v_num=106, test_loss=1.660]And now tent.\n",
      "\n",
      "GLOUCESTER:\n",
      "What I dam, my lords, is take of you she shou\n",
      "Epoch 8: 100%|██████████| 111/111 [00:08<00:00, 12.41it/s, loss=1.63, v_num=106, test_loss=1.660]And now my lord, I havoid was his as all of his ward's boso and all\n",
      "Holl\n",
      "Epoch 9: 100%|██████████| 111/111 [00:08<00:00, 12.33it/s, loss=1.61, v_num=106, test_loss=1.580]And now our do the\n",
      "cust, takes an impers and no to say, that hand drent \n",
      "Epoch 10: 100%|██████████| 111/111 [00:09<00:00, 12.27it/s, loss=1.59, v_num=106, test_loss=1.580]And now that hand sound, what you this wife wars\n",
      "And betting this dothin\n",
      "Epoch 11: 100%|██████████| 111/111 [00:09<00:00, 12.33it/s, loss=1.58, v_num=106, test_loss=1.560]And now me tell of that shy blood mease.\n",
      "\n",
      "LUCIO:\n",
      "Which shall therefore w\n",
      "Epoch 12: 100%|██████████| 111/111 [00:09<00:00, 12.28it/s, loss=1.57, v_num=106, test_loss=1.560]And now my shortent in heavy this for true\n",
      "With me answith a she father,\n",
      "Epoch 13: 100%|██████████| 111/111 [00:09<00:00, 12.31it/s, loss=1.57, v_num=106, test_loss=1.550]And now thy sovery made tongue shrive so.\n",
      "Your woed with with art I,\n",
      "Ant\n",
      "Epoch 14: 100%|██████████| 111/111 [00:09<00:00, 12.29it/s, loss=1.56, v_num=106, test_loss=1.480]And now tears.\n",
      "\n",
      "CORIOLANUS:\n",
      "What, supposation appent alsome to make to m\n",
      "Epoch 15: 100%|██████████| 111/111 [00:08<00:00, 12.40it/s, loss=1.54, v_num=106, test_loss=1.500]And now against it to be deserving, and, is the dear,\n",
      "Opposses with our \n",
      "Epoch 16: 100%|██████████| 111/111 [00:08<00:00, 12.39it/s, loss=1.53, v_num=106, test_loss=1.470]And now true but satraight,\n",
      "A crue in trike thy mocked and a malt to\n",
      "Abp\n",
      "Epoch 17: 100%|██████████| 111/111 [00:08<00:00, 12.37it/s, loss=1.53, v_num=106, test_loss=1.490]And now more so here word.\n",
      "That I shall me his she\n",
      "Haveignly so the twen\n",
      "Epoch 18: 100%|██████████| 111/111 [00:08<00:00, 12.35it/s, loss=1.52, v_num=106, test_loss=1.460]And now them felloward in me two harranting\n",
      "To making; being the, and\n",
      "se\n",
      "Epoch 19: 100%|██████████| 111/111 [00:08<00:00, 12.35it/s, loss=1.51, v_num=106, test_loss=1.450]And now to myself our deak of the carruptise, thou shall powers.\n",
      "\n",
      "KING E\n",
      "Epoch 20: 100%|██████████| 111/111 [00:09<00:00, 11.85it/s, loss=1.51, v_num=106, test_loss=1.480]And now as me with did;\n",
      "The trifly were hand and dear your persicious me\n",
      "Epoch 21: 100%|██████████| 111/111 [00:09<00:00, 11.99it/s, loss=1.51, v_num=106, test_loss=1.460]And now thou tilthou fortune with them to baning\n",
      "Their badge the could's\n",
      "Epoch 22: 100%|██████████| 111/111 [00:09<00:00, 11.79it/s, loss=1.51, v_num=106, test_loss=1.500]And now sund one\n",
      "To see, mine had with the cribe,\n",
      "And arrior so the sway\n",
      "Epoch 23: 100%|██████████| 111/111 [00:09<00:00, 11.50it/s, loss=1.49, v_num=106, test_loss=1.440]And now mean\n",
      "That is time officion, sir, siy,\n",
      "When you are not the broth\n",
      "Epoch 24: 100%|██████████| 111/111 [00:09<00:00, 11.22it/s, loss=1.5, v_num=106, test_loss=1.480] And now your foes, my lord\n",
      "Will pretty be hean is sease with sours of he\n",
      "Epoch 24: 100%|██████████| 111/111 [00:09<00:00, 11.12it/s, loss=1.5, v_num=106, test_loss=1.490]"
     ]
    },
    {
     "name": "stderr",
     "output_type": "stream",
     "text": [
      "`Trainer.fit` stopped: `max_epochs=25` reached.\n"
     ]
    },
    {
     "name": "stdout",
     "output_type": "stream",
     "text": [
      "Epoch 24: 100%|██████████| 111/111 [00:09<00:00, 11.11it/s, loss=1.5, v_num=106, test_loss=1.490]\n"
     ]
    }
   ],
   "source": [
    "# adapted from https://github.com/karpathy/minGPT/blob/master/mingpt/model.py\n",
    "# and https://github.com/karpathy/nanoGPT/blob/master/model.py\n",
    "# defaults for gpt-mini\n",
    "class MinGPT(nn.Module):\n",
    "    def __init__(self, vocab_size, embed_dim=192, num_heads=6, num_layers=6, dropout=0.1):\n",
    "        super().__init__()\n",
    "        self.transformer = nn.ModuleDict(dict(\n",
    "            token_emb = nn.Embedding(vocab_size, embed_dim),\n",
    "            pos_emb = nn.Embedding(block_size, embed_dim),\n",
    "            drop = nn.Dropout(dropout),\n",
    "            layers = nn.Sequential(*[DecoderLayer(embed_dim, num_heads, dropout) for _ in range(num_layers)]),\n",
    "            norm = nn.LayerNorm(embed_dim),\n",
    "        ))\n",
    "        self.lm_head = nn.Linear(embed_dim, vocab_size, bias=False)\n",
    "    \n",
    "    def forward(self, x):\n",
    "        pos = torch.arange(0, x.size(1), dtype=torch.long).unsqueeze(0).to(device)\n",
    "        x = self.transformer.drop(self.transformer.token_emb(x) + self.transformer.pos_emb(pos))\n",
    "        x = self.transformer.norm(self.transformer.layers(x))\n",
    "        return self.lm_head(x)\n",
    "\n",
    "    @torch.no_grad()\n",
    "    def generate(self, input_ids, max_new_tokens, top_k=10):\n",
    "        for _ in range(max_new_tokens):\n",
    "            out = self(input_ids[:, -block_size:])\n",
    "            logits = out[:, -1, :]\n",
    "            v, _ = torch.topk(logits, top_k)\n",
    "            logits[logits < v[:, [-1]]] = -float(\"Inf\")\n",
    "            step_res = torch.multinomial(F.softmax(logits, dim=-1), num_samples=1)\n",
    "            # auto-regression\n",
    "            input_ids = torch.cat((input_ids, step_res), dim=1)\n",
    "\n",
    "        return input_ids\n",
    "\n",
    "class DecoderLayer(nn.Module):\n",
    "    def __init__(self, embed_dim, num_heads, dropout):\n",
    "        super().__init__()\n",
    "        self.ln1 = nn.LayerNorm(embed_dim)\n",
    "        self.attn = nn.MultiheadAttention(embed_dim, num_heads, dropout, batch_first=True)\n",
    "        self.ln2 = nn.LayerNorm(embed_dim)\n",
    "        self.mlp = nn.Sequential(\n",
    "            nn.Linear(embed_dim, 4 * embed_dim),\n",
    "            nn.GELU(approximate=\"tanh\"),\n",
    "            nn.Linear(4 * embed_dim, embed_dim),\n",
    "            nn.Dropout(dropout)\n",
    "        )\n",
    "        self.register_buffer(\"mask\", ~torch.tril(torch.ones(block_size, block_size)).to(bool).to(device))\n",
    "\n",
    "    def forward(self, x):\n",
    "        B, T, _ = x.shape\n",
    "        x = self.ln1(x)\n",
    "        x = x + self.attn(x, x, x, need_weights=False, attn_mask=self.mask[:T, :T])[0]\n",
    "        x = x + self.mlp(self.ln2(x))\n",
    "        return x\n",
    "\n",
    "class Model(pl.LightningModule):\n",
    "    def __init__(self, vocab_size, lr=0.004):\n",
    "        super().__init__()\n",
    "        self.lr = lr\n",
    "        self.model = MinGPT(vocab_size, embed_dim=192, num_heads=4, num_layers=2, dropout=0.1)\n",
    "    \n",
    "    def forward(self, x, y=None):\n",
    "        logits = self.model(x)\n",
    "        return logits if y is None else F.cross_entropy(logits.view(-1, logits.size(-1)), y.view(-1), ignore_index=-1)\n",
    "\n",
    "    def train_dataloader(self):\n",
    "        return data.DataLoader(train, batch_size=64, num_workers=0, sampler=data.RandomSampler(train, False, 5_000))\n",
    "    \n",
    "    def val_dataloader(self):\n",
    "        return data.DataLoader(test, batch_size=16, num_workers=0)\n",
    "    \n",
    "    def training_step(self, batch, batch_idx):\n",
    "        return self(*batch)\n",
    "\n",
    "    def validation_step(self, batch, batch_idx):\n",
    "        loss = self(*batch)\n",
    "        self.log(\"test_loss\", loss, prog_bar=True, on_step=False, on_epoch=True)\n",
    "        return loss\n",
    "\n",
    "    def validation_epoch_end(self, outs):\n",
    "        with torch.no_grad():\n",
    "            x = torch.tensor([dataset.stoi[s] for s in \"And now \"], dtype=torch.long)[None,...].to(device)\n",
    "            y = self.model.generate(x, 64)[0]\n",
    "            print(\"\".join([dataset.itos[int(i)] for i in y]))\n",
    "\n",
    "    def configure_optimizers(self):\n",
    "        optim = torch.optim.AdamW(self.parameters(), lr=self.lr)\n",
    "        sched = torch.optim.lr_scheduler.ExponentialLR(optim, gamma=0.999, last_epoch=-1)\n",
    "        return [optim], [sched]\n",
    "\n",
    "model = Model(len(dataset.vocab))\n",
    "trainer = pl.Trainer(gradient_clip_val=1.0, max_epochs=25, enable_progress_bar=True, accelerator=\"gpu\" if device == \"cuda\" else \"cpu\")\n",
    "trainer.fit(model)"
   ]
  },
  {
   "cell_type": "code",
   "execution_count": 4,
   "metadata": {},
   "outputs": [
    {
     "name": "stdout",
     "output_type": "stream",
     "text": [
      "O God, O God! what this her both the stanks:\n",
      "Will to destretch by cill tens sours. Why, sit you we courser,\n",
      "Is a boumand worth you slewill be his\n",
      "confactite me strate will well. If:\n",
      "Stom which st he much henceds feel; to though think.\n",
      "\n",
      "FRrgman:\n",
      "We have may say, tongue was, my businocenty, and this is most\n",
      "Bure to spection by shall be duking, and so sea:\n",
      "Therein well wick stack sain and sound\n",
      "By give a might husband all tell my soly\n",
      "With my warship. Ty say the grooks are with my wenperdon,\n",
      "Warwick ne so more be seen she shall not:\n",
      "What spur hath no send you saked by burning in this.\n",
      "\n",
      "KING RIVERROKE:\n",
      "Then, the contry struch may speedins mind,\n",
      "To stopposs ha\n"
     ]
    }
   ],
   "source": [
    "y = model.to(device).model.generate(torch.tensor([dataset.stoi[s] for s in \"O God, O God!\"]).unsqueeze(0).to(device), 650)\n",
    "print(\"\".join([dataset.itos[int(i)] for i in y[0]]))"
   ]
  }
 ],
 "metadata": {
  "kernelspec": {
   "display_name": "base",
   "language": "python",
   "name": "python3"
  },
  "language_info": {
   "codemirror_mode": {
    "name": "ipython",
    "version": 3
   },
   "file_extension": ".py",
   "mimetype": "text/x-python",
   "name": "python",
   "nbconvert_exporter": "python",
   "pygments_lexer": "ipython3",
   "version": "3.10.8"
  },
  "orig_nbformat": 4,
  "vscode": {
   "interpreter": {
    "hash": "c070a6546767260d3817b5bdd38c64a6478cec33d40e8bb7d9bbc980115d8646"
   }
  }
 },
 "nbformat": 4,
 "nbformat_minor": 2
}

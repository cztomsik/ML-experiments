{
 "cells": [
  {
   "cell_type": "code",
   "execution_count": null,
   "metadata": {},
   "outputs": [],
   "source": [
    "import torch\n",
    "from torch import nn\n",
    "import torch.nn.functional as F\n",
    "import pytorch_lightning as pl\n",
    "import datasets\n",
    "import re\n",
    "import random\n",
    "\n",
    "pl.seed_everything(42)\n",
    "\n",
    "shakespeare = datasets.load_dataset('tiny_shakespeare')[\"train\"][0][\"text\"].lower()"
   ]
  },
  {
   "cell_type": "code",
   "execution_count": 78,
   "metadata": {},
   "outputs": [],
   "source": [
    "sentences = [re.sub(r\"[.,:;!?\\\"'-]\", \"\", s.lower()).split() for s in shakespeare.split(\".\")][:1000]\n",
    "vocab = sorted(set([w for s in sentences for w in s]))\n",
    "word_to_idx = { word: idx for idx, word in enumerate(vocab) }"
   ]
  },
  {
   "cell_type": "code",
   "execution_count": 79,
   "metadata": {},
   "outputs": [],
   "source": [
    "look_around = 2\n",
    "train = [[word_to_idx[w] for w in s] for s in sentences if len(s) > (look_around * 2)]\n",
    "\n",
    "def windows():\n",
    "    for ids in train:\n",
    "        for i in range(len(ids) - (look_around * 2)):\n",
    "            cx = ids[i : (i + look_around * 2 + 1)]\n",
    "            middle = cx.pop(look_around)\n",
    "            yield (torch.tensor(cx), torch.tensor(middle))"
   ]
  },
  {
   "cell_type": "code",
   "execution_count": 96,
   "metadata": {},
   "outputs": [
    {
     "name": "stderr",
     "output_type": "stream",
     "text": [
      "GPU available: True (mps), used: False\n",
      "TPU available: False, using: 0 TPU cores\n",
      "IPU available: False, using: 0 IPUs\n",
      "HPU available: False, using: 0 HPUs\n",
      "\n",
      "  | Name      | Type      | Params\n",
      "----------------------------------------\n",
      "0 | embedding | Embedding | 71.6 K\n",
      "1 | linear    | Linear    | 75.2 K\n",
      "----------------------------------------\n",
      "146 K     Trainable params\n",
      "0         Non-trainable params\n",
      "146 K     Total params\n",
      "0.587     Total estimated model params size (MB)\n"
     ]
    },
    {
     "name": "stdout",
     "output_type": "stream",
     "text": [
      "Epoch 0: 100%|██████████| 97/97 [00:00<00:00, 146.61it/s, loss=8.09, v_num=143] first ~= second:  tensor(-0.1279)\n",
      "Epoch 1: 100%|██████████| 97/97 [00:00<00:00, 131.72it/s, loss=7.87, v_num=143] first ~= second:  tensor(-0.1237)\n",
      "Epoch 2: 100%|██████████| 97/97 [00:00<00:00, 144.55it/s, loss=7.59, v_num=143] first ~= second:  tensor(-0.1150)\n",
      "Epoch 3: 100%|██████████| 97/97 [00:00<00:00, 143.43it/s, loss=7.24, v_num=143] first ~= second:  tensor(-0.0958)\n",
      "Epoch 4: 100%|██████████| 97/97 [00:00<00:00, 134.00it/s, loss=6.9, v_num=143]  first ~= second:  tensor(-0.0671)\n",
      "Epoch 5: 100%|██████████| 97/97 [00:00<00:00, 136.57it/s, loss=6.68, v_num=143] first ~= second:  tensor(-0.0329)\n",
      "Epoch 6: 100%|██████████| 97/97 [00:00<00:00, 139.98it/s, loss=6.47, v_num=143] first ~= second:  tensor(0.0009)\n",
      "Epoch 7: 100%|██████████| 97/97 [00:00<00:00, 117.75it/s, loss=6.46, v_num=143] first ~= second:  tensor(0.0294)\n",
      "Epoch 8: 100%|██████████| 97/97 [00:00<00:00, 154.91it/s, loss=6.3, v_num=143]  first ~= second:  tensor(0.0535)\n",
      "Epoch 9: 100%|██████████| 97/97 [00:00<00:00, 155.55it/s, loss=6.29, v_num=143] first ~= second:  tensor(0.0764)\n",
      "Epoch 10: 100%|██████████| 97/97 [00:00<00:00, 154.82it/s, loss=6.16, v_num=143] first ~= second:  tensor(0.0993)\n",
      "Epoch 11: 100%|██████████| 97/97 [00:00<00:00, 155.77it/s, loss=6.2, v_num=143]  first ~= second:  tensor(0.1155)\n",
      "Epoch 12: 100%|██████████| 97/97 [00:00<00:00, 154.31it/s, loss=6.12, v_num=143] first ~= second:  tensor(0.1313)\n",
      "Epoch 13: 100%|██████████| 97/97 [00:00<00:00, 155.72it/s, loss=6.07, v_num=143] first ~= second:  tensor(0.1447)\n",
      "Epoch 14: 100%|██████████| 97/97 [00:00<00:00, 150.86it/s, loss=5.99, v_num=143] first ~= second:  tensor(0.1572)\n",
      "Epoch 15: 100%|██████████| 97/97 [00:00<00:00, 154.12it/s, loss=5.99, v_num=143] first ~= second:  tensor(0.1676)\n",
      "Epoch 16: 100%|██████████| 97/97 [00:00<00:00, 155.96it/s, loss=5.89, v_num=143] first ~= second:  tensor(0.1773)\n",
      "Epoch 17: 100%|██████████| 97/97 [00:00<00:00, 149.62it/s, loss=5.92, v_num=143] first ~= second:  tensor(0.1869)\n",
      "Epoch 18: 100%|██████████| 97/97 [00:00<00:00, 148.20it/s, loss=5.83, v_num=143] first ~= second:  tensor(0.1933)\n",
      "Epoch 19: 100%|██████████| 97/97 [00:00<00:00, 154.56it/s, loss=5.8, v_num=143]  first ~= second:  tensor(0.2015)\n",
      "Epoch 20: 100%|██████████| 97/97 [00:00<00:00, 154.49it/s, loss=5.7, v_num=143]  first ~= second:  tensor(0.2060)\n",
      "Epoch 21: 100%|██████████| 97/97 [00:00<00:00, 147.63it/s, loss=5.69, v_num=143] first ~= second:  tensor(0.2124)\n",
      "Epoch 22: 100%|██████████| 97/97 [00:00<00:00, 153.50it/s, loss=5.63, v_num=143] first ~= second:  tensor(0.2139)\n",
      "Epoch 23: 100%|██████████| 97/97 [00:00<00:00, 143.64it/s, loss=5.58, v_num=143] first ~= second:  tensor(0.2186)\n",
      "Epoch 24: 100%|██████████| 97/97 [00:00<00:00, 147.39it/s, loss=5.56, v_num=143] first ~= second:  tensor(0.2238)\n",
      "Epoch 25: 100%|██████████| 97/97 [00:00<00:00, 150.71it/s, loss=5.52, v_num=143] first ~= second:  tensor(0.2268)\n",
      "Epoch 26: 100%|██████████| 97/97 [00:00<00:00, 147.26it/s, loss=5.48, v_num=143] first ~= second:  tensor(0.2302)\n",
      "Epoch 27: 100%|██████████| 97/97 [00:00<00:00, 122.83it/s, loss=5.43, v_num=143] first ~= second:  tensor(0.2342)\n",
      "Epoch 28: 100%|██████████| 97/97 [00:00<00:00, 125.25it/s, loss=5.4, v_num=143]  first ~= second:  tensor(0.2362)\n",
      "Epoch 29: 100%|██████████| 97/97 [00:00<00:00, 123.77it/s, loss=5.4, v_num=143]  first ~= second:  tensor(0.2403)\n",
      "Epoch 30: 100%|██████████| 97/97 [00:01<00:00, 79.34it/s, loss=5.37, v_num=143] first ~= second:  tensor(0.2426)\n",
      "Epoch 31: 100%|██████████| 97/97 [00:00<00:00, 126.84it/s, loss=5.31, v_num=143] first ~= second:  tensor(0.2473)\n",
      "Epoch 32: 100%|██████████| 97/97 [00:00<00:00, 139.21it/s, loss=5.25, v_num=143] first ~= second:  tensor(0.2496)\n",
      "Epoch 33: 100%|██████████| 97/97 [00:00<00:00, 130.72it/s, loss=5.22, v_num=143] first ~= second:  tensor(0.2533)\n",
      "Epoch 34: 100%|██████████| 97/97 [00:00<00:00, 139.01it/s, loss=5.2, v_num=143]  first ~= second:  tensor(0.2559)\n",
      "Epoch 35: 100%|██████████| 97/97 [00:00<00:00, 146.58it/s, loss=5.15, v_num=143] first ~= second:  tensor(0.2588)\n",
      "Epoch 36: 100%|██████████| 97/97 [00:00<00:00, 130.74it/s, loss=5.11, v_num=143] first ~= second:  tensor(0.2618)\n",
      "Epoch 37: 100%|██████████| 97/97 [00:00<00:00, 147.77it/s, loss=5.17, v_num=143] first ~= second:  tensor(0.2633)\n",
      "Epoch 38: 100%|██████████| 97/97 [00:00<00:00, 145.43it/s, loss=5.08, v_num=143] first ~= second:  tensor(0.2664)\n",
      "Epoch 39: 100%|██████████| 97/97 [00:00<00:00, 140.25it/s, loss=5.04, v_num=143] first ~= second:  tensor(0.2698)\n",
      "Epoch 40: 100%|██████████| 97/97 [00:00<00:00, 139.76it/s, loss=5.01, v_num=143] first ~= second:  tensor(0.2732)\n",
      "Epoch 41: 100%|██████████| 97/97 [00:00<00:00, 143.71it/s, loss=4.97, v_num=143] first ~= second:  tensor(0.2762)\n",
      "Epoch 42: 100%|██████████| 97/97 [00:00<00:00, 145.85it/s, loss=4.98, v_num=143] first ~= second:  tensor(0.2793)\n",
      "Epoch 43: 100%|██████████| 97/97 [00:00<00:00, 141.98it/s, loss=4.95, v_num=143] first ~= second:  tensor(0.2836)\n",
      "Epoch 44: 100%|██████████| 97/97 [00:00<00:00, 144.39it/s, loss=4.91, v_num=143] first ~= second:  tensor(0.2881)\n",
      "Epoch 45: 100%|██████████| 97/97 [00:00<00:00, 144.59it/s, loss=4.81, v_num=143] first ~= second:  tensor(0.2915)\n",
      "Epoch 46: 100%|██████████| 97/97 [00:00<00:00, 149.12it/s, loss=4.8, v_num=143]  first ~= second:  tensor(0.2956)\n",
      "Epoch 47: 100%|██████████| 97/97 [00:00<00:00, 142.62it/s, loss=4.76, v_num=143] first ~= second:  tensor(0.2996)\n",
      "Epoch 48: 100%|██████████| 97/97 [00:00<00:00, 149.36it/s, loss=4.77, v_num=143] first ~= second:  tensor(0.3032)\n",
      "Epoch 49: 100%|██████████| 97/97 [00:00<00:00, 144.54it/s, loss=4.8, v_num=143]  first ~= second:  tensor(0.3080)\n",
      "Epoch 50: 100%|██████████| 97/97 [00:00<00:00, 138.47it/s, loss=4.69, v_num=143] first ~= second:  tensor(0.3115)\n",
      "Epoch 51: 100%|██████████| 97/97 [00:00<00:00, 126.06it/s, loss=4.68, v_num=143] first ~= second:  tensor(0.3153)\n",
      "Epoch 52: 100%|██████████| 97/97 [00:00<00:00, 147.94it/s, loss=4.71, v_num=143] first ~= second:  tensor(0.3189)\n",
      "Epoch 53: 100%|██████████| 97/97 [00:00<00:00, 139.11it/s, loss=4.62, v_num=143] first ~= second:  tensor(0.3229)\n",
      "Epoch 54: 100%|██████████| 97/97 [00:00<00:00, 142.86it/s, loss=4.63, v_num=143] first ~= second:  tensor(0.3263)\n",
      "Epoch 55: 100%|██████████| 97/97 [00:00<00:00, 138.85it/s, loss=4.63, v_num=143] first ~= second:  tensor(0.3301)\n",
      "Epoch 56: 100%|██████████| 97/97 [00:00<00:00, 141.01it/s, loss=4.58, v_num=143] first ~= second:  tensor(0.3333)\n",
      "Epoch 57: 100%|██████████| 97/97 [00:00<00:00, 135.18it/s, loss=4.56, v_num=143] first ~= second:  tensor(0.3373)\n",
      "Epoch 58: 100%|██████████| 97/97 [00:00<00:00, 141.07it/s, loss=4.54, v_num=143] first ~= second:  tensor(0.3417)\n",
      "Epoch 59: 100%|██████████| 97/97 [00:00<00:00, 143.12it/s, loss=4.51, v_num=143] first ~= second:  tensor(0.3460)\n",
      "Epoch 60: 100%|██████████| 97/97 [00:00<00:00, 128.62it/s, loss=4.49, v_num=143] first ~= second:  tensor(0.3487)\n",
      "Epoch 61: 100%|██████████| 97/97 [00:00<00:00, 147.78it/s, loss=4.5, v_num=143]  first ~= second:  tensor(0.3529)\n",
      "Epoch 62: 100%|██████████| 97/97 [00:00<00:00, 135.15it/s, loss=4.44, v_num=143] first ~= second:  tensor(0.3572)\n",
      "Epoch 63: 100%|██████████| 97/97 [00:00<00:00, 127.61it/s, loss=4.39, v_num=143] first ~= second:  tensor(0.3607)\n",
      "Epoch 64: 100%|██████████| 97/97 [00:00<00:00, 126.43it/s, loss=4.39, v_num=143] first ~= second:  tensor(0.3646)\n",
      "Epoch 65: 100%|██████████| 97/97 [00:00<00:00, 125.16it/s, loss=4.38, v_num=143] first ~= second:  tensor(0.3713)\n",
      "Epoch 66: 100%|██████████| 97/97 [00:00<00:00, 133.87it/s, loss=4.38, v_num=143] first ~= second:  tensor(0.3755)\n",
      "Epoch 67: 100%|██████████| 97/97 [00:00<00:00, 127.37it/s, loss=4.32, v_num=143] first ~= second:  tensor(0.3794)\n",
      "Epoch 68: 100%|██████████| 97/97 [00:00<00:00, 131.18it/s, loss=4.27, v_num=143] first ~= second:  tensor(0.3820)\n",
      "Epoch 69: 100%|██████████| 97/97 [00:00<00:00, 141.56it/s, loss=4.29, v_num=143] first ~= second:  tensor(0.3861)\n",
      "Epoch 70: 100%|██████████| 97/97 [00:00<00:00, 139.48it/s, loss=4.32, v_num=143] first ~= second:  tensor(0.3898)\n",
      "Epoch 71: 100%|██████████| 97/97 [00:00<00:00, 126.90it/s, loss=4.31, v_num=143] first ~= second:  tensor(0.3924)\n",
      "Epoch 72: 100%|██████████| 97/97 [00:00<00:00, 124.07it/s, loss=4.26, v_num=143] first ~= second:  tensor(0.3963)\n",
      "Epoch 73: 100%|██████████| 97/97 [00:00<00:00, 126.39it/s, loss=4.24, v_num=143] first ~= second:  tensor(0.4002)\n",
      "Epoch 74: 100%|██████████| 97/97 [00:00<00:00, 121.77it/s, loss=4.23, v_num=143] first ~= second:  tensor(0.4031)\n",
      "Epoch 75: 100%|██████████| 97/97 [00:00<00:00, 130.34it/s, loss=4.17, v_num=143] first ~= second:  tensor(0.4068)\n",
      "Epoch 76: 100%|██████████| 97/97 [00:00<00:00, 142.75it/s, loss=4.19, v_num=143] first ~= second:  tensor(0.4099)\n",
      "Epoch 77: 100%|██████████| 97/97 [00:00<00:00, 158.86it/s, loss=4.13, v_num=143] first ~= second:  tensor(0.4129)\n",
      "Epoch 78: 100%|██████████| 97/97 [00:00<00:00, 127.14it/s, loss=4.17, v_num=143] first ~= second:  tensor(0.4165)\n",
      "Epoch 79: 100%|██████████| 97/97 [00:00<00:00, 129.82it/s, loss=4.15, v_num=143] first ~= second:  tensor(0.4189)\n",
      "Epoch 80: 100%|██████████| 97/97 [00:00<00:00, 133.87it/s, loss=4.15, v_num=143] first ~= second:  tensor(0.4221)\n",
      "Epoch 81: 100%|██████████| 97/97 [00:00<00:00, 137.71it/s, loss=4.08, v_num=143] first ~= second:  tensor(0.4254)\n",
      "Epoch 82: 100%|██████████| 97/97 [00:00<00:00, 133.72it/s, loss=4.06, v_num=143] first ~= second:  tensor(0.4287)\n",
      "Epoch 83: 100%|██████████| 97/97 [00:00<00:00, 133.04it/s, loss=4.05, v_num=143] first ~= second:  tensor(0.4318)\n",
      "Epoch 84: 100%|██████████| 97/97 [00:00<00:00, 133.52it/s, loss=4.03, v_num=143] first ~= second:  tensor(0.4352)\n",
      "Epoch 85: 100%|██████████| 97/97 [00:00<00:00, 133.48it/s, loss=4.07, v_num=143] first ~= second:  tensor(0.4383)\n",
      "Epoch 86: 100%|██████████| 97/97 [00:00<00:00, 134.40it/s, loss=4.03, v_num=143] first ~= second:  tensor(0.4409)\n",
      "Epoch 87: 100%|██████████| 97/97 [00:00<00:00, 137.11it/s, loss=4, v_num=143]    first ~= second:  tensor(0.4447)\n",
      "Epoch 88: 100%|██████████| 97/97 [00:00<00:00, 133.59it/s, loss=4.01, v_num=143] first ~= second:  tensor(0.4480)\n",
      "Epoch 89: 100%|██████████| 97/97 [00:00<00:00, 132.65it/s, loss=3.96, v_num=143] first ~= second:  tensor(0.4508)\n",
      "Epoch 90: 100%|██████████| 97/97 [00:00<00:00, 133.19it/s, loss=3.98, v_num=143] first ~= second:  tensor(0.4546)\n",
      "Epoch 91: 100%|██████████| 97/97 [00:00<00:00, 133.08it/s, loss=4.03, v_num=143] first ~= second:  tensor(0.4570)\n",
      "Epoch 92: 100%|██████████| 97/97 [00:00<00:00, 135.75it/s, loss=3.95, v_num=143] first ~= second:  tensor(0.4598)\n",
      "Epoch 93: 100%|██████████| 97/97 [00:00<00:00, 138.39it/s, loss=3.95, v_num=143] first ~= second:  tensor(0.4627)\n",
      "Epoch 94: 100%|██████████| 97/97 [00:00<00:00, 133.74it/s, loss=3.95, v_num=143] first ~= second:  tensor(0.4660)\n",
      "Epoch 95: 100%|██████████| 97/97 [00:00<00:00, 132.42it/s, loss=3.93, v_num=143] first ~= second:  tensor(0.4685)\n",
      "Epoch 96: 100%|██████████| 97/97 [00:00<00:00, 134.27it/s, loss=3.95, v_num=143] first ~= second:  tensor(0.4707)\n",
      "Epoch 97: 100%|██████████| 97/97 [00:00<00:00, 133.63it/s, loss=3.93, v_num=143] first ~= second:  tensor(0.4740)\n",
      "Epoch 98: 100%|██████████| 97/97 [00:00<00:00, 134.26it/s, loss=3.84, v_num=143] first ~= second:  tensor(0.4755)\n",
      "Epoch 99: 100%|██████████| 97/97 [00:00<00:00, 133.26it/s, loss=3.86, v_num=143] first ~= second:  tensor(0.4789)\n",
      "Epoch 99: 100%|██████████| 97/97 [00:00<00:00, 132.90it/s, loss=3.86, v_num=143]"
     ]
    },
    {
     "name": "stderr",
     "output_type": "stream",
     "text": [
      "`Trainer.fit` stopped: `max_epochs=100` reached.\n"
     ]
    },
    {
     "name": "stdout",
     "output_type": "stream",
     "text": [
      "Epoch 99: 100%|██████████| 97/97 [00:00<00:00, 132.34it/s, loss=3.86, v_num=143]\n"
     ]
    }
   ],
   "source": [
    "class Word2Vec(pl.LightningModule):\n",
    "    def __init__(self, vocab_size, embedding_dim = 20):\n",
    "        super().__init__()\n",
    "        self.embedding = nn.Embedding(vocab_size, embedding_dim)\n",
    "        self.linear = nn.Linear(embedding_dim, vocab_size)\n",
    "\n",
    "    def forward(self, x):\n",
    "        x = self.embedding(x)\n",
    "        x = x.mean(dim=1)\n",
    "        x = self.linear(x)\n",
    "        return x\n",
    "    \n",
    "    def training_step(self, batch, batch_idx):\n",
    "        context, middle = batch\n",
    "        return F.cross_entropy(self(context), middle)\n",
    "\n",
    "    def configure_optimizers(self):\n",
    "        return torch.optim.Adam(self.parameters(), lr=0.001)\n",
    "\n",
    "    def training_epoch_end(self, outs):\n",
    "        print(\" first ~= second: \", self.compare(\"first\", \"second\"))\n",
    "\n",
    "    def lookup(self, word):\n",
    "        return self.embedding(torch.tensor(word_to_idx[word])).detach()\n",
    "\n",
    "    def compare(self, a, b):\n",
    "        #F.cosine_similarity?\n",
    "        from numpy.linalg import norm\n",
    "        a = self.lookup(a)\n",
    "        b = self.lookup(b)\n",
    "        return a.dot(b)/norm(a)/norm(b)\n",
    "    \n",
    "    def predict(self, word):\n",
    "        id = self(torch.tensor(word_to_idx[word]).view(1, 1, 1)).detach().argmax()\n",
    "        return vocab[id]\n",
    "\n",
    "\n",
    "model = Word2Vec(len(vocab))\n",
    "trainer = pl.Trainer(max_epochs=100)\n",
    "trainer.fit(model, torch.utils.data.DataLoader(list(windows()), batch_size=200, shuffle=True))\n"
   ]
  },
  {
   "cell_type": "code",
   "execution_count": 109,
   "metadata": {},
   "outputs": [
    {
     "name": "stdout",
     "output_type": "stream",
     "text": [
      "mischief overtaen\n",
      "embracements his\n",
      "troublesome percussion\n",
      "misery our\n",
      "used up\n",
      "kinder woollen\n",
      "death standst\n",
      "bred a\n",
      "broil weeded\n",
      "sets so\n",
      "lieutenant i\n",
      "heavens piercing\n",
      "leanness the\n",
      "knew by\n",
      "methoughti straight\n",
      "would invincible\n",
      "surer are\n",
      "banish you\n",
      "sign in\n",
      "selves to\n"
     ]
    }
   ],
   "source": [
    "for w in random.sample(vocab, 20):\n",
    "    print(w, model.predict(w))"
   ]
  },
  {
   "cell_type": "code",
   "execution_count": 112,
   "metadata": {},
   "outputs": [
    {
     "name": "stdout",
     "output_type": "stream",
     "text": [
      "first ~= second tensor(0.4789)\n",
      "first ~= third tensor(0.2472)\n",
      "second ~= third tensor(0.4937)\n",
      "first ~= servingman tensor(0.1155)\n",
      "first ~= citizen tensor(0.2037)\n",
      "second ~= citizen tensor(0.4524)\n",
      "first ~= senator tensor(0.1423)\n",
      "lord ~= god tensor(0.3285)\n"
     ]
    }
   ],
   "source": [
    "for a, b in [[\"first\", \"second\"], [\"first\", \"third\"], [\"second\", \"third\"], [\"first\", \"servingman\"], [\"first\", \"citizen\"], [\"second\", \"citizen\"], [\"first\", \"senator\"], [\"lord\", \"god\"]]:\n",
    "    print(a, \"~=\", b, model.compare(a, b))"
   ]
  }
 ],
 "metadata": {
  "kernelspec": {
   "display_name": "base",
   "language": "python",
   "name": "python3"
  },
  "language_info": {
   "codemirror_mode": {
    "name": "ipython",
    "version": 3
   },
   "file_extension": ".py",
   "mimetype": "text/x-python",
   "name": "python",
   "nbconvert_exporter": "python",
   "pygments_lexer": "ipython3",
   "version": "3.10.8 | packaged by conda-forge | (main, Nov 22 2022, 08:25:13) [Clang 14.0.6 ]"
  },
  "orig_nbformat": 4,
  "vscode": {
   "interpreter": {
    "hash": "c070a6546767260d3817b5bdd38c64a6478cec33d40e8bb7d9bbc980115d8646"
   }
  }
 },
 "nbformat": 4,
 "nbformat_minor": 2
}

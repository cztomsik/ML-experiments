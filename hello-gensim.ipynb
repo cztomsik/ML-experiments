{
 "cells": [
  {
   "cell_type": "code",
   "execution_count": 12,
   "metadata": {},
   "outputs": [
    {
     "name": "stderr",
     "output_type": "stream",
     "text": [
      "Found cached dataset tiny_shakespeare (/Users/cztomsik/.cache/huggingface/datasets/tiny_shakespeare/default/1.0.0/b5b13969f09fe8707337f6cb296314fbe06960bd9a868dca39e713e163d27b5e)\n",
      "100%|██████████| 3/3 [00:00<00:00, 942.82it/s]\n"
     ]
    }
   ],
   "source": [
    "from gensim.models import Word2Vec\n",
    "import datasets\n",
    "\n",
    "shakespeare = datasets.load_dataset('tiny_shakespeare')[\"train\"][0][\"text\"]\n",
    "sentences = [s.lower().split() for s in shakespeare.split(\".\")]\n",
    "model = Word2Vec(sentences=sentences, vector_size=100, window=5, min_count=1, workers=4)\n",
    "#model.save(\"word2vec.model\")"
   ]
  },
  {
   "cell_type": "code",
   "execution_count": 25,
   "metadata": {},
   "outputs": [
    {
     "data": {
      "text/plain": [
       "[('father', 0.9993892908096313),\n",
       " ('against', 0.9993733763694763),\n",
       " ('royal', 0.9993212819099426),\n",
       " ('noble', 0.999305248260498),\n",
       " ('dead', 0.9992730617523193),\n",
       " ('whose', 0.9992532134056091),\n",
       " ('brother', 0.9992515444755554),\n",
       " ('worthy', 0.9992355108261108),\n",
       " ('unto', 0.9992274045944214),\n",
       " ('sweet', 0.9992117285728455),\n",
       " ('most', 0.9992049336433411),\n",
       " ('poor', 0.9991923570632935),\n",
       " ('fair', 0.9991690516471863),\n",
       " ('head', 0.9990876317024231),\n",
       " ('who', 0.9990628957748413),\n",
       " ('every', 0.9990606307983398),\n",
       " ('prince', 0.9990575909614563),\n",
       " ('holy', 0.999056875705719),\n",
       " (\"what's\", 0.9990557432174683),\n",
       " ('dear', 0.9990164041519165)]"
      ]
     },
     "execution_count": 25,
     "metadata": {},
     "output_type": "execute_result"
    }
   ],
   "source": [
    "model.wv.most_similar(positive=[\"son\"], topn=20)"
   ]
  },
  {
   "cell_type": "code",
   "execution_count": 26,
   "metadata": {},
   "outputs": [
    {
     "data": {
      "text/plain": [
       "(20018, 100)"
      ]
     },
     "execution_count": 26,
     "metadata": {},
     "output_type": "execute_result"
    }
   ],
   "source": [
    "model.wv.get_normed_vectors().shape"
   ]
  }
 ],
 "metadata": {
  "kernelspec": {
   "display_name": "base",
   "language": "python",
   "name": "python3"
  },
  "language_info": {
   "codemirror_mode": {
    "name": "ipython",
    "version": 3
   },
   "file_extension": ".py",
   "mimetype": "text/x-python",
   "name": "python",
   "nbconvert_exporter": "python",
   "pygments_lexer": "ipython3",
   "version": "3.10.8"
  },
  "orig_nbformat": 4,
  "vscode": {
   "interpreter": {
    "hash": "c070a6546767260d3817b5bdd38c64a6478cec33d40e8bb7d9bbc980115d8646"
   }
  }
 },
 "nbformat": 4,
 "nbformat_minor": 2
}

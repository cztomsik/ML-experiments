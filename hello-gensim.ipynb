{
 "cells": [
  {
   "cell_type": "code",
   "execution_count": null,
   "metadata": {},
   "outputs": [],
   "source": [
    "from gensim.models import Word2Vec\n",
    "import datasets\n",
    "import re\n",
    "\n",
    "shakespeare = datasets.load_dataset('tiny_shakespeare')[\"train\"][0][\"text\"]\n",
    "sentences = [re.sub(r\"[.,:;!?\\\"'-]\", \"\", s.lower()).split() for s in shakespeare.split(\".\")][:1000]\n",
    "model = Word2Vec(sentences=sentences, vector_size=20, window=2, min_count=1, workers=1, epochs=100)"
   ]
  },
  {
   "cell_type": "code",
   "execution_count": 4,
   "metadata": {},
   "outputs": [
    {
     "data": {
      "text/plain": [
       "[('seventh', 0.9123134613037109),\n",
       " ('second', 0.8919926285743713),\n",
       " ('fifth', 0.8817322850227356),\n",
       " ('sixth', 0.8810856938362122),\n",
       " ('third', 0.8680620789527893),\n",
       " ('fourth', 0.8551952838897705),\n",
       " ('assembly', 0.7413655519485474),\n",
       " ('steed', 0.7247478365898132),\n",
       " ('consulship', 0.7104071378707886),\n",
       " ('scabs', 0.7081660628318787),\n",
       " ('enigma', 0.7032967805862427),\n",
       " ('ready', 0.7029270529747009),\n",
       " ('sense', 0.6898258924484253),\n",
       " ('hint', 0.6806573867797852),\n",
       " ('notis', 0.6786572933197021),\n",
       " ('mercy', 0.6760181188583374),\n",
       " ('left', 0.6645035147666931),\n",
       " ('following', 0.6564292907714844),\n",
       " ('yere', 0.6562554240226746),\n",
       " ('agents', 0.6538556814193726)]"
      ]
     },
     "execution_count": 4,
     "metadata": {},
     "output_type": "execute_result"
    }
   ],
   "source": [
    "model.wv.most_similar(\"first\", topn=20)"
   ]
  }
 ],
 "metadata": {
  "kernelspec": {
   "display_name": "base",
   "language": "python",
   "name": "python3"
  },
  "language_info": {
   "codemirror_mode": {
    "name": "ipython",
    "version": 3
   },
   "file_extension": ".py",
   "mimetype": "text/x-python",
   "name": "python",
   "nbconvert_exporter": "python",
   "pygments_lexer": "ipython3",
   "version": "3.10.8"
  },
  "orig_nbformat": 4,
  "vscode": {
   "interpreter": {
    "hash": "c070a6546767260d3817b5bdd38c64a6478cec33d40e8bb7d9bbc980115d8646"
   }
  }
 },
 "nbformat": 4,
 "nbformat_minor": 2
}

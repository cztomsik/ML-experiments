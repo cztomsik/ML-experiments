{
 "cells": [
  {
   "cell_type": "code",
   "execution_count": 1,
   "metadata": {},
   "outputs": [],
   "source": [
    "import torch\n",
    "import torch.nn as nn\n",
    "import torch.nn.functional as F\n",
    "import math\n",
    "\n",
    "class Encoder(nn.Module):\n",
    "    def __init__(self, vocab_size, block_size=256, embed_dim=64, num_layers=4):\n",
    "        super().__init__()\n",
    "        self.block_size = block_size\n",
    "        self.transformer = nn.Sequential(\n",
    "            nn.Embedding(vocab_size, embed_dim),\n",
    "            nn.Sequential(*[Layer(embed_dim, block_size) for _ in range(num_layers)]),\n",
    "            nn.LayerNorm(embed_dim),\n",
    "        )\n",
    "        self.lm_head = nn.Linear(embed_dim, vocab_size, bias=False)\n",
    "    \n",
    "    def forward(self, x):\n",
    "        return self.lm_head(self.transformer(x))\n",
    "\n",
    "class Layer(nn.Module):\n",
    "    def __init__(self, embed_dim, block_size):\n",
    "        super().__init__()\n",
    "        self.ln1 = nn.LayerNorm(embed_dim)\n",
    "        self.qkv = nn.Linear(embed_dim, embed_dim * 3, bias=False)\n",
    "        self.proj = nn.Linear(embed_dim, embed_dim, bias=False)\n",
    "        self.ln2 = nn.LayerNorm(embed_dim)\n",
    "        self.mlp = nn.Sequential(\n",
    "            nn.Linear(embed_dim, 4 * embed_dim),\n",
    "            nn.GELU(approximate=\"tanh\"),\n",
    "            nn.Linear(4 * embed_dim, embed_dim),\n",
    "        )\n",
    "        t = torch.arange(-block_size+1, 1)\n",
    "        self.register_buffer(\"alibi\", torch.tril(torch.cat([t, t[:-1]]).unfold(0, len(t), 1).flip(0)))\n",
    "\n",
    "    def forward(self, x):\n",
    "        B, T, C = x.shape\n",
    "        q, k, v = self.qkv(self.ln1(x)).chunk(3, dim=-1)\n",
    "        w = q @ k.transpose(-2, -1) / math.sqrt(C) # (B, T, T)\n",
    "        w = w + self.alibi[:T, :T]\n",
    "        w = F.softmax(w, dim=-1)\n",
    "        attn = self.proj(w @ v) # (B, T, C)\n",
    "\n",
    "        x = x + attn\n",
    "        x = x + self.mlp(self.ln2(x))\n",
    "        return x"
   ]
  },
  {
   "cell_type": "code",
   "execution_count": 2,
   "metadata": {},
   "outputs": [
    {
     "name": "stderr",
     "output_type": "stream",
     "text": [
      "/Users/cztomsik/miniconda3/envs/torch-mps/lib/python3.10/site-packages/tqdm/auto.py:22: TqdmWarning: IProgress not found. Please update jupyter and ipywidgets. See https://ipywidgets.readthedocs.io/en/stable/user_install.html\n",
      "  from .autonotebook import tqdm as notebook_tqdm\n",
      "Found cached dataset tiny_shakespeare (/Users/cztomsik/.cache/huggingface/datasets/tiny_shakespeare/default/1.0.0/b5b13969f09fe8707337f6cb296314fbe06960bd9a868dca39e713e163d27b5e)\n",
      "100%|██████████| 3/3 [00:00<00:00, 443.51it/s]\n",
      "Global seed set to 89026614\n",
      "GPU available: True (mps), used: True\n",
      "TPU available: False, using: 0 TPU cores\n",
      "IPU available: False, using: 0 IPUs\n",
      "HPU available: False, using: 0 HPUs\n",
      "/Users/cztomsik/miniconda3/envs/torch-mps/lib/python3.10/site-packages/lightning/pytorch/trainer/connectors/logger_connector/logger_connector.py:67: UserWarning: Starting from v1.9.0, `tensorboardX` has been removed as a dependency of the `lightning.pytorch` package, due to potential conflicts with other packages in the ML ecosystem. For this reason, `logger=True` will use `CSVLogger` as the default logger, unless the `tensorboard` or `tensorboardX` packages are found. Please `pip install lightning[extra]` or one of them to enable TensorBoard support by default\n",
      "  warning_cache.warn(\n",
      "\n",
      "  | Name  | Type    | Params\n",
      "----------------------------------\n",
      "0 | model | Encoder | 207 K \n",
      "----------------------------------\n",
      "207 K     Trainable params\n",
      "0         Non-trainable params\n",
      "207 K     Total params\n",
      "0.830     Total estimated model params size (MB)\n"
     ]
    },
    {
     "name": "stdout",
     "output_type": "stream",
     "text": [
      "Sanity Checking DataLoader 0: 100%|██████████| 2/2 [00:00<00:00, 23.88it/s]"
     ]
    },
    {
     "name": "stderr",
     "output_type": "stream",
     "text": [
      "/Users/cztomsik/miniconda3/envs/torch-mps/lib/python3.10/site-packages/lightning/pytorch/trainer/connectors/data_connector.py:224: PossibleUserWarning: The dataloader, val_dataloader 0, does not have many workers which may be a bottleneck. Consider increasing the value of the `num_workers` argument` (try 8 which is the number of cpus on this machine) in the `DataLoader` init to improve performance.\n",
      "  rank_zero_warn(\n"
     ]
    },
    {
     "name": "stdout",
     "output_type": "stream",
     "text": [
      "Hello, my n😷me is\n",
      "[[('J', 0.06201637163758278), ('F', 0.033590883016586304), (' ', 0.03334825858473778)]]\n",
      "                                                                           "
     ]
    },
    {
     "name": "stderr",
     "output_type": "stream",
     "text": [
      "/Users/cztomsik/miniconda3/envs/torch-mps/lib/python3.10/site-packages/lightning/pytorch/trainer/connectors/data_connector.py:224: PossibleUserWarning: The dataloader, train_dataloader, does not have many workers which may be a bottleneck. Consider increasing the value of the `num_workers` argument` (try 8 which is the number of cpus on this machine) in the `DataLoader` init to improve performance.\n",
      "  rank_zero_warn(\n"
     ]
    },
    {
     "name": "stdout",
     "output_type": "stream",
     "text": [
      "Epoch 0: 100%|██████████| 202/202 [00:07<00:00, 26.36it/s, loss=3.27, v_num=48]Hello, my n😷me is\n",
      "[[(' ', 0.17127932608127594), ('e', 0.09036801010370255), ('t', 0.058753374963998795)]]\n",
      "Epoch 1: 100%|██████████| 202/202 [00:07<00:00, 27.95it/s, loss=3.19, v_num=48, test_loss=3.280]Hello, my n😷me is\n",
      "[[('e', 0.11139622330665588), (' ', 0.10040083527565002), ('t', 0.07105366885662079)]]\n",
      "Epoch 2: 100%|██████████| 202/202 [00:07<00:00, 27.98it/s, loss=3.1, v_num=48, test_loss=3.220] Hello, my n😷me is\n",
      "[[(' ', 0.11714823544025421), ('e', 0.08352139592170715), ('h', 0.07656692713499069)]]\n",
      "Epoch 3: 100%|██████████| 202/202 [00:07<00:00, 28.03it/s, loss=3, v_num=48, test_loss=3.100]   Hello, my n😷me is\n",
      "[[(' ', 0.21999499201774597), ('e', 0.09472627937793732), ('a', 0.07238544523715973)]]\n",
      "Epoch 4: 100%|██████████| 202/202 [00:07<00:00, 27.79it/s, loss=2.82, v_num=48, test_loss=2.980]Hello, my n😷me is\n",
      "[[(' ', 0.35349783301353455), ('e', 0.11356089264154434), ('a', 0.10928848385810852)]]\n",
      "Epoch 5: 100%|██████████| 202/202 [00:07<00:00, 27.66it/s, loss=2.64, v_num=48, test_loss=2.840]Hello, my n😷me is\n",
      "[[(' ', 0.311877965927124), ('i', 0.12917427718639374), ('o', 0.12814635038375854)]]\n",
      "Epoch 6: 100%|██████████| 202/202 [00:07<00:00, 27.73it/s, loss=2.5, v_num=48, test_loss=2.560] Hello, my n😷me is\n",
      "[[(' ', 0.23424135148525238), ('o', 0.1957433968782425), ('a', 0.18954865634441376)]]\n",
      "Epoch 7: 100%|██████████| 202/202 [00:07<00:00, 27.68it/s, loss=2.38, v_num=48, test_loss=2.420]Hello, my n😷me is\n",
      "[[('i', 0.23966293036937714), ('a', 0.23525097966194153), ('o', 0.226533904671669)]]\n",
      "Epoch 8: 100%|██████████| 202/202 [00:07<00:00, 27.58it/s, loss=2.28, v_num=48, test_loss=2.270]Hello, my n😷me is\n",
      "[[('o', 0.3672269582748413), ('a', 0.18906575441360474), ('i', 0.16841630637645721)]]\n",
      "Epoch 9: 100%|██████████| 202/202 [00:07<00:00, 27.55it/s, loss=2.19, v_num=48, test_loss=2.220]Hello, my n😷me is\n",
      "[[('o', 0.3320988714694977), ('e', 0.26048535108566284), ('a', 0.16346655786037445)]]\n",
      "Epoch 10: 100%|██████████| 202/202 [00:07<00:00, 27.05it/s, loss=2.15, v_num=48, test_loss=2.170]Hello, my n😷me is\n",
      "[[('o', 0.41316866874694824), ('e', 0.21361249685287476), ('i', 0.10688073188066483)]]\n",
      "Epoch 11: 100%|██████████| 202/202 [00:07<00:00, 26.43it/s, loss=2.12, v_num=48, test_loss=2.100]Hello, my n😷me is\n",
      "[[('o', 0.458446741104126), ('e', 0.2196768820285797), ('a', 0.12440771609544754)]]\n",
      "Epoch 12: 100%|██████████| 202/202 [00:08<00:00, 25.06it/s, loss=2.08, v_num=48, test_loss=2.090]Hello, my n😷me is\n",
      "[[('o', 0.46040138602256775), ('e', 0.21865443885326385), ('a', 0.10816219449043274)]]\n",
      "Epoch 13: 100%|██████████| 202/202 [00:08<00:00, 23.04it/s, loss=2.05, v_num=48, test_loss=2.050]Hello, my n😷me is\n",
      "[[('o', 0.4659889042377472), ('a', 0.17390891909599304), ('e', 0.17094555497169495)]]\n",
      "Epoch 14: 100%|██████████| 202/202 [00:10<00:00, 19.36it/s, loss=2.01, v_num=48, test_loss=1.990]Hello, my n😷me is\n",
      "[[('o', 0.36763492226600647), ('e', 0.17518986761569977), ('a', 0.15870881080627441)]]\n",
      "Epoch 15: 100%|██████████| 202/202 [00:19<00:00, 10.52it/s, loss=1.97, v_num=48, test_loss=1.970]Hello, my n😷me is\n",
      "[[('o', 0.47372475266456604), ('a', 0.18155230581760406), ('i', 0.15103502571582794)]]\n",
      "Epoch 16: 100%|██████████| 202/202 [00:17<00:00, 11.62it/s, loss=1.96, v_num=48, test_loss=1.920]Hello, my n😷me is\n",
      "[[('o', 0.45211082696914673), ('e', 0.19164974987506866), ('a', 0.15479841828346252)]]\n",
      "Epoch 17: 100%|██████████| 202/202 [00:14<00:00, 13.66it/s, loss=1.93, v_num=48, test_loss=1.890]Hello, my n😷me is\n",
      "[[('o', 0.46193864941596985), ('a', 0.18444304168224335), ('e', 0.16663040220737457)]]\n",
      "Epoch 18: 100%|██████████| 202/202 [00:12<00:00, 16.06it/s, loss=1.9, v_num=48, test_loss=1.880] Hello, my n😷me is\n",
      "[[('o', 0.32076507806777954), ('a', 0.19140088558197021), ('e', 0.181588813662529)]]\n",
      "Epoch 19: 100%|██████████| 202/202 [00:11<00:00, 17.27it/s, loss=1.88, v_num=48, test_loss=1.880]Hello, my n😷me is\n",
      "[[('o', 0.46183618903160095), ('a', 0.2570350766181946), ('e', 0.13146691024303436)]]\n",
      "Epoch 20: 100%|██████████| 202/202 [00:11<00:00, 18.02it/s, loss=1.88, v_num=48, test_loss=1.880]Hello, my n😷me is\n",
      "[[('o', 0.3349325656890869), ('a', 0.2564813196659088), ('e', 0.1250666230916977)]]\n",
      "Epoch 21: 100%|██████████| 202/202 [00:11<00:00, 17.77it/s, loss=1.85, v_num=48, test_loss=1.840]Hello, my n😷me is\n",
      "[[('o', 0.41240113973617554), ('a', 0.20212224125862122), ('e', 0.1676594614982605)]]\n",
      "Epoch 22: 100%|██████████| 202/202 [00:12<00:00, 16.60it/s, loss=1.84, v_num=48, test_loss=1.840]Hello, my n😷me is\n",
      "[[('o', 0.3933095633983612), ('e', 0.20069950819015503), ('a', 0.158708855509758)]]\n",
      "Epoch 23: 100%|██████████| 202/202 [00:11<00:00, 17.33it/s, loss=1.85, v_num=48, test_loss=1.800]Hello, my n😷me is\n",
      "[[('o', 0.45124274492263794), ('a', 0.1609378159046173), ('e', 0.15052257478237152)]]\n",
      "Epoch 24: 100%|██████████| 202/202 [00:11<00:00, 17.72it/s, loss=1.84, v_num=48, test_loss=1.800]Hello, my n😷me is\n",
      "[[('o', 0.33091139793395996), ('a', 0.22523774206638336), ('e', 0.16352276504039764)]]\n",
      "Epoch 24: 100%|██████████| 202/202 [00:11<00:00, 17.63it/s, loss=1.84, v_num=48, test_loss=1.790]"
     ]
    },
    {
     "name": "stderr",
     "output_type": "stream",
     "text": [
      "`Trainer.fit` stopped: `max_epochs=25` reached.\n"
     ]
    },
    {
     "name": "stdout",
     "output_type": "stream",
     "text": [
      "Epoch 24: 100%|██████████| 202/202 [00:11<00:00, 17.55it/s, loss=1.84, v_num=48, test_loss=1.790]\n"
     ]
    }
   ],
   "source": [
    "import lightning as pl\n",
    "from shared import corpus, tokenizers, trainers\n",
    "\n",
    "text = corpus.shakespeare()\n",
    "tokenizer = tokenizers.unique_chars(text, mask_token=\"😷\")\n",
    "\n",
    "pl.seed_everything(89026614)\n",
    "model = Encoder(tokenizer.get_vocab_size())\n",
    "trainer = trainers.MLMTrainer(model, tokenizer, device = \"mps\")\n",
    "trainer.train(text, batch_size=36, epochs=25)"
   ]
  },
  {
   "cell_type": "code",
   "execution_count": 3,
   "metadata": {},
   "outputs": [
    {
     "data": {
      "text/plain": [
       "[[('o', 0.35112264752388),\n",
       "  ('a', 0.27821195125579834),\n",
       "  ('i', 0.21505515277385712)]]"
      ]
     },
     "execution_count": 3,
     "metadata": {},
     "output_type": "execute_result"
    }
   ],
   "source": [
    "trainer.wrapper.fill(\"Make n😷 more\")"
   ]
  }
 ],
 "metadata": {
  "kernelspec": {
   "display_name": "torch-mps",
   "language": "python",
   "name": "python3"
  },
  "language_info": {
   "codemirror_mode": {
    "name": "ipython",
    "version": 3
   },
   "file_extension": ".py",
   "mimetype": "text/x-python",
   "name": "python",
   "nbconvert_exporter": "python",
   "pygments_lexer": "ipython3",
   "version": "3.10.9"
  },
  "orig_nbformat": 4,
  "vscode": {
   "interpreter": {
    "hash": "0b771c8f4755fba7026a17ac6ea0287a4709b89559dd079886423c614dfd53ce"
   }
  }
 },
 "nbformat": 4,
 "nbformat_minor": 2
}

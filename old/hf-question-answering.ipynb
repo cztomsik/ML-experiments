{
 "cells": [
  {
   "cell_type": "code",
   "execution_count": 49,
   "metadata": {},
   "outputs": [],
   "source": [
    "from transformers import pipeline\n",
    "\n",
    "# encoder needs to be fine-tuned for QA tasks (squad2 is a QA dataset)\n",
    "#checkpoint = \"deepset/tinyroberta-squad2\"\n",
    "#checkpoint = \"distilbert-base-cased-distilled-squad\"\n",
    "#checkpoint = \"deepset/deberta-v3-base-squad2\"\n",
    "checkpoint = \"deepset/deberta-v3-large-squad2\"\n",
    "\n",
    "question_answerer = pipeline(\"question-answering\", model=checkpoint)"
   ]
  },
  {
   "cell_type": "code",
   "execution_count": 50,
   "metadata": {},
   "outputs": [],
   "source": [
    "context = \"\"\"\n",
    "Doom is a 1993 first-person shooter (FPS) game developed by id Software for MS-DOS.\n",
    "Players assume the role of a space marine, popularly known as Doomguy,\n",
    "fighting their way through hordes of invading demons from hell.\n",
    "Id began developing Doom after the release of their previous FPS, Wolfenstein 3D (1992).\n",
    "It emerged from a 3D game engine developed by John Carmack,\n",
    "who wanted to create a science fiction game inspired by Dungeons & Dragons and the films Evil Dead II and Aliens.\n",
    "The first episode, comprising nine levels, was distributed freely as shareware;\n",
    "the full game, with two further episodes, was sold via mail order.\n",
    "An updated version with an additional episode and more difficult levels,\n",
    "The Ultimate Doom, was released in 1995 and sold at retail.\n",
    "\"\"\""
   ]
  },
  {
   "cell_type": "code",
   "execution_count": 51,
   "metadata": {},
   "outputs": [
    {
     "data": {
      "text/plain": [
       "{'score': 0.5251367092132568,\n",
       " 'start': 15,\n",
       " 'end': 47,\n",
       " 'answer': ' first-person shooter (FPS) game'}"
      ]
     },
     "execution_count": 51,
     "metadata": {},
     "output_type": "execute_result"
    }
   ],
   "source": [
    "question_answerer(question=\"What is Doom?\", context=context)"
   ]
  },
  {
   "cell_type": "code",
   "execution_count": 52,
   "metadata": {},
   "outputs": [
    {
     "data": {
      "text/plain": [
       "{'score': 0.982053279876709, 'start': 146, 'end': 155, 'answer': ' Doomguy,'}"
      ]
     },
     "execution_count": 52,
     "metadata": {},
     "output_type": "execute_result"
    }
   ],
   "source": [
    "question_answerer(question=\"What is the name of the main protagonist?\", context=context)"
   ]
  },
  {
   "cell_type": "code",
   "execution_count": 53,
   "metadata": {},
   "outputs": [
    {
     "data": {
      "text/plain": [
       "{'score': 0.941704273223877, 'start': 213, 'end': 219, 'answer': ' hell.'}"
      ]
     },
     "execution_count": 53,
     "metadata": {},
     "output_type": "execute_result"
    }
   ],
   "source": [
    "question_answerer(question=\"Where is the game situated?\", context=context)"
   ]
  },
  {
   "cell_type": "code",
   "execution_count": 54,
   "metadata": {},
   "outputs": [
    {
     "data": {
      "text/plain": [
       "[{'score': 0.11063767969608307,\n",
       "  'start': 372,\n",
       "  'end': 412,\n",
       "  'answer': ' wanted to create a science fiction game'},\n",
       " {'score': 0.04494601860642433,\n",
       "  'start': 372,\n",
       "  'end': 443,\n",
       "  'answer': ' wanted to create a science fiction game inspired by Dungeons & Dragons'},\n",
       " {'score': 0.04060231149196625,\n",
       "  'start': 424,\n",
       "  'end': 482,\n",
       "  'answer': ' Dungeons & Dragons and the films Evil Dead II and Aliens.'}]"
      ]
     },
     "execution_count": 54,
     "metadata": {},
     "output_type": "execute_result"
    }
   ],
   "source": [
    "question_answerer(question=\"What was motivation?\", context=context, top_k=3)"
   ]
  }
 ],
 "metadata": {
  "kernelspec": {
   "display_name": "base",
   "language": "python",
   "name": "python3"
  },
  "language_info": {
   "codemirror_mode": {
    "name": "ipython",
    "version": 3
   },
   "file_extension": ".py",
   "mimetype": "text/x-python",
   "name": "python",
   "nbconvert_exporter": "python",
   "pygments_lexer": "ipython3",
   "version": "3.10.8"
  },
  "orig_nbformat": 4,
  "vscode": {
   "interpreter": {
    "hash": "c070a6546767260d3817b5bdd38c64a6478cec33d40e8bb7d9bbc980115d8646"
   }
  }
 },
 "nbformat": 4,
 "nbformat_minor": 2
}

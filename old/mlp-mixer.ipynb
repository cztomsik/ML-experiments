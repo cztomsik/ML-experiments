{
 "cells": [
  {
   "cell_type": "code",
   "execution_count": 1,
   "metadata": {},
   "outputs": [],
   "source": [
    "import torch\n",
    "import torch.nn as nn\n",
    "import torch.nn.functional as F\n",
    "\n",
    "class Encoder(nn.Module):\n",
    "    def __init__(self, vocab_size, block_size=256, embed_dim=64, num_layers=4):\n",
    "        super().__init__()\n",
    "        self.block_size = block_size\n",
    "        self.transformer = nn.Sequential(\n",
    "            nn.Embedding(vocab_size, embed_dim),\n",
    "            nn.Sequential(*[Layer(embed_dim, block_size) for _ in range(num_layers)]),\n",
    "            nn.LayerNorm(embed_dim),\n",
    "        )\n",
    "        self.lm_head = nn.Linear(embed_dim, vocab_size, bias=False)\n",
    "    \n",
    "    def forward(self, x):\n",
    "        if x.shape[1] < self.block_size:\n",
    "            x = F.pad(x, (0, self.block_size - x.shape[1]))\n",
    "        \n",
    "        return self.lm_head(self.transformer(x))\n",
    "\n",
    "class Layer(nn.Module):\n",
    "    def __init__(self, embed_dim, block_size):\n",
    "        super().__init__()\n",
    "        self.ln1 = nn.LayerNorm(embed_dim)\n",
    "        self.mlp1 = mlp(block_size, block_size // 2)\n",
    "        self.ln2 = nn.LayerNorm(embed_dim)\n",
    "        self.mlp2 = mlp(embed_dim, embed_dim * 4)\n",
    "\n",
    "    def forward(self, x):\n",
    "        B, T, C = x.shape\n",
    "        x = x + self.mlp1(self.ln1(x).transpose(1, 2)).transpose(1, 2)\n",
    "        x = x + self.mlp2(self.ln2(x))\n",
    "        return x\n",
    "\n",
    "def mlp(dim_in, dim_hidden, dim_out = None):\n",
    "    return nn.Sequential(\n",
    "        nn.Linear(dim_in, dim_hidden),\n",
    "        nn.GELU(),\n",
    "        nn.Linear(dim_hidden, dim_out or dim_in),\n",
    "    )"
   ]
  },
  {
   "cell_type": "code",
   "execution_count": 2,
   "metadata": {},
   "outputs": [
    {
     "name": "stderr",
     "output_type": "stream",
     "text": [
      "/Users/cztomsik/miniconda3/envs/torch-mps/lib/python3.10/site-packages/tqdm/auto.py:22: TqdmWarning: IProgress not found. Please update jupyter and ipywidgets. See https://ipywidgets.readthedocs.io/en/stable/user_install.html\n",
      "  from .autonotebook import tqdm as notebook_tqdm\n",
      "Found cached dataset tiny_shakespeare (/Users/cztomsik/.cache/huggingface/datasets/tiny_shakespeare/default/1.0.0/b5b13969f09fe8707337f6cb296314fbe06960bd9a868dca39e713e163d27b5e)\n",
      "100%|██████████| 3/3 [00:00<00:00, 583.33it/s]\n",
      "Global seed set to 89026614\n",
      "GPU available: True (mps), used: True\n",
      "TPU available: False, using: 0 TPU cores\n",
      "IPU available: False, using: 0 IPUs\n",
      "HPU available: False, using: 0 HPUs\n",
      "/Users/cztomsik/miniconda3/envs/torch-mps/lib/python3.10/site-packages/lightning/pytorch/trainer/connectors/logger_connector/logger_connector.py:67: UserWarning: Starting from v1.9.0, `tensorboardX` has been removed as a dependency of the `lightning.pytorch` package, due to potential conflicts with other packages in the ML ecosystem. For this reason, `logger=True` will use `CSVLogger` as the default logger, unless the `tensorboard` or `tensorboardX` packages are found. Please `pip install lightning[extra]` or one of them to enable TensorBoard support by default\n",
      "  warning_cache.warn(\n",
      "\n",
      "  | Name  | Type    | Params\n",
      "----------------------------------\n",
      "0 | model | Encoder | 405 K \n",
      "----------------------------------\n",
      "405 K     Trainable params\n",
      "0         Non-trainable params\n",
      "405 K     Total params\n",
      "1.623     Total estimated model params size (MB)\n"
     ]
    },
    {
     "name": "stdout",
     "output_type": "stream",
     "text": [
      "Sanity Checking DataLoader 0: 100%|██████████| 2/2 [00:00<00:00, 27.67it/s]Hello, my n😷me is\n",
      "[[('P', 0.046438705176115036), ('m', 0.03975217416882515), ('i', 0.03714496269822121)]]\n",
      "                                                                           "
     ]
    },
    {
     "name": "stderr",
     "output_type": "stream",
     "text": [
      "/Users/cztomsik/miniconda3/envs/torch-mps/lib/python3.10/site-packages/lightning/pytorch/trainer/connectors/data_connector.py:224: PossibleUserWarning: The dataloader, val_dataloader 0, does not have many workers which may be a bottleneck. Consider increasing the value of the `num_workers` argument` (try 8 which is the number of cpus on this machine) in the `DataLoader` init to improve performance.\n",
      "  rank_zero_warn(\n",
      "/Users/cztomsik/miniconda3/envs/torch-mps/lib/python3.10/site-packages/lightning/pytorch/trainer/connectors/data_connector.py:224: PossibleUserWarning: The dataloader, train_dataloader, does not have many workers which may be a bottleneck. Consider increasing the value of the `num_workers` argument` (try 8 which is the number of cpus on this machine) in the `DataLoader` init to improve performance.\n",
      "  rank_zero_warn(\n"
     ]
    },
    {
     "name": "stdout",
     "output_type": "stream",
     "text": [
      "Epoch 0: 100%|██████████| 202/202 [00:06<00:00, 31.51it/s, loss=3.31, v_num=49]Hello, my n😷me is\n",
      "[[(' ', 0.14500093460083008), ('e', 0.09139189124107361), ('o', 0.06297865509986877)]]\n",
      "Epoch 1: 100%|██████████| 202/202 [00:06<00:00, 33.27it/s, loss=3.32, v_num=49, test_loss=3.330]Hello, my n😷me is\n",
      "[[(' ', 0.15100760757923126), ('e', 0.07783792167901993), ('t', 0.0668095275759697)]]\n",
      "Epoch 2: 100%|██████████| 202/202 [00:06<00:00, 33.31it/s, loss=2.84, v_num=49, test_loss=3.340]Hello, my n😷me is\n",
      "[[('a', 0.1612151563167572), (' ', 0.16104263067245483), ('e', 0.1421004980802536)]]\n",
      "Epoch 3: 100%|██████████| 202/202 [00:06<00:00, 33.04it/s, loss=2.41, v_num=49, test_loss=2.770]Hello, my n😷me is\n",
      "[[(' ', 0.36132028698921204), ('a', 0.18417449295520782), ('i', 0.1098964512348175)]]\n",
      "Epoch 4: 100%|██████████| 202/202 [00:06<00:00, 33.08it/s, loss=2.19, v_num=49, test_loss=2.320]Hello, my n😷me is\n",
      "[[('o', 0.1993735134601593), (' ', 0.1922932118177414), ('a', 0.18683621287345886)]]\n",
      "Epoch 5: 100%|██████████| 202/202 [00:06<00:00, 31.94it/s, loss=2.06, v_num=49, test_loss=2.100]Hello, my n😷me is\n",
      "[[('o', 0.3379310965538025), ('a', 0.2639598250389099), (' ', 0.13224701583385468)]]\n",
      "Epoch 6: 100%|██████████| 202/202 [00:06<00:00, 32.87it/s, loss=1.97, v_num=49, test_loss=1.960]Hello, my n😷me is\n",
      "[[('a', 0.43185001611709595), ('o', 0.3134970963001251), ('e', 0.08793181926012039)]]\n",
      "Epoch 7: 100%|██████████| 202/202 [00:06<00:00, 32.91it/s, loss=1.88, v_num=49, test_loss=1.880]Hello, my n😷me is\n",
      "[[('o', 0.38141000270843506), ('e', 0.24898478388786316), ('a', 0.24743880331516266)]]\n",
      "Epoch 8: 100%|██████████| 202/202 [00:06<00:00, 32.27it/s, loss=1.83, v_num=49, test_loss=1.850]Hello, my n😷me is\n",
      "[[('o', 0.38885071873664856), ('a', 0.2928781807422638), ('e', 0.13587860763072968)]]\n",
      "Epoch 9: 100%|██████████| 202/202 [00:06<00:00, 29.98it/s, loss=1.8, v_num=49, test_loss=1.780] Hello, my n😷me is\n",
      "[[('a', 0.39457881450653076), ('o', 0.3877350389957428), ('e', 0.12081614136695862)]]\n",
      "Epoch 10: 100%|██████████| 202/202 [00:07<00:00, 28.63it/s, loss=1.73, v_num=49, test_loss=1.760]Hello, my n😷me is\n",
      "[[('o', 0.42241859436035156), ('a', 0.3407488763332367), ('e', 0.08904347568750381)]]\n",
      "Epoch 11: 100%|██████████| 202/202 [00:07<00:00, 27.43it/s, loss=1.71, v_num=49, test_loss=1.720]Hello, my n😷me is\n",
      "[[('o', 0.5475028157234192), ('a', 0.2590782046318054), ('e', 0.14384984970092773)]]\n",
      "Epoch 12: 100%|██████████| 202/202 [00:08<00:00, 23.99it/s, loss=1.68, v_num=49, test_loss=1.700]Hello, my n😷me is\n",
      "[[('o', 0.7364756464958191), ('a', 0.07943945378065109), ('e', 0.07471899688243866)]]\n",
      "Epoch 13: 100%|██████████| 202/202 [00:09<00:00, 20.88it/s, loss=1.67, v_num=49, test_loss=1.690]Hello, my n😷me is\n",
      "[[('a', 0.3659549057483673), ('o', 0.30525368452072144), ('e', 0.13184323906898499)]]\n",
      "Epoch 14: 100%|██████████| 202/202 [00:13<00:00, 15.02it/s, loss=1.63, v_num=49, test_loss=1.660]Hello, my n😷me is\n",
      "[[('o', 0.7299250364303589), ('e', 0.1316898763179779), ('a', 0.10843262821435928)]]\n",
      "Epoch 15: 100%|██████████| 202/202 [00:15<00:00, 12.80it/s, loss=1.59, v_num=49, test_loss=1.640]Hello, my n😷me is\n",
      "[[('.', 0.35204625129699707), ('o', 0.1836375892162323), ('A', 0.1544949859380722)]]\n",
      "Epoch 16: 100%|██████████| 202/202 [00:15<00:00, 13.35it/s, loss=1.58, v_num=49, test_loss=1.630]Hello, my n😷me is\n",
      "[[('o', 0.4999595880508423), ('a', 0.3222174644470215), ('e', 0.14580203592777252)]]\n",
      "Epoch 17: 100%|██████████| 202/202 [00:15<00:00, 13.39it/s, loss=1.56, v_num=49, test_loss=1.600]Hello, my n😷me is\n",
      "[[('o', 0.36041736602783203), ('A', 0.3105466067790985), ('a', 0.15227381885051727)]]\n",
      "Epoch 18: 100%|██████████| 202/202 [00:12<00:00, 15.56it/s, loss=1.56, v_num=49, test_loss=1.580]Hello, my n😷me is\n",
      "[[('o', 0.6083018183708191), ('a', 0.2572830617427826), ('e', 0.11283614486455917)]]\n",
      "Epoch 19: 100%|██████████| 202/202 [00:11<00:00, 16.93it/s, loss=1.53, v_num=49, test_loss=1.580]Hello, my n😷me is\n",
      "[[('A', 0.30317607522010803), ('a', 0.2726954519748688), ('o', 0.23581647872924805)]]\n",
      "Epoch 20: 100%|██████████| 202/202 [00:11<00:00, 17.88it/s, loss=1.52, v_num=49, test_loss=1.560]Hello, my n😷me is\n",
      "[[('o', 0.8010685443878174), ('a', 0.16985011100769043), ('e', 0.022129464894533157)]]\n",
      "Epoch 21: 100%|██████████| 202/202 [00:11<00:00, 18.16it/s, loss=1.5, v_num=49, test_loss=1.570] Hello, my n😷me is\n",
      "[[('o', 0.6764631271362305), ('a', 0.25158169865608215), ('e', 0.05216740816831589)]]\n",
      "Epoch 22: 100%|██████████| 202/202 [00:10<00:00, 18.37it/s, loss=1.49, v_num=49, test_loss=1.530]Hello, my n😷me is\n",
      "[[('o', 0.6381803750991821), ('a', 0.2971164286136627), ('e', 0.0496053621172905)]]\n",
      "Epoch 23: 100%|██████████| 202/202 [00:10<00:00, 19.25it/s, loss=1.47, v_num=49, test_loss=1.540]Hello, my n😷me is\n",
      "[[('o', 0.5117988586425781), ('a', 0.2588840425014496), ('e', 0.15185493230819702)]]\n",
      "Epoch 24: 100%|██████████| 202/202 [00:10<00:00, 18.52it/s, loss=1.48, v_num=49, test_loss=1.500]Hello, my n😷me is\n",
      "[[('o', 0.6803568601608276), ('a', 0.246866375207901), ('e', 0.041106533259153366)]]\n",
      "Epoch 24: 100%|██████████| 202/202 [00:10<00:00, 18.47it/s, loss=1.48, v_num=49, test_loss=1.510]"
     ]
    },
    {
     "name": "stderr",
     "output_type": "stream",
     "text": [
      "`Trainer.fit` stopped: `max_epochs=25` reached.\n"
     ]
    },
    {
     "name": "stdout",
     "output_type": "stream",
     "text": [
      "Epoch 24: 100%|██████████| 202/202 [00:11<00:00, 18.24it/s, loss=1.48, v_num=49, test_loss=1.510]\n"
     ]
    }
   ],
   "source": [
    "import lightning as pl\n",
    "from shared import corpus, tokenizers, trainers\n",
    "\n",
    "text = corpus.shakespeare()\n",
    "tokenizer = tokenizers.unique_chars(text, mask_token=\"😷\")\n",
    "\n",
    "pl.seed_everything(89026614)\n",
    "model = Encoder(tokenizer.get_vocab_size())\n",
    "trainer = trainers.MLMTrainer(model, tokenizer, device = \"mps\")\n",
    "trainer.train(text, batch_size=36, epochs=25)"
   ]
  },
  {
   "cell_type": "code",
   "execution_count": 4,
   "metadata": {},
   "outputs": [
    {
     "data": {
      "text/plain": [
       "[[('o', 0.7050660848617554),\n",
       "  ('a', 0.18505017459392548),\n",
       "  ('i', 0.09816652536392212)]]"
      ]
     },
     "execution_count": 4,
     "metadata": {},
     "output_type": "execute_result"
    }
   ],
   "source": [
    "trainer.wrapper.fill(\"Make n😷 more\")"
   ]
  }
 ],
 "metadata": {
  "kernelspec": {
   "display_name": "torch-mps",
   "language": "python",
   "name": "python3"
  },
  "language_info": {
   "codemirror_mode": {
    "name": "ipython",
    "version": 3
   },
   "file_extension": ".py",
   "mimetype": "text/x-python",
   "name": "python",
   "nbconvert_exporter": "python",
   "pygments_lexer": "ipython3",
   "version": "3.10.9"
  },
  "orig_nbformat": 4,
  "vscode": {
   "interpreter": {
    "hash": "0b771c8f4755fba7026a17ac6ea0287a4709b89559dd079886423c614dfd53ce"
   }
  }
 },
 "nbformat": 4,
 "nbformat_minor": 2
}

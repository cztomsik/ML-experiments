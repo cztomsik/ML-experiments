{
 "cells": [
  {
   "cell_type": "code",
   "execution_count": 1,
   "metadata": {},
   "outputs": [],
   "source": [
    "import torch\n",
    "import torch.nn as nn\n",
    "import torch.nn.functional as F\n",
    "\n",
    "class GPT(nn.Module):\n",
    "    def __init__(self, vocab_size, block_size=256, embed_dim=64, num_heads=1, num_layers=4):\n",
    "        super().__init__()\n",
    "        self.block_size = block_size\n",
    "        self.transformer = nn.ModuleDict(dict(\n",
    "            token_emb = nn.Embedding(vocab_size, embed_dim),\n",
    "            pos_emb = nn.Embedding(block_size, embed_dim),\n",
    "            layers = nn.Sequential(*[Layer(block_size, embed_dim, num_heads) for _ in range(num_layers)]),\n",
    "            norm = nn.LayerNorm(embed_dim),\n",
    "        ))\n",
    "        self.lm_head = nn.Linear(embed_dim, vocab_size, bias=False)\n",
    "        \n",
    "    def forward(self, x):\n",
    "        pos = torch.arange(0, x.size(1), dtype=torch.long, device=x.device).unsqueeze(0)\n",
    "        x = self.transformer.token_emb(x) + self.transformer.pos_emb(pos)\n",
    "        x = self.transformer.norm(self.transformer.layers(x))\n",
    "        return self.lm_head(x)\n",
    "\n",
    "class Layer(nn.Module):\n",
    "    def __init__(self, block_size, embed_dim, num_heads):\n",
    "        super().__init__()\n",
    "        self.ln1 = nn.LayerNorm(embed_dim)\n",
    "        self.attn = nn.MultiheadAttention(embed_dim, num_heads, batch_first=True, bias=False)\n",
    "        self.ln2 = nn.LayerNorm(embed_dim)\n",
    "        self.mlp = nn.Sequential(\n",
    "            nn.Linear(embed_dim, 4 * embed_dim),\n",
    "            nn.GELU(approximate=\"tanh\"),\n",
    "            nn.Linear(4 * embed_dim, embed_dim),\n",
    "        )\n",
    "        self.register_buffer(\"mask\", ~torch.tril(torch.ones(block_size, block_size)).to(bool))\n",
    "\n",
    "    def forward(self, x):\n",
    "        B, T, _ = x.shape\n",
    "        xn = self.ln1(x)\n",
    "        x = x + self.attn(xn, xn, xn, need_weights=False, attn_mask=self.mask[:T, :T])[0]\n",
    "        x = x + self.mlp(self.ln2(x))\n",
    "        return x"
   ]
  },
  {
   "cell_type": "code",
   "execution_count": 2,
   "metadata": {},
   "outputs": [
    {
     "name": "stderr",
     "output_type": "stream",
     "text": [
      "/Users/cztomsik/miniconda3/envs/torch-mps/lib/python3.10/site-packages/tqdm/auto.py:22: TqdmWarning: IProgress not found. Please update jupyter and ipywidgets. See https://ipywidgets.readthedocs.io/en/stable/user_install.html\n",
      "  from .autonotebook import tqdm as notebook_tqdm\n",
      "Found cached dataset tiny_shakespeare (/Users/cztomsik/.cache/huggingface/datasets/tiny_shakespeare/default/1.0.0/b5b13969f09fe8707337f6cb296314fbe06960bd9a868dca39e713e163d27b5e)\n",
      "100%|██████████| 3/3 [00:00<00:00, 716.89it/s]\n",
      "Global seed set to 89026614\n",
      "GPU available: True (mps), used: True\n",
      "TPU available: False, using: 0 TPU cores\n",
      "IPU available: False, using: 0 IPUs\n",
      "HPU available: False, using: 0 HPUs\n",
      "/Users/cztomsik/miniconda3/envs/torch-mps/lib/python3.10/site-packages/lightning/pytorch/trainer/connectors/logger_connector/logger_connector.py:67: UserWarning: Starting from v1.9.0, `tensorboardX` has been removed as a dependency of the `lightning.pytorch` package, due to potential conflicts with other packages in the ML ecosystem. For this reason, `logger=True` will use `CSVLogger` as the default logger, unless the `tensorboard` or `tensorboardX` packages are found. Please `pip install lightning[extra]` or one of them to enable TensorBoard support by default\n",
      "  warning_cache.warn(\n",
      "\n",
      "  | Name  | Type | Params\n",
      "-------------------------------\n",
      "0 | model | GPT  | 223 K \n",
      "-------------------------------\n",
      "223 K     Trainable params\n",
      "0         Non-trainable params\n",
      "223 K     Total params\n",
      "0.895     Total estimated model params size (MB)\n"
     ]
    },
    {
     "name": "stdout",
     "output_type": "stream",
     "text": [
      "Sanity Checking DataLoader 0:   0%|          | 0/2 [00:00<?, ?it/s]"
     ]
    },
    {
     "name": "stderr",
     "output_type": "stream",
     "text": [
      "/Users/cztomsik/miniconda3/envs/torch-mps/lib/python3.10/site-packages/lightning/pytorch/trainer/connectors/data_connector.py:224: PossibleUserWarning: The dataloader, val_dataloader 0, does not have many workers which may be a bottleneck. Consider increasing the value of the `num_workers` argument` (try 8 which is the number of cpus on this machine) in the `DataLoader` init to improve performance.\n",
      "  rank_zero_warn(\n"
     ]
    },
    {
     "name": "stdout",
     "output_type": "stream",
     "text": [
      "Sanity Checking DataLoader 0: 100%|██████████| 2/2 [00:01<00:00,  1.56it/s]And nowItE,$u$-mJa$NCA\n",
      "qGeXqhcSixMMM3Kh:yyDX'&'CT!zoq JW;P-3aeNFtxYT!EC\n",
      "                                                                           "
     ]
    },
    {
     "name": "stderr",
     "output_type": "stream",
     "text": [
      "/Users/cztomsik/miniconda3/envs/torch-mps/lib/python3.10/site-packages/lightning/pytorch/trainer/connectors/data_connector.py:224: PossibleUserWarning: The dataloader, train_dataloader, does not have many workers which may be a bottleneck. Consider increasing the value of the `num_workers` argument` (try 8 which is the number of cpus on this machine) in the `DataLoader` init to improve performance.\n",
      "  rank_zero_warn(\n"
     ]
    },
    {
     "name": "stdout",
     "output_type": "stream",
     "text": [
      "Epoch 0: 100%|██████████| 202/202 [00:12<00:00, 15.76it/s, loss=2.42, v_num=69]And nows thane w st my ou thtoord that ader outhe thomis\n",
      "And and fullit\n",
      "Epoch 1: 100%|██████████| 202/202 [00:11<00:00, 18.14it/s, loss=2.07, v_num=69, test_loss=2.410]And now: wheree hat thast,\n",
      "Whis this he a we morth of mer shre to the h\n",
      "Epoch 2: 100%|██████████| 202/202 [00:11<00:00, 17.95it/s, loss=1.78, v_num=69, test_loss=2.120]And now,\n",
      "This be when and meavence your hone.\n",
      "\n",
      "BRAKEY:\n",
      "This teer, the s\n",
      "Epoch 3: 100%|██████████| 202/202 [00:11<00:00, 17.95it/s, loss=1.63, v_num=69, test_loss=1.950]And now'd and twidones with think;\n",
      "Became the discand strothink; nother\n",
      "Epoch 4: 100%|██████████| 202/202 [00:11<00:00, 17.33it/s, loss=1.55, v_num=69, test_loss=1.860]And now, thou whill.\n",
      "\n",
      "POMPEY:\n",
      "Goven, thou would have it. Her you hast I\n",
      "Epoch 5: 100%|██████████| 202/202 [00:11<00:00, 17.58it/s, loss=1.51, v_num=69, test_loss=1.720]And now, I have the he sustrible own soon your sweet of thrat.\n",
      "\n",
      "GRUMIO:\n",
      "Epoch 6: 100%|██████████| 202/202 [00:11<00:00, 17.41it/s, loss=1.48, v_num=69, test_loss=1.650]And now a crave off-rather thy see,\n",
      "Should flowed, being to they haste \n",
      "Epoch 7: 100%|██████████| 202/202 [00:12<00:00, 16.59it/s, loss=1.46, v_num=69, test_loss=1.620]And now?\n",
      "And is at have dayer so: his suipping thee\n",
      "Tell my soul strike\n",
      "Epoch 8: 100%|██████████| 202/202 [00:13<00:00, 14.72it/s, loss=1.44, v_num=69, test_loss=1.620]And now, what showe breathed and thine's sight.\n",
      "O somet, I so to down b\n",
      "Epoch 9: 100%|██████████| 202/202 [00:19<00:00, 10.51it/s, loss=1.42, v_num=69, test_loss=1.580]And now.\n",
      "\n",
      "First Servingman:\n",
      "This he women a from him that doth meels;\n",
      "A\n",
      "Epoch 10: 100%|██████████| 202/202 [00:18<00:00, 10.70it/s, loss=1.4, v_num=69, test_loss=1.520] And now. If the mane survators flown.\n",
      "\n",
      "KING RICHARD II:\n",
      "That saying but\n",
      "Epoch 11: 100%|██████████| 202/202 [00:16<00:00, 12.33it/s, loss=1.39, v_num=69, test_loss=1.520]And now to younger; thou arust o'er my brother,\n",
      "And madvers to thought,\n",
      "Epoch 12: 100%|██████████| 202/202 [00:15<00:00, 12.77it/s, loss=1.38, v_num=69, test_loss=1.490]And now save you?\n",
      "\n",
      "POLIXENES:\n",
      "What is you!\n",
      "What thy wife's hands me sec\n",
      "Epoch 13: 100%|██████████| 202/202 [00:15<00:00, 13.27it/s, loss=1.37, v_num=69, test_loss=1.470]And now, so myself tears\n",
      "And back as an armarry was is.\n",
      "\n",
      "CORIOLANUS:\n",
      "Ma\n",
      "Epoch 14: 100%|██████████| 202/202 [00:15<00:00, 13.31it/s, loss=1.36, v_num=69, test_loss=1.450]And now! madam,\n",
      "Whose by the country, best he hath hath deeds and their\n",
      "Epoch 15: 100%|██████████| 202/202 [00:14<00:00, 13.47it/s, loss=1.35, v_num=69, test_loss=1.460]And now you make him the circume to daught:\n",
      "How should it, anough to la\n",
      "Epoch 16: 100%|██████████| 202/202 [00:14<00:00, 13.80it/s, loss=1.35, v_num=69, test_loss=1.450]And now it will, whither shower\n",
      "Fresh them!\n",
      "\n",
      "AUTOLYCUS:\n",
      "I hate, my lord\n",
      "Epoch 17: 100%|██████████| 202/202 [00:14<00:00, 13.87it/s, loss=1.34, v_num=69, test_loss=1.440]And now, bisened is hand, mistract bear?\n",
      "Here's stolemn will I wearns a\n",
      "Epoch 18: 100%|██████████| 202/202 [00:14<00:00, 13.74it/s, loss=1.33, v_num=69, test_loss=1.440]And now, that your fair, stet him with all\n",
      "he is father to the strength\n",
      "Epoch 19: 100%|██████████| 202/202 [00:14<00:00, 13.76it/s, loss=1.33, v_num=69, test_loss=1.410]And now.\n",
      "My command is your sovereign.\n",
      "\n",
      "BRUTUS:\n",
      "Such is this is have ha\n",
      "Epoch 20: 100%|██████████| 202/202 [00:14<00:00, 13.83it/s, loss=1.32, v_num=69, test_loss=1.450]And now, and answer, well; how my glovery tarry strike\n",
      "to markely about\n",
      "Epoch 21: 100%|██████████| 202/202 [00:14<00:00, 13.81it/s, loss=1.32, v_num=69, test_loss=1.410]And now face, my lords,\n",
      "Who she but most win hope you to say thee.\n",
      "\n",
      "DUC\n",
      "Epoch 22: 100%|██████████| 202/202 [00:14<00:00, 13.78it/s, loss=1.32, v_num=69, test_loss=1.410]And now.\n",
      "It is so? here, believe in men.\n",
      "\n",
      "BUSHY:\n",
      "Ying forsworn is for, \n",
      "Epoch 23: 100%|██████████| 202/202 [00:14<00:00, 13.75it/s, loss=1.3, v_num=69, test_loss=1.420] And now: you hear, a sore a crown boast from the heed.\n",
      "\n",
      "KING HENRY VI:\n",
      "\n",
      "Epoch 24: 100%|██████████| 202/202 [00:14<00:00, 13.64it/s, loss=1.3, v_num=69, test_loss=1.390] And now have now, was he shall be tragoth it nighse!\n",
      "\n",
      "PAGE:\n",
      "No; and but\n",
      "Epoch 24: 100%|██████████| 202/202 [00:15<00:00, 12.72it/s, loss=1.3, v_num=69, test_loss=1.410]"
     ]
    },
    {
     "name": "stderr",
     "output_type": "stream",
     "text": [
      "`Trainer.fit` stopped: `max_epochs=25` reached.\n"
     ]
    },
    {
     "name": "stdout",
     "output_type": "stream",
     "text": [
      "Epoch 24: 100%|██████████| 202/202 [00:15<00:00, 12.69it/s, loss=1.3, v_num=69, test_loss=1.410]\n"
     ]
    }
   ],
   "source": [
    "import lightning as pl\n",
    "from shared import corpus, tokenizers, trainers\n",
    "\n",
    "text = corpus.shakespeare()\n",
    "tokenizer = tokenizers.unique_chars(text)\n",
    "\n",
    "pl.seed_everything(89026614)\n",
    "model = GPT(tokenizer.get_vocab_size())\n",
    "trainer = trainers.CausalTrainer(model, tokenizer, device = \"mps\")\n",
    "trainer.train(text, batch_size=36, epochs=25)"
   ]
  },
  {
   "cell_type": "code",
   "execution_count": null,
   "metadata": {},
   "outputs": [],
   "source": [
    "print(trainer.wrapper.generate(\"O God, O God!\", 650))"
   ]
  }
 ],
 "metadata": {
  "kernelspec": {
   "display_name": "torch-mps",
   "language": "python",
   "name": "python3"
  },
  "language_info": {
   "codemirror_mode": {
    "name": "ipython",
    "version": 3
   },
   "file_extension": ".py",
   "mimetype": "text/x-python",
   "name": "python",
   "nbconvert_exporter": "python",
   "pygments_lexer": "ipython3",
   "version": "3.10.9"
  },
  "orig_nbformat": 4,
  "vscode": {
   "interpreter": {
    "hash": "0b771c8f4755fba7026a17ac6ea0287a4709b89559dd079886423c614dfd53ce"
   }
  }
 },
 "nbformat": 4,
 "nbformat_minor": 2
}

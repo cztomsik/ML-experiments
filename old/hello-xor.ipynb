{
 "cells": [
  {
   "cell_type": "code",
   "execution_count": 2,
   "metadata": {},
   "outputs": [
    {
     "name": "stdout",
     "output_type": "stream",
     "text": [
      "tensor(1.6909, grad_fn=<MseLossBackward0>)\n",
      "tensor(0.2474, grad_fn=<MseLossBackward0>)\n",
      "tensor(0.2351, grad_fn=<MseLossBackward0>)\n",
      "tensor(0.1114, grad_fn=<MseLossBackward0>)\n",
      "tensor(0.0125, grad_fn=<MseLossBackward0>)\n",
      "tensor(0.0041, grad_fn=<MseLossBackward0>)\n",
      "tensor(0.0023, grad_fn=<MseLossBackward0>)\n",
      "tensor(0.0015, grad_fn=<MseLossBackward0>)\n",
      "tensor(0.0011, grad_fn=<MseLossBackward0>)\n",
      "tensor(0.0009, grad_fn=<MseLossBackward0>)\n",
      "tensor([[0.0026],\n",
      "        [0.9624],\n",
      "        [0.9625],\n",
      "        [0.0035]], grad_fn=<TanhBackward0>)\n"
     ]
    }
   ],
   "source": [
    "import torch\n",
    "\n",
    "inputs = torch.tensor([[0, 0], [0, 1], [1, 0], [1, 1]], dtype=torch.float)\n",
    "outputs = torch.tensor([[0], [1], [1], [0]], dtype=torch.float)\n",
    "\n",
    "num_hidden_units = 2\n",
    "learning_rate = 0.02\n",
    "\n",
    "model = torch.nn.Sequential(\n",
    "    torch.nn.Linear(inputs.shape[1], num_hidden_units),\n",
    "    torch.nn.Tanh(),\n",
    "    torch.nn.Linear(num_hidden_units, 1),\n",
    "    torch.nn.Tanh()\n",
    ")\n",
    "\n",
    "loss_fn = torch.nn.MSELoss()\n",
    "optimizer = torch.optim.SGD(model.parameters(), lr=learning_rate)\n",
    "\n",
    "for i in range(10000):\n",
    "  # forward\n",
    "  output = model(inputs)\n",
    "\n",
    "  # loss\n",
    "  loss = loss_fn(output, outputs)\n",
    "  if i % 1000 == 0:\n",
    "    print(loss)\n",
    "\n",
    "  # backward, optim\n",
    "  optimizer.zero_grad()\n",
    "  loss.backward()\n",
    "  optimizer.step()\n",
    "\n",
    "# should be 0, 1, 1, 0\n",
    "print(output)"
   ]
  },
  {
   "cell_type": "code",
   "execution_count": 3,
   "metadata": {},
   "outputs": [
    {
     "name": "stdout",
     "output_type": "stream",
     "text": [
      "[Parameter containing:\n",
      "tensor([[ 1.8039,  1.7786],\n",
      "        [-1.3617, -1.3501]], requires_grad=True), Parameter containing:\n",
      "tensor([-0.5564,  2.0651], requires_grad=True), Parameter containing:\n",
      "tensor([[1.9758, 1.9274]], requires_grad=True), Parameter containing:\n",
      "tensor([-0.8655], requires_grad=True)]\n"
     ]
    }
   ],
   "source": [
    "# Print weights and biases\n",
    "print(list(model.parameters()))\n"
   ]
  }
 ],
 "metadata": {
  "kernelspec": {
   "display_name": "base",
   "language": "python",
   "name": "python3"
  },
  "language_info": {
   "codemirror_mode": {
    "name": "ipython",
    "version": 3
   },
   "file_extension": ".py",
   "mimetype": "text/x-python",
   "name": "python",
   "nbconvert_exporter": "python",
   "pygments_lexer": "ipython3",
   "version": "3.10.8"
  },
  "orig_nbformat": 4,
  "vscode": {
   "interpreter": {
    "hash": "c070a6546767260d3817b5bdd38c64a6478cec33d40e8bb7d9bbc980115d8646"
   }
  }
 },
 "nbformat": 4,
 "nbformat_minor": 2
}

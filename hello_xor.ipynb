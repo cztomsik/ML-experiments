{
 "cells": [
  {
   "cell_type": "code",
   "execution_count": 1,
   "id": "a3cc57b8-12cf-46df-b5bf-70cc38d6e065",
   "metadata": {},
   "outputs": [],
   "source": [
    "import mlx.core as mx\n",
    "import mlx.nn as nn\n",
    "import mlx.optimizers as optim"
   ]
  },
  {
   "cell_type": "code",
   "execution_count": 2,
   "id": "2c82d83e-409c-4df1-9642-a7773b7bd1d9",
   "metadata": {},
   "outputs": [],
   "source": [
    "inputs = mx.array([[0, 0], [0, 1], [1, 0], [1, 1]], dtype=mx.float16)\n",
    "targets = mx.array([[0], [1], [1], [0]], dtype=mx.float16)"
   ]
  },
  {
   "cell_type": "code",
   "execution_count": 8,
   "id": "491b8820-c111-46a7-953b-33f142c46e00",
   "metadata": {},
   "outputs": [],
   "source": [
    "model = nn.Sequential(\n",
    "    nn.Linear(inputs.shape[1], 2),\n",
    "    nn.Tanh(),\n",
    "    nn.Linear(2, 1),\n",
    "    nn.Tanh()\n",
    ")"
   ]
  },
  {
   "cell_type": "code",
   "execution_count": 9,
   "id": "9c24693c-cb69-44fa-910a-450b373a01e3",
   "metadata": {},
   "outputs": [],
   "source": [
    "def loss(model, x, y):\n",
    "  return nn.losses.mse_loss(model(x), y)\n",
    "\n",
    "optimizer = optim.SGD(learning_rate=0.2)\n",
    "step = nn.value_and_grad(model, loss)"
   ]
  },
  {
   "cell_type": "code",
   "execution_count": 10,
   "id": "fe7da226-977c-4296-abfd-7994be6d173b",
   "metadata": {},
   "outputs": [
    {
     "name": "stdout",
     "output_type": "stream",
     "text": [
      "iter: 0, loss: 0.2785\n",
      "iter: 1000, loss: 0.0009\n",
      "iter: 2000, loss: 0.0003\n",
      "iter: 3000, loss: 0.0001\n",
      "iter: 4000, loss: 0.0001\n"
     ]
    }
   ],
   "source": [
    "for i in range(5_000):\n",
    "  loss, grads = step(model, inputs, targets)\n",
    "\n",
    "  if i % 1_000 == 0:\n",
    "   print(f\"iter: {i}, loss: {loss:.4f}\")\n",
    "  \n",
    "  optimizer.update(model, grads)"
   ]
  },
  {
   "cell_type": "code",
   "execution_count": 11,
   "id": "2ca9d3b4-7213-40e4-b0c9-ae4a77415b4c",
   "metadata": {},
   "outputs": [
    {
     "name": "stdout",
     "output_type": "stream",
     "text": [
      "array([[0.000258029],\n",
      "       [0.987703],\n",
      "       [0.987715],\n",
      "       [0.000392079]], dtype=float32)\n"
     ]
    }
   ],
   "source": [
    "# should be 0, 1, 1, 0\n",
    "print(model(inputs))"
   ]
  }
 ],
 "metadata": {
  "kernelspec": {
   "display_name": "Python 3 (ipykernel)",
   "language": "python",
   "name": "python3"
  },
  "language_info": {
   "codemirror_mode": {
    "name": "ipython",
    "version": 3
   },
   "file_extension": ".py",
   "mimetype": "text/x-python",
   "name": "python",
   "nbconvert_exporter": "python",
   "pygments_lexer": "ipython3",
   "version": "3.9.6"
  }
 },
 "nbformat": 4,
 "nbformat_minor": 5
}

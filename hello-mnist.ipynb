{
 "cells": [
  {
   "cell_type": "code",
   "execution_count": 12,
   "metadata": {},
   "outputs": [
    {
     "name": "stderr",
     "output_type": "stream",
     "text": [
      "Global seed set to 42\n",
      "Found cached dataset mnist (/Users/cztomsik/.cache/huggingface/datasets/mnist/mnist/1.0.0/fda16c03c4ecfb13f165ba7e29cf38129ce035011519968cdaf74894ce91c9d4)\n",
      "100%|██████████| 2/2 [00:00<00:00, 947.87it/s]\n"
     ]
    }
   ],
   "source": [
    "import datasets\n",
    "import torch\n",
    "import torch.nn.functional as F\n",
    "import torch.utils.data as data\n",
    "import pytorch_lightning as pl\n",
    "import numpy as np\n",
    "\n",
    "pl.seed_everything(42)\n",
    "\n",
    "def encode(batch):\n",
    "    # np.array() because torch.tensor() doesn't support PIL.Image\n",
    "    batch[\"image\"] = [torch.tensor(np.array(img), dtype=torch.float32) / 255 for img in batch[\"image\"]]\n",
    "    return batch\n",
    "\n",
    "mnist = datasets.load_dataset(\"mnist\").with_transform(encode)"
   ]
  },
  {
   "cell_type": "code",
   "execution_count": 13,
   "metadata": {},
   "outputs": [
    {
     "name": "stderr",
     "output_type": "stream",
     "text": [
      "GPU available: True (mps), used: False\n",
      "TPU available: False, using: 0 TPU cores\n",
      "IPU available: False, using: 0 IPUs\n",
      "HPU available: False, using: 0 HPUs\n",
      "\n",
      "  | Name  | Type       | Params\n",
      "-------------------------------------\n",
      "0 | inner | Sequential | 203 K \n",
      "-------------------------------------\n",
      "203 K     Trainable params\n",
      "0         Non-trainable params\n",
      "203 K     Total params\n",
      "0.814     Total estimated model params size (MB)\n"
     ]
    },
    {
     "name": "stdout",
     "output_type": "stream",
     "text": [
      "Epoch 9: 100%|██████████| 300/300 [00:04<00:00, 74.87it/s, loss=0.0283, v_num=113]"
     ]
    },
    {
     "name": "stderr",
     "output_type": "stream",
     "text": [
      "`Trainer.fit` stopped: `max_epochs=10` reached.\n"
     ]
    },
    {
     "name": "stdout",
     "output_type": "stream",
     "text": [
      "Epoch 9: 100%|██████████| 300/300 [00:04<00:00, 74.80it/s, loss=0.0283, v_num=113]\n"
     ]
    }
   ],
   "source": [
    "class Model(pl.LightningModule):\n",
    "    def __init__(self, hidden_dim = 256):\n",
    "        super().__init__()\n",
    "        self.inner = torch.nn.Sequential(\n",
    "            torch.nn.Linear(28 * 28, hidden_dim),\n",
    "            torch.nn.LeakyReLU(),\n",
    "            torch.nn.Linear(hidden_dim, 10)\n",
    "        )\n",
    "\n",
    "    def forward(self, x):\n",
    "        return self.inner(x.view(x.size(0), -1))\n",
    "\n",
    "    def training_step(self, batch, batch_idx):\n",
    "        return F.cross_entropy(self(batch[\"image\"]), batch[\"label\"])\n",
    "\n",
    "    def configure_optimizers(self):\n",
    "        return torch.optim.Adam(self.parameters(), lr=1e-3)\n",
    "\n",
    "model = Model()\n",
    "trainer = pl.Trainer(max_epochs=10, accelerator=\"cpu\")\n",
    "trainer.fit(model, data.DataLoader(mnist[\"train\"], batch_size=200), data.DataLoader(mnist[\"test\"], batch_size=200))"
   ]
  },
  {
   "cell_type": "code",
   "execution_count": 14,
   "metadata": {},
   "outputs": [
    {
     "name": "stdout",
     "output_type": "stream",
     "text": [
      "tensor(7) 7\n",
      "tensor(2) 2\n",
      "tensor(1) 1\n",
      "tensor(0) 0\n",
      "tensor(4) 4\n",
      "tensor(1) 1\n",
      "tensor(4) 4\n",
      "tensor(9) 9\n",
      "tensor(5) 5\n",
      "tensor(9) 9\n",
      "tensor(0) 0\n",
      "tensor(6) 6\n",
      "tensor(9) 9\n",
      "tensor(0) 0\n",
      "tensor(1) 1\n",
      "tensor(5) 5\n",
      "tensor(9) 9\n",
      "tensor(7) 7\n",
      "tensor(3) 3\n",
      "tensor(4) 4\n",
      "tensor(9) 9\n",
      "tensor(6) 6\n",
      "tensor(6) 6\n",
      "tensor(5) 5\n",
      "tensor(4) 4\n",
      "tensor(0) 0\n",
      "tensor(7) 7\n",
      "tensor(4) 4\n",
      "tensor(0) 0\n",
      "tensor(1) 1\n",
      "tensor(3) 3\n",
      "tensor(1) 1\n",
      "tensor(3) 3\n",
      "tensor(4) 4\n",
      "tensor(7) 7\n",
      "tensor(2) 2\n",
      "tensor(7) 7\n",
      "tensor(1) 1\n",
      "tensor(2) 2\n",
      "tensor(1) 1\n",
      "tensor(1) 1\n",
      "tensor(7) 7\n",
      "tensor(4) 4\n",
      "tensor(2) 2\n",
      "tensor(3) 3\n",
      "tensor(5) 5\n",
      "tensor(1) 1\n",
      "tensor(2) 2\n",
      "tensor(4) 4\n",
      "tensor(4) 4\n",
      "tensor(6) 6\n",
      "tensor(3) 3\n",
      "tensor(5) 5\n",
      "tensor(5) 5\n",
      "tensor(6) 6\n",
      "tensor(0) 0\n",
      "tensor(4) 4\n",
      "tensor(1) 1\n",
      "tensor(9) 9\n",
      "tensor(5) 5\n",
      "tensor(7) 7\n",
      "tensor(8) 8\n",
      "tensor(9) 9\n",
      "tensor(3) 3\n",
      "tensor(7) 7\n",
      "tensor(4) 4\n",
      "tensor(6) 6\n",
      "tensor(4) 4\n",
      "tensor(3) 3\n",
      "tensor(0) 0\n",
      "tensor(7) 7\n",
      "tensor(0) 0\n",
      "tensor(2) 2\n",
      "tensor(9) 9\n",
      "tensor(1) 1\n",
      "tensor(7) 7\n",
      "tensor(3) 3\n",
      "tensor(2) 2\n",
      "tensor(9) 9\n",
      "tensor(7) 7\n",
      "tensor(7) 7\n",
      "tensor(6) 6\n",
      "tensor(2) 2\n",
      "tensor(7) 7\n",
      "tensor(8) 8\n",
      "tensor(4) 4\n",
      "tensor(7) 7\n",
      "tensor(3) 3\n",
      "tensor(6) 6\n",
      "tensor(1) 1\n",
      "tensor(3) 3\n",
      "tensor(6) 6\n",
      "tensor(9) 9\n",
      "tensor(3) 3\n",
      "tensor(1) 1\n",
      "tensor(4) 4\n",
      "tensor(1) 1\n",
      "tensor(7) 7\n",
      "tensor(6) 6\n",
      "tensor(9) 9\n"
     ]
    }
   ],
   "source": [
    "for i in range(100):\n",
    "    print(torch.argmax(model.forward(mnist[\"test\"][i][\"image\"].view(1, -1))), mnist[\"test\"][i][\"label\"])"
   ]
  }
 ],
 "metadata": {
  "kernelspec": {
   "display_name": "base",
   "language": "python",
   "name": "python3"
  },
  "language_info": {
   "codemirror_mode": {
    "name": "ipython",
    "version": 3
   },
   "file_extension": ".py",
   "mimetype": "text/x-python",
   "name": "python",
   "nbconvert_exporter": "python",
   "pygments_lexer": "ipython3",
   "version": "3.10.8"
  },
  "orig_nbformat": 4,
  "vscode": {
   "interpreter": {
    "hash": "c070a6546767260d3817b5bdd38c64a6478cec33d40e8bb7d9bbc980115d8646"
   }
  }
 },
 "nbformat": 4,
 "nbformat_minor": 2
}

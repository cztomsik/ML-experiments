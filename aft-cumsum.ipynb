{
 "cells": [
  {
   "cell_type": "code",
   "execution_count": 1,
   "metadata": {},
   "outputs": [
    {
     "name": "stderr",
     "output_type": "stream",
     "text": [
      "/Users/cztomsik/miniconda3/lib/python3.10/site-packages/tqdm/auto.py:22: TqdmWarning: IProgress not found. Please update jupyter and ipywidgets. See https://ipywidgets.readthedocs.io/en/stable/user_install.html\n",
      "  from .autonotebook import tqdm as notebook_tqdm\n",
      "Global seed set to 89026614\n",
      "Found cached dataset tiny_shakespeare (/Users/cztomsik/.cache/huggingface/datasets/tiny_shakespeare/default/1.0.0/b5b13969f09fe8707337f6cb296314fbe06960bd9a868dca39e713e163d27b5e)\n",
      "100%|██████████| 3/3 [00:00<00:00, 853.48it/s]\n"
     ]
    }
   ],
   "source": [
    "import torch\n",
    "import torch.nn as nn\n",
    "import torch.nn.functional as F\n",
    "import torch.utils.data as data\n",
    "import pytorch_lightning as pl\n",
    "import datasets\n",
    "import numpy as np\n",
    "\n",
    "pl.seed_everything(89026614)\n",
    "\n",
    "text = datasets.load_dataset('tiny_shakespeare')[\"train\"][0][\"text\"]\n",
    "#text = open('../../Downloads/simplebooks/simplebooks-2-raw/train.txt', 'r').read()"
   ]
  },
  {
   "cell_type": "code",
   "execution_count": 2,
   "metadata": {},
   "outputs": [],
   "source": [
    "device = \"cpu\"\n",
    "block_size = 64\n",
    "\n",
    "class MyDataset(data.Dataset):\n",
    "    def __init__(self, text):\n",
    "        super().__init__()\n",
    "        vocab = sorted(set(text))\n",
    "        self.vocab = vocab\n",
    "        self.stoi = { ch: i for i, ch in enumerate(vocab) }\n",
    "        self.itos = { i: ch for i, ch in enumerate(vocab) }\n",
    "        self.data = torch.tensor([self.stoi[ch] for ch in text], dtype=torch.long).to(device)\n",
    "\n",
    "    def __len__(self):\n",
    "        return self.data.size(0) - block_size - 1\n",
    "\n",
    "    def __getitem__(self, i):\n",
    "        end = i + block_size\n",
    "        return self.data[i:end], self.data[i + 1:end + 1]\n",
    "\n",
    "dataset = MyDataset(text)\n",
    "train = data.Subset(dataset, range(0, len(dataset) - 500))\n",
    "test = data.Subset(dataset, range(len(dataset) - 500, len(dataset)))"
   ]
  },
  {
   "cell_type": "code",
   "execution_count": 3,
   "metadata": {},
   "outputs": [
    {
     "name": "stderr",
     "output_type": "stream",
     "text": [
      "GPU available: False, used: False\n",
      "TPU available: False, using: 0 TPU cores\n",
      "IPU available: False, using: 0 IPUs\n",
      "HPU available: False, using: 0 HPUs\n",
      "\n",
      "  | Name  | Type   | Params\n",
      "---------------------------------\n",
      "0 | model | MinGPT | 1.4 M \n",
      "---------------------------------\n",
      "1.4 M     Trainable params\n",
      "0         Non-trainable params\n",
      "1.4 M     Total params\n",
      "5.489     Total estimated model params size (MB)\n"
     ]
    },
    {
     "name": "stdout",
     "output_type": "stream",
     "text": [
      "Sanity Checking DataLoader 0: 100%|██████████| 2/2 [00:00<00:00, 49.39it/s]"
     ]
    },
    {
     "name": "stderr",
     "output_type": "stream",
     "text": [
      "/Users/cztomsik/miniconda3/lib/python3.10/site-packages/pytorch_lightning/trainer/connectors/data_connector.py:224: PossibleUserWarning: The dataloader, val_dataloader 0, does not have many workers which may be a bottleneck. Consider increasing the value of the `num_workers` argument` (try 8 which is the number of cpus on this machine) in the `DataLoader` init to improve performance.\n",
      "  rank_zero_warn(\n",
      "/Users/cztomsik/miniconda3/lib/python3.10/site-packages/torch/nn/functional.py:1960: UserWarning: nn.functional.sigmoid is deprecated. Use torch.sigmoid instead.\n",
      "  warnings.warn(\"nn.functional.sigmoid is deprecated. Use torch.sigmoid instead.\")\n"
     ]
    },
    {
     "name": "stdout",
     "output_type": "stream",
     "text": [
      "And now -k\n",
      "xP,,upRonjPjR.ZwCAK&K&i$?dQF'KCMcOdQGKCrVUDyyXVGgAl yIhduUqmw\n",
      "                                                                           "
     ]
    },
    {
     "name": "stderr",
     "output_type": "stream",
     "text": [
      "/Users/cztomsik/miniconda3/lib/python3.10/site-packages/pytorch_lightning/trainer/connectors/data_connector.py:224: PossibleUserWarning: The dataloader, train_dataloader, does not have many workers which may be a bottleneck. Consider increasing the value of the `num_workers` argument` (try 8 which is the number of cpus on this machine) in the `DataLoader` init to improve performance.\n",
      "  rank_zero_warn(\n"
     ]
    },
    {
     "name": "stdout",
     "output_type": "stream",
     "text": [
      "Epoch 0: 100%|██████████| 111/111 [00:13<00:00,  8.25it/s, loss=2.36, v_num=89]And now tor\n",
      "Thowe late spoved ateltel or besthisereld mut ts ban are an \n",
      "Epoch 1: 100%|██████████| 111/111 [00:13<00:00,  8.19it/s, loss=2.06, v_num=89, test_loss=2.260]And now herink the,\n",
      "And she acer blod hout now deth the thichs.\n",
      "\n",
      "LETERD:\n",
      "Epoch 2: 100%|██████████| 111/111 [00:13<00:00,  8.35it/s, loss=1.89, v_num=89, test_loss=2.110]And now the hove that tome and man thouperting him of lople\n",
      "wither'd thy\n",
      "Epoch 3: 100%|██████████| 111/111 [00:13<00:00,  8.41it/s, loss=1.8, v_num=89, test_loss=2.000] And now me; and their where boyodself\n",
      "And intied the sipion his buieroug\n",
      "Epoch 4: 100%|██████████| 111/111 [00:13<00:00,  8.44it/s, loss=1.73, v_num=89, test_loss=1.840]And now fell of ford shalf,\n",
      "His dwo seech at is a do flest manges;\n",
      "Or ma\n",
      "Epoch 5: 100%|██████████| 111/111 [00:13<00:00,  8.53it/s, loss=1.68, v_num=89, test_loss=1.740]And now thoughts they his precend that\n",
      "As servest for of your soul all\n",
      "A\n",
      "Epoch 6: 100%|██████████| 111/111 [00:13<00:00,  8.49it/s, loss=1.64, v_num=89, test_loss=1.720]And now make there treat and men where's commpe.\n",
      "My looker hapve my luce\n",
      "Epoch 7: 100%|██████████| 111/111 [00:13<00:00,  8.50it/s, loss=1.63, v_num=89, test_loss=1.670]And now were my losed slaught motne, and a for men word\n",
      "Than were appear\n",
      "Epoch 8: 100%|██████████| 111/111 [00:13<00:00,  8.48it/s, loss=1.6, v_num=89, test_loss=1.640] And now were ask me wounts the pait.\n",
      "\n",
      "PLUCIO:\n",
      "No, soul with a seen the s\n",
      "Epoch 9: 100%|██████████| 111/111 [00:13<00:00,  8.27it/s, loss=1.59, v_num=89, test_loss=1.630]And now so word, it well, if any tapselty;\n",
      "In dry but sing sent and bloo\n",
      "Epoch 10: 100%|██████████| 111/111 [00:14<00:00,  7.84it/s, loss=1.57, v_num=89, test_loss=1.630]And now you curned thy many heart!\n",
      "\n",
      "CLIFFORD:\n",
      "For then that heart you ha\n",
      "Epoch 11: 100%|██████████| 111/111 [00:15<00:00,  7.29it/s, loss=1.56, v_num=89, test_loss=1.620]And now will her.\n",
      "\n",
      "MENENIUS:\n",
      "O lange, I'll be sitters bray;\n",
      "I am secat a\n",
      "Epoch 12: 100%|██████████| 111/111 [00:15<00:00,  6.98it/s, loss=1.53, v_num=89, test_loss=1.580]And now thee morn fire his be save belo,\n",
      "That stoops beseech it as the b\n",
      "Epoch 13: 100%|██████████| 111/111 [00:16<00:00,  6.87it/s, loss=1.53, v_num=89, test_loss=1.600]And now termion.\n",
      "\n",
      "CLARENCE:\n",
      "And now but whom none all so sumpetions.\n",
      "\n",
      "RO\n",
      "Epoch 14: 100%|██████████| 111/111 [00:16<00:00,  6.87it/s, loss=1.51, v_num=89, test_loss=1.600]And now you doe? stay none ill we shall hold have substand,\n",
      "And bables m\n",
      "Epoch 15: 100%|██████████| 111/111 [00:15<00:00,  7.02it/s, loss=1.5, v_num=89, test_loss=1.550] And now tongther than the my proceed,\n",
      "And bosomian of my degance it in t\n",
      "Epoch 16: 100%|██████████| 111/111 [00:15<00:00,  7.17it/s, loss=1.49, v_num=89, test_loss=1.500]And now men sin.\n",
      "\n",
      "BENVOLIO:\n",
      "Some, but your pursuon'd many friaults,\n",
      "Sir,\n",
      "Epoch 17: 100%|██████████| 111/111 [00:15<00:00,  7.28it/s, loss=1.48, v_num=89, test_loss=1.540]And now that suddle? shall thou have in the hath blessed meet\n",
      "We thomas \n",
      "Epoch 18: 100%|██████████| 111/111 [00:15<00:00,  7.33it/s, loss=1.49, v_num=89, test_loss=1.530]And now all myself, and men show anon meet young a word to murderous bro\n",
      "Epoch 19: 100%|██████████| 111/111 [00:15<00:00,  7.37it/s, loss=1.48, v_num=89, test_loss=1.510]And now the present,\n",
      "My prizieve show at of my colock'd the parted;\n",
      "That\n",
      "Epoch 20: 100%|██████████| 111/111 [00:15<00:00,  7.34it/s, loss=1.47, v_num=89, test_loss=1.480]And now they'll her dreams but sought\n",
      "That thee slumps at their sears, a\n",
      "Epoch 21: 100%|██████████| 111/111 [00:15<00:00,  7.35it/s, loss=1.46, v_num=89, test_loss=1.470]And now with words,\n",
      "That mads fortunes worse by or my poor with batt\n",
      "As \n",
      "Epoch 22: 100%|██████████| 111/111 [00:15<00:00,  7.37it/s, loss=1.45, v_num=89, test_loss=1.480]And now so much time of my hold.\n",
      "But he'll have there possople their to \n",
      "Epoch 23: 100%|██████████| 111/111 [00:14<00:00,  7.41it/s, loss=1.46, v_num=89, test_loss=1.480]And now his head, but that\n",
      "he is that the tent, of strikes of bless' fil\n",
      "Epoch 24: 100%|██████████| 111/111 [00:15<00:00,  7.39it/s, loss=1.44, v_num=89, test_loss=1.500]And now more a gates\n",
      "How thou made a dukes of her so decution\n",
      "He should \n",
      "Epoch 24: 100%|██████████| 111/111 [00:15<00:00,  7.33it/s, loss=1.44, v_num=89, test_loss=1.430]"
     ]
    },
    {
     "name": "stderr",
     "output_type": "stream",
     "text": [
      "`Trainer.fit` stopped: `max_epochs=25` reached.\n"
     ]
    },
    {
     "name": "stdout",
     "output_type": "stream",
     "text": [
      "Epoch 24: 100%|██████████| 111/111 [00:15<00:00,  7.32it/s, loss=1.44, v_num=89, test_loss=1.430]\n"
     ]
    }
   ],
   "source": [
    "# inspired by https://github.com/karpathy/minGPT/blob/master/mingpt/model.py\n",
    "class MinGPT(nn.Module):\n",
    "    def __init__(self, vocab_size, embed_dim, num_layers, dropout):\n",
    "        super().__init__()\n",
    "        self.transformer = nn.Sequential(\n",
    "            nn.Embedding(vocab_size, embed_dim),\n",
    "            nn.Dropout(dropout),\n",
    "            nn.Sequential(*[DecoderLayer(embed_dim, dropout) for _ in range(num_layers)]),\n",
    "            nn.LayerNorm(embed_dim),\n",
    "        )\n",
    "        self.lm_head = nn.Linear(embed_dim, vocab_size, bias=False)\n",
    "    \n",
    "    def forward(self, x):\n",
    "        return self.lm_head(self.transformer(x))\n",
    "\n",
    "    @torch.no_grad()\n",
    "    def generate(self, input_ids, max_new_tokens, top_k=10):\n",
    "        for _ in range(max_new_tokens):\n",
    "            out = self(input_ids[:, -block_size:])\n",
    "            logits = out[:, -1, :]\n",
    "            v, _ = torch.topk(logits, top_k)\n",
    "            logits[logits < v[:, [-1]]] = -float(\"Inf\")\n",
    "            step_res = torch.multinomial(F.softmax(logits, dim=-1), num_samples=1)\n",
    "            # auto-regression\n",
    "            input_ids = torch.cat((input_ids, step_res), dim=1)\n",
    "\n",
    "        return input_ids\n",
    "\n",
    "class DecoderLayer(nn.Module):\n",
    "    def __init__(self, embed_dim, dropout):\n",
    "        super().__init__()\n",
    "        self.ln1 = nn.LayerNorm(embed_dim)\n",
    "        self.attn = AFTFullCumsum(embed_dim, dropout)\n",
    "        self.ln2 = nn.LayerNorm(embed_dim)\n",
    "        self.mlp = nn.Sequential(\n",
    "            nn.Linear(embed_dim, 4 * embed_dim),\n",
    "            nn.GELU(approximate=\"tanh\"),\n",
    "            nn.Linear(4 * embed_dim, embed_dim),\n",
    "            nn.Dropout(dropout)\n",
    "        )\n",
    "        self.register_buffer(\"mask\", ~torch.tril(torch.ones(block_size, block_size)).to(bool).to(device))\n",
    "\n",
    "    def forward(self, x):\n",
    "        B, T, _ = x.shape\n",
    "        x = self.ln1(x)\n",
    "        x = x + self.attn(x, self.mask)\n",
    "        x = x + self.mlp(self.ln2(x))\n",
    "        return x\n",
    "\n",
    "# https://arxiv.org/pdf/2105.14103.pdf\n",
    "# but divide by cumulative sum of exp(k) instead of sum of exp(w) @ exp(k)\n",
    "class AFTFullCumsum(nn.Module):\n",
    "    def __init__(self, embed_dim, dropout):\n",
    "        super().__init__()\n",
    "        self.qkv = nn.Linear(embed_dim, embed_dim * 3)\n",
    "        self.wbias = nn.Parameter(torch.ones(block_size, block_size), requires_grad=True)\n",
    "        self.proj = nn.Linear(embed_dim, embed_dim)\n",
    "        self.drop = nn.Dropout(dropout)\n",
    "    \n",
    "    def forward(self, x, mask):\n",
    "        B, T, C = x.shape\n",
    "        q, k, v = self.qkv(x).chunk(3, dim=-1)\n",
    "\n",
    "        exp_w = self.wbias[:T,:T].masked_fill(mask[:T, :T], -float(\"Inf\")).exp()\n",
    "        exp_k = k.exp()\n",
    "\n",
    "        weighted_avg = torch.einsum(\"ik,bkj->bij\", exp_w, exp_k * v) / torch.cumsum(exp_k, dim=1)\n",
    "        Yt = F.sigmoid(q) * weighted_avg\n",
    "\n",
    "        return self.drop(self.proj(Yt))\n",
    "\n",
    "\n",
    "class Model(pl.LightningModule):\n",
    "    def __init__(self, vocab_size, lr=0.004):\n",
    "        super().__init__()\n",
    "        self.lr = lr\n",
    "        self.model = MinGPT(vocab_size, embed_dim=192, num_layers=3, dropout=0.1)\n",
    "    \n",
    "    def forward(self, x, y=None):\n",
    "        logits = self.model(x)\n",
    "        return logits if y is None else F.cross_entropy(logits.view(-1, logits.size(-1)), y.view(-1), ignore_index=-1)\n",
    "\n",
    "    def train_dataloader(self):\n",
    "        return data.DataLoader(train, batch_size=64, num_workers=0, sampler=data.RandomSampler(train, False, 5_000))\n",
    "\n",
    "    def training_step(self, batch, batch_idx):\n",
    "        return self(*batch)\n",
    "\n",
    "    def val_dataloader(self):\n",
    "        return data.DataLoader(test, batch_size=16, num_workers=0)\n",
    "    \n",
    "    def validation_step(self, batch, batch_idx):\n",
    "        loss = self(*batch)\n",
    "        self.log(\"test_loss\", loss, prog_bar=True, on_step=False, on_epoch=True)\n",
    "        return loss\n",
    "\n",
    "    def validation_epoch_end(self, outs):\n",
    "        with torch.no_grad():\n",
    "            x = torch.tensor([dataset.stoi[s] for s in \"And now \"], dtype=torch.long)[None,...].to(device)\n",
    "            y = self.model.generate(x, 64)[0]\n",
    "            print(\"\".join([dataset.itos[int(i)] for i in y]))\n",
    "\n",
    "    def configure_optimizers(self):\n",
    "        optim = torch.optim.AdamW(self.parameters(), lr=self.lr)\n",
    "        sched = torch.optim.lr_scheduler.ExponentialLR(optim, gamma=0.999, last_epoch=-1)\n",
    "        return [optim], [sched]\n",
    "\n",
    "model = Model(len(dataset.vocab))\n",
    "trainer = pl.Trainer(gradient_clip_val=1.0, max_epochs=25, enable_progress_bar=True, accelerator=\"gpu\" if device == \"cuda\" else \"cpu\")\n",
    "trainer.fit(model)"
   ]
  },
  {
   "cell_type": "code",
   "execution_count": 4,
   "metadata": {},
   "outputs": [
    {
     "name": "stdout",
     "output_type": "stream",
     "text": [
      "O God, O God!\n",
      "\n",
      "DORSET:\n",
      "Why, that, all so? I have\n",
      "Be cannot the second speak some, forth theirl,\n",
      "On all swo, he is: I could not hold not both,\n",
      "Thou wot, with you'll did.\n",
      "\n",
      "JULIET:\n",
      "The, sir, you have, speed, she their sidest is a honour.\n",
      "\n",
      "JULIET:\n",
      "I am him, I was so burder has wing\n",
      "I' too lady; afore noble.\n",
      "\n",
      "RICHARD:\n",
      "Isabs, see, where't.\n",
      "A good not hear him hath the from it;\n",
      "And I know, I am stright, the duke of all thee.\n",
      "And I be speak, aster, not so in he hath speeling he wind his ferewars!\n",
      "For all on that bring other, but by his woe!\n",
      "If sild not my command is a thou hast:\n",
      "And he is sons and the dre show not.\n",
      "\n",
      "PRINN:\n",
      "I would not him, but most, set thou lep-\n"
     ]
    }
   ],
   "source": [
    "y = model.to(device).model.generate(torch.tensor([dataset.stoi[s] for s in \"O God, O God!\"]).unsqueeze(0).to(device), 650)\n",
    "print(\"\".join([dataset.itos[int(i)] for i in y[0]]))"
   ]
  }
 ],
 "metadata": {
  "kernelspec": {
   "display_name": "base",
   "language": "python",
   "name": "python3"
  },
  "language_info": {
   "codemirror_mode": {
    "name": "ipython",
    "version": 3
   },
   "file_extension": ".py",
   "mimetype": "text/x-python",
   "name": "python",
   "nbconvert_exporter": "python",
   "pygments_lexer": "ipython3",
   "version": "3.10.8"
  },
  "orig_nbformat": 4,
  "vscode": {
   "interpreter": {
    "hash": "c070a6546767260d3817b5bdd38c64a6478cec33d40e8bb7d9bbc980115d8646"
   }
  }
 },
 "nbformat": 4,
 "nbformat_minor": 2
}
